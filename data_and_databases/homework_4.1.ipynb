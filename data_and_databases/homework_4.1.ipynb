{
 "cells": [
  {
   "cell_type": "markdown",
   "metadata": {},
   "source": [
    "## homework 4.1: investigating lists and dictionaries using functions\n",
    "\n",
    "In this assignment I will ask you to pick five relatively short texts (poems, paragraphs, short essays, song lyrics, whatever interests you). The main thing is to make sure that each text is around 10 - 20 lines or sentences long. Below, I have selected five poems by Wallace Stevens. In each cell I have made a variable that contains each poem, and then I pass that poem through a function called `text_to_dict` that makes a dictionary for each poem. The dictionary contains the title of the poem, the full text as one string, and a list that contains each line of the poem. The function will also make lists of sentences instead of lines if you want to investigate a prose text (sentence by sentence) instead of a poem (line by line).\n",
    "\n",
    "There are two parts of this assignment. \n",
    "\n",
    "**Part 1**, which should be easy, is to replace the poems with texts of your own choice--and choose to split them by lines or sentences. \n",
    "\n",
    "**Part 2** is to write functions that and investigate your texts. If you want to focus on the functions first, you can go straight to Part 2 and use the poems I have chosen. You can then go back and enter your own texts--your functions should work no matter what text you've chosen.\n"
   ]
  },
  {
   "cell_type": "code",
   "execution_count": 130,
   "metadata": {},
   "outputs": [],
   "source": [
    "#Run this cell toImport regular expressions\n",
    "#And to initialize the all texts list that will contain all of your dictionaries of text\n",
    "import re\n",
    "all_texts = []"
   ]
  },
  {
   "cell_type": "markdown",
   "metadata": {},
   "source": [
    "** understanding the text_to_dict function**\n",
    "\n",
    "You don't have to completely understand this function to use it, but you do need to understand its parameters. It takes three parameters:\n",
    "* `title` is a string you need to write inside function's parameters\n",
    "* `text` is the variable that holds the entire text\n",
    "* `poem` True/False parameter --if it is true it will split your text by line (`\\n`) \n",
    " \tIf it is false it will split your text by sentence ('[.?!])\n",
    "\n",
    "If you look at the function you will see that it builds a dictionary with the following fields:\n",
    "* `title` is the title of the text\n",
    "* `text_as_string` is the full text as a string\n",
    "* `lines` is a list of lines or sentences\n",
    "\n",
    "It returns a dictionary with those fields."
   ]
  },
  {
   "cell_type": "code",
   "execution_count": 131,
   "metadata": {},
   "outputs": [],
   "source": [
    "def text_to_dict(title,text,poem):\n",
    "    dict_of_this_text = {}\n",
    "    dict_of_this_text['title'] = title\n",
    "    dict_of_this_text['text_as_string'] = text\n",
    "    if poem:\n",
    "        text_to_list = text.strip().split('\\n')\n",
    "    else:\n",
    "        text_to_list = re.split(r\"[.?!]\",text)\n",
    "    dict_of_this_text['lines'] = text_to_list\n",
    "    return dict_of_this_text\n"
   ]
  },
  {
   "cell_type": "code",
   "execution_count": 132,
   "metadata": {},
   "outputs": [],
   "source": [
    "#please note: the regular expression I am using to split by sentences\n",
    "#is highly flawed, it is borderline impossible to write a regular expression \n",
    "#that splits 100% perfectly by sentence, but feel free to use this."
   ]
  },
  {
   "cell_type": "markdown",
   "metadata": {},
   "source": [
    "## Part One\n",
    "\n",
    "The next five cells are exactly the same. They define five different texts, and then they pass each text through the `text_to_dict` function. And then they add the resulting dictionary to the all_texts list. \n",
    "\n",
    "In the five cells below enter your five selected texts.\n",
    "\n",
    "**You should do no coding at any point** until the very last cell before part two."
   ]
  },
  {
   "cell_type": "code",
   "execution_count": 133,
   "metadata": {},
   "outputs": [],
   "source": [
    "#To change the text, just put a new text between the quotation mark\n",
    "text0 = '''\n",
    "Der er to mænd i verden,\n",
    "der bestandig krydser min vej.\n",
    "Den ene er ham, jeg elsker,\n",
    "den anden elsker mig.\n",
    "\n",
    "Den ene er i en natlig drøm,\n",
    "der bor i mit mørke sind.\n",
    "Den anden står ved mit hjertes dør,\n",
    "jeg lukker ham aldrig ind.\n",
    "\n",
    "Den ene gav mig et vårligt pust\n",
    "af lykke, der snart for hen.\n",
    "Den anden gav mig sit hele liv,\n",
    "fik aldrig en time igen.\n",
    "\n",
    "Den ene bruser i blodets sang,\n",
    "hvor elskov er ren og fri.\n",
    "Den anden er et med den triste dag,\n",
    "som drømmene drukner i.\n",
    "\n",
    "Hver kvinde står mellem disse to,\n",
    "forelsket, elsket og ren.\n",
    "En gang hvert hundred år kan det ske,\n",
    "de smelter sammen til en.\n",
    "'''\n",
    "#Remember: you need to type the title into the first parameter\n",
    "#place the variable containing the text into the second paramater\n",
    "#If you want to split by line choose True for the third parameter\n",
    "#If you want to split by sentence, choose False\n",
    "transform_it = text_to_dict(\"De evige tre\",text0,True)\n",
    "all_texts.append(transform_it)"
   ]
  },
  {
   "cell_type": "code",
   "execution_count": 134,
   "metadata": {},
   "outputs": [
    {
     "data": {
      "text/plain": [
       "[{'title': 'De evige tre',\n",
       "  'text_as_string': '\\nDer er to mænd i verden,\\nder bestandig krydser min vej.\\nDen ene er ham, jeg elsker,\\nden anden elsker mig.\\n\\nDen ene er i en natlig drøm,\\nder bor i mit mørke sind.\\nDen anden står ved mit hjertes dør,\\njeg lukker ham aldrig ind.\\n\\nDen ene gav mig et vårligt pust\\naf lykke, der snart for hen.\\nDen anden gav mig sit hele liv,\\nfik aldrig en time igen.\\n\\nDen ene bruser i blodets sang,\\nhvor elskov er ren og fri.\\nDen anden er et med den triste dag,\\nsom drømmene drukner i.\\n\\nHver kvinde står mellem disse to,\\nforelsket, elsket og ren.\\nEn gang hvert hundred år kan det ske,\\nde smelter sammen til en.\\n',\n",
       "  'lines': ['Der er to mænd i verden,',\n",
       "   'der bestandig krydser min vej.',\n",
       "   'Den ene er ham, jeg elsker,',\n",
       "   'den anden elsker mig.',\n",
       "   '',\n",
       "   'Den ene er i en natlig drøm,',\n",
       "   'der bor i mit mørke sind.',\n",
       "   'Den anden står ved mit hjertes dør,',\n",
       "   'jeg lukker ham aldrig ind.',\n",
       "   '',\n",
       "   'Den ene gav mig et vårligt pust',\n",
       "   'af lykke, der snart for hen.',\n",
       "   'Den anden gav mig sit hele liv,',\n",
       "   'fik aldrig en time igen.',\n",
       "   '',\n",
       "   'Den ene bruser i blodets sang,',\n",
       "   'hvor elskov er ren og fri.',\n",
       "   'Den anden er et med den triste dag,',\n",
       "   'som drømmene drukner i.',\n",
       "   '',\n",
       "   'Hver kvinde står mellem disse to,',\n",
       "   'forelsket, elsket og ren.',\n",
       "   'En gang hvert hundred år kan det ske,',\n",
       "   'de smelter sammen til en.']}]"
      ]
     },
     "execution_count": 134,
     "metadata": {},
     "output_type": "execute_result"
    }
   ],
   "source": [
    "all_texts"
   ]
  },
  {
   "cell_type": "code",
   "execution_count": 135,
   "metadata": {},
   "outputs": [],
   "source": [
    "text1 = '''\n",
    "Kringsatt av fiender,\n",
    "gå inn i din tid!\n",
    "Under en blodig storm -\n",
    "vi dig til strid!\n",
    "Kanske du spør i angst,\n",
    "udekket, åpen:\n",
    "hvad skal jeg kjempe med,\n",
    "hvad er mitt våpen?\n",
    "\n",
    "Her er dit vern mot vold,\n",
    "her er dit sverd:\n",
    "troen på livet vårt,\n",
    "menneskets verd.\n",
    "For all vår fremtids skyld,\n",
    "søk det og dyrk det,\n",
    "dø om du må - men:\n",
    "øk det og styrk det!\n",
    "\n",
    "Stilt går granatenes\n",
    "glidende bånd.\n",
    "Stans deres drift mot død,\n",
    "stans dem med ånd!\n",
    "Krig er forakt for liv.\n",
    "Fred er å skape.\n",
    "Kast dine krefter inn:\n",
    "døden skal tape!\n",
    "\n",
    "Elsk og berik med drøm\n",
    "alt stort, som var,\n",
    "Gå mot det ukjente,\n",
    "fravrist det svar.\n",
    "Ubygde kraftverker,\n",
    "ukjente stjerner -\n",
    "skap dem, med skånet livs\n",
    "dristige hjerner.\n",
    "\n",
    "Edelt er mennesket,\n",
    "jorden er rik!\n",
    "Finnes her nød og sult,\n",
    "skyldes det svik.\n",
    "Knus det! I livets navn\n",
    "skal urett falle.\n",
    "Solskinn og brød og ånd\n",
    "eies av alle.\n",
    "\n",
    "Da synker våpnene\n",
    "maktesløst ned.\n",
    "Skaper vi menneskeverd\n",
    "skaper vi fred.\n",
    "Den, som med høire arm\n",
    "bærer en byrde,\n",
    "dyr og umistelig,\n",
    "kan ikke myrde.\n",
    "\n",
    "Dette er løftet vårt\n",
    "fra bror til bror:\n",
    "vi vil bli gode mot\n",
    "menskenes jord.\n",
    "Vi vil ta vare på\n",
    "skjønnheten, varmen -\n",
    "som om vi bar et barn\n",
    "varsomt på armen!\n",
    "'''\n",
    "transform_it = text_to_dict(\"Til Ungdommen\",text1,True)\n",
    "all_texts.append(transform_it)"
   ]
  },
  {
   "cell_type": "code",
   "execution_count": 136,
   "metadata": {},
   "outputs": [],
   "source": [
    "text2 = '''\n",
    "Livet er en morgengave, sjælen er et pilgrimskor.             \n",
    "Der står krokus i min have, der står øller på mit bord.       \n",
    "Under himlen hænger lærken som et fjernt bevinget frø,  \n",
    "for en lærke tænker hverken på at kæmpe eller dø.     \n",
    "\n",
    "Her er fredeligt og stille, her er ingen larm og støj.\n",
    "Jeg har sået kruspersille, og et brev med pure løg.\n",
    "Lad alverden slå for panden og bekæmpe spe med spot,\n",
    "jeg vil enes med hinanden og mig selv og ha det godt.\n",
    "\n",
    "Samson gik og styrted’ templer, Peter Freuchen knak sit ben.\n",
    "Ak mod disse to eksempler er min dåd en sølle én.\n",
    "Jeg har aldrig dræbt filistre eller kæmpet med en haj,\n",
    "og når stærke mænd blir bistre, syn’s jeg det er synd for mig.\n",
    "\n",
    "Der er nok som går og sysler med at sprænge kloden væk.\n",
    "Jeg vil ikke ha skærmydsler og kanoner bag min hæk.\n",
    "Mens de andre går og sveder for at gi hinanden lak,\n",
    "vil jeg pusle med rødbeder, selleri og pastinak.\n",
    "\n",
    "Jeg vil ikke slås med bisser, jeg vil så og ikke slå.\n",
    "Selv de rødeste radiser kan man roligt lide på.\n",
    "Der er nok af danske helte som er danske hele dag’n,\n",
    "og går rundt og spænder bælte, mens de råber; Fy for Fan.\n",
    "\n",
    "Tiden går og tiden hverver store mænd til mandig dåd.\n",
    "Jeg reserven blandt reserver bryder ofte ud i gråd.\n",
    "Jeg får nerver og migræne blot jeg skær’ mig på en dolk,\n",
    "og vil hell’re slå min plæne, end slå løs på pæne folk.\n",
    "\n",
    "Livet er en dejlig gave, jorden er en herlig jord.\n",
    "der er øller i min mave, der står krokus på mit bord.\n",
    "Når reserverne skal stille for at splitte kloden ad\n",
    "skriver jeg med kruspersille verdens mindste heltekvad.\n",
    "'''\n",
    "transform_it = text_to_dict(\"Noget om helte\",text2,True)\n",
    "all_texts.append(transform_it)"
   ]
  },
  {
   "cell_type": "code",
   "execution_count": 137,
   "metadata": {},
   "outputs": [
    {
     "data": {
      "text/plain": [
       "''"
      ]
     },
     "execution_count": 137,
     "metadata": {},
     "output_type": "execute_result"
    }
   ],
   "source": [
    "#this will display the 5 line in the 3rd text.\n",
    "all_texts[2]['lines'][4]"
   ]
  },
  {
   "cell_type": "code",
   "execution_count": 138,
   "metadata": {},
   "outputs": [],
   "source": [
    "text3 = '''\n",
    "Hurtige lyse stemmer der hvirvlede ud i det blå ...\n",
    "du var ulykkelig, Tykke, men det ku' vi ikke forstå.\n",
    "Svedig fed og dum ... Helvede satte på spring\n",
    "og væltede dig og cyklen. Vi stod omkring og lo.\n",
    "\n",
    "Du sad på den forreste bænk ... græd ikke, nej glo, glo, glo!\n",
    "når en bange og vittig vikar spørger om to og to.\n",
    "Vikarer i første mellem frelste en tynd disciplin\n",
    "ved at vende det hele mod dig, der forsvarsløs blev til grin.\n",
    "\n",
    "Og da det omsider blev forår for os, der var femten år,\n",
    "og træerne stod og lyste over pigernes bløde hår\n",
    "og du kom, forsigtigt, alvorligt, - da skete det værste af alt:\n",
    "at den, der lo højest af os, var hende det hele gjaldt.\n",
    "\n",
    "Nu ta'r du hævn! Nu går du med skrårem og støvler på,\n",
    "du løfter en arm og det skinner i øjnenes blege blå.\n",
    "For had hån og trusler, det kan et menneske ta' -\n",
    "men ikke det, nej aldrig: Det og grines a' ...\n",
    "\n",
    "Nu er du noget, Tykke! Mand og partikammerat.\n",
    "Og hvis vi en dag skal til muren, så er din hånd parat.\n",
    "Parat til at smadre et knojern ind i min mund, når du slår,\n",
    "for nu vil du dræbe, Tykke, alle de onde år.\n",
    "'''\n",
    "transform_it = text_to_dict(\"Skæbne\",text3,True)\n",
    "all_texts.append(transform_it)"
   ]
  },
  {
   "cell_type": "code",
   "execution_count": 139,
   "metadata": {},
   "outputs": [],
   "source": [
    "text4 = '''\n",
    "Debe haber un poema que hable de ti,\n",
    "un poema que habite algún espacio donde pueda hablarte sin\n",
    "cerrar los ojos,\n",
    "sin llegar necesariamente a la tristeza.\n",
    "Debe haber un poema que hable de ti y de mi.\n",
    "Un poema intenso, como el mar,\n",
    "azul y reposado en las mañanas, oscuro y erizado por las noches\n",
    "irrespetuoso en el orden de las cosas, como el mar\n",
    "que cobija a los peces y cobija también a las estrellas.\n",
    "Deseo para ti el sencillo equilibrio del mar, su profundidad y su\n",
    "silencio,\n",
    "su inmensidad y su belleza.\n",
    "\n",
    "Para ti un poema transparente, sin palabras difíciles que no\n",
    "puedas entender,\n",
    "un poema silencioso que recuerdes sin esfuerzo\n",
    "y sea tierno y frágil como la flor que no me atreví a enredar\n",
    "alguna vez en tu cabello.\n",
    "Pero qué difícil es la flor si apenas la separamos del tallo dura\n",
    "apenas unas horas,\n",
    "qué difícil es el mar si apenas le tocamos se marcha lentamente\n",
    "y vuelve al rato con inesperada furia.\n",
    "No, no quiero eso para ti.\n",
    "Quiero un poema que golpee tu almohada en horas de la noche,\n",
    "un poema donde pueda hallarte dormida, sin memoria,\n",
    "sin pasado posible que te altere.\n",
    "\n",
    "Desde que te conozco voy en busca de ese poema,\n",
    "ya es de noche. Los relojes se detienen cansados en su marcha,\n",
    "la música se suspende en un hilo donde cuelga tristemente tu\n",
    "recuerdo.\n",
    "\n",
    "Ahora pienso en ti y pienso\n",
    "que después de todo conocerte no ha sido tan difícil como escribir\n",
    "este poema\n",
    "'''\n",
    "transform_it = text_to_dict(\"Fragmentos de una alabanza inconclusa\",text4,True)\n",
    "all_texts.append(transform_it)"
   ]
  },
  {
   "cell_type": "markdown",
   "metadata": {},
   "source": [
    "Run the two cells below to confirm that first, you only have five texts in the all_texts list, and next, look at the all_texts list to see the dictionary inside it. "
   ]
  },
  {
   "cell_type": "code",
   "execution_count": 140,
   "metadata": {},
   "outputs": [
    {
     "data": {
      "text/plain": [
       "5"
      ]
     },
     "execution_count": 140,
     "metadata": {},
     "output_type": "execute_result"
    }
   ],
   "source": [
    "len(all_texts)"
   ]
  },
  {
   "cell_type": "code",
   "execution_count": 141,
   "metadata": {},
   "outputs": [
    {
     "data": {
      "text/plain": [
       "'Hurtige lyse stemmer der hvirvlede ud i det blå ...'"
      ]
     },
     "execution_count": 141,
     "metadata": {},
     "output_type": "execute_result"
    }
   ],
   "source": [
    "all_texts[3]['lines'][0]"
   ]
  },
  {
   "cell_type": "markdown",
   "metadata": {},
   "source": [
    "In the cell below, loop through all_texts and print out the title of each text. (This is the only code you need to write for Part One.)"
   ]
  },
  {
   "cell_type": "code",
   "execution_count": 142,
   "metadata": {},
   "outputs": [
    {
     "name": "stdout",
     "output_type": "stream",
     "text": [
      "De evige tre\n",
      "Til Ungdommen\n",
      "Noget om helte\n",
      "Skæbne\n",
      "Fragmentos de una alabanza inconclusa\n"
     ]
    }
   ],
   "source": [
    "###Write your code here\n",
    "\n",
    "for titles in all_texts:\n",
    "    print(titles['title'])"
   ]
  },
  {
   "cell_type": "markdown",
   "metadata": {},
   "source": [
    "## Part Two:  searching within lists and dictionaries\n",
    "In this part, we will be searching through each text and printing out a desired result. The searches, including loops and printing should all be defined in the function. The second cell should just have a function call that executes the function. I have written an example function and call for the first search. For each function that you write you should copy the function from the previous question and modify it so what does what I ask for.\n",
    "\n",
    "For the first six functions, there are no parameters passed to the functions--the calls will just execute the function. Go step-by-step and take your time."
   ]
  },
  {
   "cell_type": "code",
   "execution_count": 143,
   "metadata": {},
   "outputs": [],
   "source": [
    "def get_lengths():\n",
    "    for text in all_texts:\n",
    "        print(text['title'])\n",
    "        print(len(text['text_as_string']))\n",
    "        print(\"------------\")"
   ]
  },
  {
   "cell_type": "code",
   "execution_count": 144,
   "metadata": {},
   "outputs": [
    {
     "name": "stdout",
     "output_type": "stream",
     "text": [
      "De evige tre\n",
      "589\n",
      "------------\n",
      "Til Ungdommen\n",
      "1132\n",
      "------------\n",
      "Noget om helte\n",
      "1542\n",
      "------------\n",
      "Skæbne\n",
      "1065\n",
      "------------\n",
      "Fragmentos de una alabanza inconclusa\n",
      "1373\n",
      "------------\n"
     ]
    }
   ],
   "source": [
    "get_lengths()"
   ]
  },
  {
   "cell_type": "markdown",
   "metadata": {},
   "source": [
    "Question 1\n",
    "Now write a function that gets the **line count for each poem** (or sentence count for each piece of prose). This function is going to be very similar to the last one. Instead of accessing the whole text via text['text_as_string'] which is a string, you need to access the list of lines/sentences and get the length of that list. Everything else should be the same."
   ]
  },
  {
   "cell_type": "code",
   "execution_count": 145,
   "metadata": {},
   "outputs": [],
   "source": [
    "#Write your function here, name it get_line_count()\n",
    "def get_line_count():\n",
    "    for text in all_texts:\n",
    "        print(text['title'])\n",
    "        print(len(text['lines']))\n",
    "        print(\"------------\")    "
   ]
  },
  {
   "cell_type": "code",
   "execution_count": 146,
   "metadata": {},
   "outputs": [
    {
     "name": "stdout",
     "output_type": "stream",
     "text": [
      "De evige tre\n",
      "24\n",
      "------------\n",
      "Til Ungdommen\n",
      "62\n",
      "------------\n",
      "Noget om helte\n",
      "34\n",
      "------------\n",
      "Skæbne\n",
      "24\n",
      "------------\n",
      "Fragmentos de una alabanza inconclusa\n",
      "35\n",
      "------------\n"
     ]
    }
   ],
   "source": [
    "get_line_count()"
   ]
  },
  {
   "cell_type": "markdown",
   "metadata": {},
   "source": [
    "Question 2\n",
    "Now write a function that prints out **one random line or sentence from each text**. Again, this function will look much the same as the last ones, but instead of getting numbers you need to get actual lines. I have included the necessary import and an example of how to get random integers. Basically, for each text you need to get one element from the list of lines/ sentences with a random number between 0 and the length of the list."
   ]
  },
  {
   "cell_type": "code",
   "execution_count": 147,
   "metadata": {},
   "outputs": [],
   "source": [
    "\n",
    "from random import randint\n",
    "#Write your function here name it show_random_lines()\n",
    "\n",
    "def show_random_lines():\n",
    "    for texts in all_texts:\n",
    "        random_num = randint(0, ((len(texts['lines'])-1)))\n",
    "        print(texts['lines'][random_num])\n",
    "        \n",
    "\n",
    "#This should be inside the inner loop \n",
    "#so you get a fresh random number for each text\n",
    "#And it should not be from 0 to 9, but 0 to what?\n",
    "#Keep in mind that the range (0,9) gives you any number \n",
    "#from 0 to 9 including both 0 and 9.\n",
    "#random_num = randint(0, 9)"
   ]
  },
  {
   "cell_type": "code",
   "execution_count": 148,
   "metadata": {},
   "outputs": [
    {
     "name": "stdout",
     "output_type": "stream",
     "text": [
      "Den anden er et med den triste dag,\n",
      "Solskinn og brød og ånd\n",
      "Lad alverden slå for panden og bekæmpe spe med spot,\n",
      "og træerne stod og lyste over pigernes bløde hår\n",
      "apenas unas horas,\n"
     ]
    }
   ],
   "source": [
    "show_random_lines()"
   ]
  },
  {
   "cell_type": "markdown",
   "metadata": {},
   "source": [
    "Question 3\n",
    "This is a little bit different--instead of printing out something from each text, please **print the entire text of the longest text**. Remember in the first function, I printed out the length of each text. Well, you need to test for the longest text as you loop through and when you're done looping through, print out the one that is longest.\n",
    "\n",
    "**Major hints!**: To do this you will need two **tracking variables** set before the loop runs: A numerical one that tracks the longest length (the number), and string variable remembers the actual text that has that length.\n",
    "\n",
    "Like this: longest_length = 0 and longest_text = \"\"\n",
    "\n",
    "When you loop through, you need to test if each text was longer than the last one, and if it is longer--you update longest_length and longest_text to reflect the highest length, and the actual text. When the loop is over you then print out that longest_text string."
   ]
  },
  {
   "cell_type": "code",
   "execution_count": 149,
   "metadata": {},
   "outputs": [],
   "source": [
    "#Write your function here, name it longest_text()"
   ]
  },
  {
   "cell_type": "code",
   "execution_count": 150,
   "metadata": {},
   "outputs": [],
   "source": [
    "def longest_text():\n",
    "    longest_length = 0\n",
    "    longest_text = \"\"\n",
    "    for text in all_texts:\n",
    "        if longest_length < len(text['text_as_string']):\n",
    "            longest_length = len(text['text_as_string'])\n",
    "            longest_text = text['text_as_string']\n",
    "    print(longest_text)"
   ]
  },
  {
   "cell_type": "code",
   "execution_count": 151,
   "metadata": {},
   "outputs": [
    {
     "name": "stdout",
     "output_type": "stream",
     "text": [
      "\n",
      "Livet er en morgengave, sjælen er et pilgrimskor.             \n",
      "Der står krokus i min have, der står øller på mit bord.       \n",
      "Under himlen hænger lærken som et fjernt bevinget frø,  \n",
      "for en lærke tænker hverken på at kæmpe eller dø.     \n",
      "\n",
      "Her er fredeligt og stille, her er ingen larm og støj.\n",
      "Jeg har sået kruspersille, og et brev med pure løg.\n",
      "Lad alverden slå for panden og bekæmpe spe med spot,\n",
      "jeg vil enes med hinanden og mig selv og ha det godt.\n",
      "\n",
      "Samson gik og styrted’ templer, Peter Freuchen knak sit ben.\n",
      "Ak mod disse to eksempler er min dåd en sølle én.\n",
      "Jeg har aldrig dræbt filistre eller kæmpet med en haj,\n",
      "og når stærke mænd blir bistre, syn’s jeg det er synd for mig.\n",
      "\n",
      "Der er nok som går og sysler med at sprænge kloden væk.\n",
      "Jeg vil ikke ha skærmydsler og kanoner bag min hæk.\n",
      "Mens de andre går og sveder for at gi hinanden lak,\n",
      "vil jeg pusle med rødbeder, selleri og pastinak.\n",
      "\n",
      "Jeg vil ikke slås med bisser, jeg vil så og ikke slå.\n",
      "Selv de rødeste radiser kan man roligt lide på.\n",
      "Der er nok af danske helte som er danske hele dag’n,\n",
      "og går rundt og spænder bælte, mens de råber; Fy for Fan.\n",
      "\n",
      "Tiden går og tiden hverver store mænd til mandig dåd.\n",
      "Jeg reserven blandt reserver bryder ofte ud i gråd.\n",
      "Jeg får nerver og migræne blot jeg skær’ mig på en dolk,\n",
      "og vil hell’re slå min plæne, end slå løs på pæne folk.\n",
      "\n",
      "Livet er en dejlig gave, jorden er en herlig jord.\n",
      "der er øller i min mave, der står krokus på mit bord.\n",
      "Når reserverne skal stille for at splitte kloden ad\n",
      "skriver jeg med kruspersille verdens mindste heltekvad.\n",
      "\n"
     ]
    }
   ],
   "source": [
    "longest_text()"
   ]
  },
  {
   "cell_type": "markdown",
   "metadata": {},
   "source": [
    "Question 4\n",
    "This is kind of a combination of the first two functions--write a function that gets the **average line/sentence length for each text**."
   ]
  },
  {
   "cell_type": "code",
   "execution_count": 152,
   "metadata": {},
   "outputs": [],
   "source": [
    "#Write your function here\n",
    "\n",
    "def average_line_length():\n",
    "    for text in all_texts:\n",
    "        print(text['title'])\n",
    "        print(round(len(text['text_as_string'])/len(text['lines'])))\n",
    "        print(\"------------\")"
   ]
  },
  {
   "cell_type": "code",
   "execution_count": 153,
   "metadata": {},
   "outputs": [
    {
     "name": "stdout",
     "output_type": "stream",
     "text": [
      "De evige tre\n",
      "25\n",
      "------------\n",
      "Til Ungdommen\n",
      "18\n",
      "------------\n",
      "Noget om helte\n",
      "45\n",
      "------------\n",
      "Skæbne\n",
      "44\n",
      "------------\n",
      "Fragmentos de una alabanza inconclusa\n",
      "39\n",
      "------------\n"
     ]
    }
   ],
   "source": [
    "average_line_length()"
   ]
  },
  {
   "cell_type": "markdown",
   "metadata": {},
   "source": [
    "Question 5\n",
    "**Print the longest line/sentence in each text**. \n",
    "This is similar to question 3--but your two tracking variables (longest_length and longest_line) need to be placed right before the inside loop--and then you print the lines each time the inside loop ends."
   ]
  },
  {
   "cell_type": "code",
   "execution_count": 154,
   "metadata": {},
   "outputs": [],
   "source": [
    "#Write your function here"
   ]
  },
  {
   "cell_type": "code",
   "execution_count": 155,
   "metadata": {},
   "outputs": [
    {
     "ename": "NameError",
     "evalue": "name 'longest_line_in_each' is not defined",
     "output_type": "error",
     "traceback": [
      "\u001b[0;31m---------------------------------------------------------------------------\u001b[0m",
      "\u001b[0;31mNameError\u001b[0m                                 Traceback (most recent call last)",
      "Cell \u001b[0;32mIn [155], line 1\u001b[0m\n\u001b[0;32m----> 1\u001b[0m longest_line_in_each()\n",
      "\u001b[0;31mNameError\u001b[0m: name 'longest_line_in_each' is not defined"
     ]
    }
   ],
   "source": [
    "longest_line_in_each()"
   ]
  },
  {
   "cell_type": "markdown",
   "metadata": {},
   "source": [
    "Question 6\n",
    "**Print the shortest single line/sentence out of all of the texts that is greater than zero**\n",
    "This is the tricky-ish: You need to place the tracking variables outside the loop (like question 4, but the loop through all of the lines, test for the shortest one (that is greater than 0)."
   ]
  },
  {
   "cell_type": "code",
   "execution_count": null,
   "metadata": {},
   "outputs": [],
   "source": [
    "#Write your function here"
   ]
  },
  {
   "cell_type": "code",
   "execution_count": null,
   "metadata": {},
   "outputs": [],
   "source": [
    "shortest_of_all_lines()"
   ]
  },
  {
   "cell_type": "markdown",
   "metadata": {},
   "source": [
    "## searching with regular expressions\n",
    "In the functions below you will search all the texts using regular expressions. The first few of these functions should not be too challenging--you just need to adjust the regular expression inside the function. At points it gets a little more complex as you have to control the looping through the lists and dictionaries."
   ]
  },
  {
   "cell_type": "code",
   "execution_count": null,
   "metadata": {},
   "outputs": [],
   "source": [
    "def get_this_word(word):\n",
    "    my_regex = r\"\\b\" + word + r\"\\b\"\n",
    "    for text in all_texts:\n",
    "        result = [line for line in text['lines'] if re.search(my_regex, line, re.IGNORECASE)]\n",
    "        if len(result) > 0:\n",
    "            print(text['title'])\n",
    "            [print(line) for line in result]\n",
    "            print(\"------------\")\n",
    "            "
   ]
  },
  {
   "cell_type": "code",
   "execution_count": null,
   "metadata": {},
   "outputs": [
    {
     "name": "stdout",
     "output_type": "stream",
     "text": [
      "The Snow Man\n",
      "One must have a mind of winter \n",
      "And have been cold a long time \n",
      "In the sound of a few leaves, \n",
      "------------\n",
      "Of Mere Being\n",
      "A gold-feathered bird\n",
      "Without human feeling, a foreign song.\n",
      "------------\n",
      "Anecdote of the Jar\n",
      "I placed a jar in Tennessee, \n",
      "And round it was, upon a hill. \n",
      "And tall and of a port in air. \n",
      "------------\n"
     ]
    }
   ],
   "source": [
    "get_this_word('a')"
   ]
  },
  {
   "cell_type": "markdown",
   "metadata": {},
   "source": [
    "Question 7\n",
    "Print out the lines that **start** with the word entered.  You just need copy the function above and then adjust the regular expression a bit."
   ]
  },
  {
   "cell_type": "code",
   "execution_count": null,
   "metadata": {},
   "outputs": [],
   "source": [
    "#Write your function here"
   ]
  },
  {
   "cell_type": "code",
   "execution_count": null,
   "metadata": {},
   "outputs": [],
   "source": [
    "line_starts_with('the')"
   ]
  },
  {
   "cell_type": "markdown",
   "metadata": {},
   "source": [
    "Question 8\n",
    "Print out the lines that **end** with the word entered.  Again you just need to adjust the regular expression here."
   ]
  },
  {
   "cell_type": "code",
   "execution_count": null,
   "metadata": {},
   "outputs": [],
   "source": [
    "#Write your function here"
   ]
  },
  {
   "cell_type": "code",
   "execution_count": null,
   "metadata": {},
   "outputs": [],
   "source": [
    "line_ends_with('the')"
   ]
  },
  {
   "cell_type": "markdown",
   "metadata": {},
   "source": [
    "Question 9\n",
    "Print out **how many times the word was found in each text.** In this case, instead of the list comprehension, you want to run a re.findall() on the string of the text (not the list) and then count the number of elements in the list of results.\n",
    "\n",
    "Hint: use the original function at the beginning of this section, and make the proper adjustments to the variable \"result\""
   ]
  },
  {
   "cell_type": "code",
   "execution_count": null,
   "metadata": {},
   "outputs": [],
   "source": [
    "#Write your function here"
   ]
  },
  {
   "cell_type": "code",
   "execution_count": null,
   "metadata": {},
   "outputs": [],
   "source": [
    "how_many_times('the')"
   ]
  },
  {
   "cell_type": "markdown",
   "metadata": {},
   "source": [
    "Question 10\n",
    "Print out **the text that has the highest occurrence of the word** you searched for. This is similar to the last function, but here you need tracking variables like you had in Question 3.\n"
   ]
  },
  {
   "cell_type": "code",
   "execution_count": null,
   "metadata": {},
   "outputs": [],
   "source": [
    "#Write your function here"
   ]
  },
  {
   "cell_type": "code",
   "execution_count": null,
   "metadata": {},
   "outputs": [],
   "source": [
    "text_with_most_occurance_of('word')"
   ]
  },
  {
   "cell_type": "markdown",
   "metadata": {},
   "source": [
    "Question 11\n",
    "Print out **lines containing words of the length asked**. We are sort of back to basics here, you just need to modify the regular expression of the first function (get_this_word(word)) so that it can take a number parameter for the length of characters in a word."
   ]
  },
  {
   "cell_type": "code",
   "execution_count": null,
   "metadata": {},
   "outputs": [],
   "source": [
    "#Write your function here"
   ]
  },
  {
   "cell_type": "code",
   "execution_count": null,
   "metadata": {},
   "outputs": [],
   "source": [
    "lines_with_words_this_length('10')"
   ]
  },
  {
   "cell_type": "markdown",
   "metadata": {
    "collapsed": true
   },
   "source": [
    "**Final question:** in this cell, describe two functions that you would like to write, not ones that you're able to write, but ones you think would be useful or interesting or fun, or might bring greater insight into a corpus of text. If you feel like trying to write it, go-ahead!"
   ]
  },
  {
   "cell_type": "code",
   "execution_count": null,
   "metadata": {},
   "outputs": [],
   "source": []
  },
  {
   "cell_type": "markdown",
   "metadata": {
    "collapsed": true
   },
   "source": [
    "**Bonus question:** Write a function that counts word frequency: that is, it returns a dictionary with each unique word and its count, sorted by the most frequent. Note, this is highly stack-overflowable -- Python has some built in ways of doing this. If you're doing this, you might as well try to do it on your own. But it's up to you!"
   ]
  },
  {
   "cell_type": "code",
   "execution_count": null,
   "metadata": {},
   "outputs": [],
   "source": []
  }
 ],
 "metadata": {
  "kernelspec": {
   "display_name": "Python 3.11.0rc2 64-bit ('3.11.0rc2')",
   "language": "python",
   "name": "python3"
  },
  "language_info": {
   "codemirror_mode": {
    "name": "ipython",
    "version": 3
   },
   "file_extension": ".py",
   "mimetype": "text/x-python",
   "name": "python",
   "nbconvert_exporter": "python",
   "pygments_lexer": "ipython3",
   "version": "3.11.0rc2"
  },
  "vscode": {
   "interpreter": {
    "hash": "fa07e5dff76123542c28abca75c0e47ea742948dbeeb360ccfbd2a5c7c277f8b"
   }
  }
 },
 "nbformat": 4,
 "nbformat_minor": 2
}
