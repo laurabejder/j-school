{
 "cells": [
  {
   "cell_type": "markdown",
   "metadata": {},
   "source": [
    "# Homework 2: SQL in Python (Data and Databases 2022)\n",
    "\n",
    "The next four homework assignments will be in this iPython notebook format. Read the instructions as you go, and type in the necessary code--then run the cells to see if you got it right. Don't worry if you are new to python for this assignment--the only \"code\" you will be writing are SQL statements that you will paste into each myquery variable.\n",
    "\n",
    "\n",
    "## The Challenges\n",
    "\n",
    "For this homework we will be using the tables we imported from the [UN data site](http://data.un.org/Explorer.aspx). You should already have `wind` and `solar` installed. As you will see, this homework asks that you find one more table of your choice from the UN's Energy statistics an import it into the the same database. [I have posted the instructions here](http://floatingmedia.com/columbia/csv_to_sql.html)\n",
    "\n",
    "These are relatively simple CSV files--the only really important columns are `country`, `year` and `usage`. But the tricky part is that most countries have multiple entries: one for every year the UN has been gathering data on that country. So most of these queries are going to ask you to get electrical usage results based on country and year. (Major hint: JOINs are going to need to be based on country AND year.)\n",
    "\n",
    "In the questions below, we focus on exploratory queries--with an emphasis on aggregates and joins. Read the questions carefully, and then write SQL statements that will get you the correct results. (You will want to explore tables and test out queries directly in the shell before you paste them into Python--the error handling for SQL in Python can be confusing, and there should be no errors in the prewritten Python parts of this document. Also, sometimes an error in Python will break your connection with the database--see conn.rollback() below for that solution.\n"
   ]
  },
  {
   "cell_type": "markdown",
   "metadata": {},
   "source": [
    "First things first: Connect to database! \n",
    "(Make sure the cell is selected, then go to the cell menubar and choose \"Run Cells\")"
   ]
  },
  {
   "cell_type": "code",
   "execution_count": 167,
   "metadata": {},
   "outputs": [
    {
     "name": "stdout",
     "output_type": "stream",
     "text": [
      "<class 'pg8000.legacy.Connection'>\n"
     ]
    }
   ],
   "source": [
    "import pg8000\n",
    "# use whatever username information you used in classed to connect\n",
    "conn = pg8000.connect(database=\"un_data\",user=\"laurabejderjensen\")\n",
    "print(type(conn))"
   ]
  },
  {
   "cell_type": "markdown",
   "metadata": {},
   "source": []
  },
  {
   "cell_type": "markdown",
   "metadata": {},
   "source": [
    "If the connection isn't working make sure that you have typed in the name of the database correctly, and your username as well. \n",
    "\n",
    "If you get an error when running one of the SQL cells below, run this conn.rollback() cell to restart your connection."
   ]
  },
  {
   "cell_type": "code",
   "execution_count": 168,
   "metadata": {},
   "outputs": [],
   "source": [
    "conn.rollback()"
   ]
  },
  {
   "cell_type": "code",
   "execution_count": null,
   "metadata": {},
   "outputs": [],
   "source": []
  },
  {
   "cell_type": "markdown",
   "metadata": {},
   "source": [
    "## Question 1: Simple(ish) Query \n",
    "\n",
    "Create a statement that searches for the top 15 countries for solar energy usage in 2014. So figure out first what table you are searching and what columns you need (you can figure out the columns by looking at the sample results below). Then you need to test by year so you only get results from 2014, and order it correctly.\n",
    "\n",
    "```\n",
    "Germany 36056.0 mil\n",
    "United States 25764.0 mil\n",
    "China 25134.0 mil\n",
    "Japan 22952.0 mil\n",
    "Italy 22306.0 mil\n",
    "Spain 13673.0 mil\n",
    "France 6392.0 mil\n",
    "India 5020.0 mil\n",
    "United Kingdom 4054.0 mil\n",
    "Australia 4010.0 mil\n",
    "Greece 3792.0 mil\n",
    "Belgium 2886.0 mil\n",
    "Korea, Republic of 2557.0 mil\n",
    "Czechia 2123.0 mil\n",
    "Canada 2120.0 mil\n",
    "```"
   ]
  },
  {
   "cell_type": "code",
   "execution_count": 169,
   "metadata": {},
   "outputs": [
    {
     "name": "stdout",
     "output_type": "stream",
     "text": [
      "Germany 36056.0 mil\n",
      "United States 25764.0 mil\n",
      "China 25134.0 mil\n",
      "Japan 22952.0 mil\n",
      "Italy 22306.0 mil\n",
      "Spain 13673.0 mil\n",
      "France 6392.0 mil\n",
      "India 5020.0 mil\n",
      "United Kingdom 4054.0 mil\n",
      "Australia 4010.0 mil\n",
      "Greece 3792.0 mil\n",
      "Belgium 2886.0 mil\n",
      "Korea, Republic of 2557.0 mil\n",
      "Czechia 2123.0 mil\n",
      "Canada 2120.0 mil\n"
     ]
    }
   ],
   "source": [
    "cursor = conn.cursor()\n",
    "myquery = ''' \n",
    "SELECT country, usage \n",
    "FROM solar \n",
    "WHERE year = 2014 \n",
    "ORDER BY usage DESC NULLS LAST \n",
    "LIMIT 15;\n",
    "'''\n",
    "cursor.execute(myquery)\n",
    "for row in cursor:\n",
    "    print(row[0], row[1], \"mil\")"
   ]
  },
  {
   "cell_type": "markdown",
   "metadata": {},
   "source": [
    "## Question 2: aggregate query\n",
    "\n",
    "Using avg(), get the average solar energy usage for each country, and display only the countries with an average that is above 500 (million). Make sure it is properly ordered like the results below, and wrap your avg column in round() to get round numbers:\n",
    "\n",
    "```\n",
    "91339.0 China\n",
    "20425.0 India\n",
    "14084.0 United States\n",
    "12142.0 Germany\n",
    "11094.0 Japan\n",
    "6414.0 Italy\n",
    "4488.0 Spain\n",
    "3532.0 Turkey\n",
    "2992.0 United Kingdom\n",
    "2733.0 Brazil\n",
    "2631.0 France\n",
    "2215.0 Chile\n",
    "2098.0 Australia\n",
    "1875.0 Greece\n",
    "1775.0 Thailand\n",
    "1702.0 Belgium\n",
    "1634.0 South Africa\n",
    "1545.0 Korea, Republic of\n",
    "1462.0 Czechia\n",
    "1284.0 Jordan\n",
    "1044.0 Other Asia\n",
    "1002.0 Israel\n",
    "955.0 Bulgaria\n",
    "896.0 Honduras\n",
    "865.0 Romania\n",
    "859.0 Canada\n",
    "855.0 United Arab Emirates\n",
    "794.0 Ukraine\n",
    "671.0 Morocco\n",
    "600.0 Pakistan\n",
    "586.0 Russian Federation\n",
    "543.0 Netherlands\n",
    "```"
   ]
  },
  {
   "cell_type": "code",
   "execution_count": 170,
   "metadata": {},
   "outputs": [
    {
     "name": "stdout",
     "output_type": "stream",
     "text": [
      "China 91339.0\n",
      "India 20425.0\n",
      "United States 14084.0\n",
      "Germany 12142.0\n",
      "Japan 11094.0\n",
      "Italy 6414.0\n",
      "Spain 4488.0\n",
      "Turkey 3532.0\n",
      "United Kingdom 2992.0\n",
      "Brazil 2733.0\n",
      "France 2631.0\n",
      "Chile 2215.0\n",
      "Australia 2098.0\n",
      "Greece 1875.0\n",
      "Thailand 1775.0\n",
      "Belgium 1702.0\n",
      "South Africa 1634.0\n",
      "Korea, Republic of 1545.0\n",
      "Czechia 1462.0\n",
      "Jordan 1284.0\n",
      "Other Asia 1044.0\n",
      "Israel 1002.0\n",
      "Bulgaria 955.0\n",
      "Honduras 896.0\n",
      "Romania 865.0\n",
      "Canada 859.0\n",
      "United Arab Emirates 855.0\n",
      "Ukraine 794.0\n",
      "Morocco 671.0\n",
      "Pakistan 600.0\n",
      "Russian Federation 586.0\n",
      "Netherlands 543.0\n"
     ]
    }
   ],
   "source": [
    "cursor = conn.cursor()\n",
    "myquery = '''\n",
    "SELECT country, round(avg(usage))\n",
    "FROM solar\n",
    "GROUP BY country\n",
    "HAVING round(avg(usage)) > 500\n",
    "ORDER BY round(avg(usage)) DESC;\n",
    "'''\n",
    "cursor.execute(myquery)\n",
    "for row in cursor:\n",
    "    print(row[0],row[1])"
   ]
  },
  {
   "cell_type": "markdown",
   "metadata": {},
   "source": [
    "## Question 3: aggregate query 2\n",
    "\n",
    "Get a list of countries whose Solar Energy data first started being collected in 2012. This is tricky to figure out, but the query should be pretty simple. The main thing you need to figure out is which aggregate function will find the earliest date, and then you need to test if year is 2012. And make it alphabetical by country.\n",
    "\n",
    "\n",
    "```\n",
    "2012 Botswana\n",
    "2012 Fiji\n",
    "2012 Gabon\n",
    "2012 Haiti\n",
    "2012 Lao People's Dem. Rep.\n",
    "2012 Lithuania\n",
    "2012 Marshall Islands\n",
    "2012 Mauritius\n",
    "2012 Nigeria\n",
    "2012 Poland\n",
    "2012 South Sudan\n",
    "2012 St. Helena and Depend.\n",
    "2012 Sudan\n",
    "2012 Suriname\n",
    "2012 United Arab Emirates\n",
    "```\n"
   ]
  },
  {
   "cell_type": "code",
   "execution_count": 171,
   "metadata": {
    "scrolled": true
   },
   "outputs": [
    {
     "name": "stdout",
     "output_type": "stream",
     "text": [
      "Botswana 2012\n",
      "Fiji 2012\n",
      "Gabon 2012\n",
      "Haiti 2012\n",
      "Lao People's Dem. Rep. 2012\n",
      "Lithuania 2012\n",
      "Marshall Islands 2012\n",
      "Mauritius 2012\n",
      "Nigeria 2012\n",
      "Poland 2012\n",
      "South Sudan 2012\n",
      "St. Helena and Depend. 2012\n",
      "Sudan 2012\n",
      "Suriname 2012\n",
      "United Arab Emirates 2012\n"
     ]
    }
   ],
   "source": [
    "cursor = conn.cursor()\n",
    "myquery = '''\n",
    "SELECT country, min(year)\n",
    "FROM solar\n",
    "GROUP BY country\n",
    "HAVING min(year) = 2012\n",
    "ORDER BY country ASC;\n",
    "'''\n",
    "cursor.execute(myquery)\n",
    "for row in cursor:\n",
    "    print(row[0], row[1])"
   ]
  },
  {
   "cell_type": "markdown",
   "metadata": {},
   "source": [
    "## Question 4: JOIN\n",
    "\n",
    "Get the usage of wind AND solar power for Germany for each year in the tables. There should be four columns total, and you will be joining on two criteria.\n",
    "\n",
    "(Please note that in the results below I am using Python to add in the strings \"solar:\" and \"wind:\")\n",
    "\n",
    "\n",
    "\n",
    "```\n",
    "Germany 1991 \twind: 215.0 \tsolar: 1.0\n",
    "Germany 1992 \twind: 291.0 \tsolar: 4.0\n",
    "Germany 1993 \twind: 674.0 \tsolar: 3.0\n",
    "Germany 1994 \twind: 1428.0 \tsolar: 7.0\n",
    "Germany 1995 \twind: 1712.0 \tsolar: 7.0\n",
    "Germany 1996 \twind: 2078.0 \tsolar: 12.0\n",
    "Germany 1997 \twind: 3034.0 \tsolar: 18.0\n",
    "Germany 1998 \twind: 4593.0 \tsolar: 35.0\n",
    "Germany 1999 \twind: 5528.0 \tsolar: 30.0\n",
    "Germany 2000 \twind: 9352.0 \tsolar: 60.0\n",
    "Germany 2001 \twind: 10456.0 \tsolar: 116.0\n",
    "Germany 2002 \twind: 15856.0 \tsolar: 188.0\n",
    "Germany 2003 \twind: 18713.0 \tsolar: 313.0\n",
    "Germany 2004 \twind: 25509.0 \tsolar: 557.0\n",
    "Germany 2005 \twind: 27229.0 \tsolar: 1282.0\n",
    "Germany 2006 \twind: 30710.0 \tsolar: 2220.0\n",
    "Germany 2007 \twind: 39713.0 \tsolar: 3075.0\n",
    "Germany 2008 \twind: 40574.0 \tsolar: 4420.0\n",
    "Germany 2009 \twind: 38647.0 \tsolar: 6584.0\n",
    "Germany 2010 \twind: 38547.0 \tsolar: 11729.0\n",
    "Germany 2011 \twind: 49858.0 \tsolar: 19599.0\n",
    "Germany 2012 \twind: 51680.0 \tsolar: 26380.0\n",
    "Germany 2013 \twind: 52737.0 \tsolar: 31010.0\n",
    "Germany 2014 \twind: 58497.0 \tsolar: 36056.0\n",
    "Germany 2015 \twind: 80624.0 \tsolar: 38726.0\n",
    "Germany 2016 \twind: 79924.0 \tsolar: 38098.0\n",
    "Germany 2017 \twind: 105693.0 \tsolar: 39401.0\n",
    "Germany 2018 \twind: 109951.0 \tsolar: 45784.0\n",
    "Germany 2019 \twind: 125894.0 \tsolar: 46392.0\n",
    "```\n",
    "\n"
   ]
  },
  {
   "cell_type": "code",
   "execution_count": 172,
   "metadata": {},
   "outputs": [
    {
     "name": "stdout",
     "output_type": "stream",
     "text": [
      "Germany 1991 \twind: 215.0 \tsolar: 1.0\n",
      "Germany 1992 \twind: 291.0 \tsolar: 4.0\n",
      "Germany 1993 \twind: 674.0 \tsolar: 3.0\n",
      "Germany 1994 \twind: 1428.0 \tsolar: 7.0\n",
      "Germany 1995 \twind: 1712.0 \tsolar: 7.0\n",
      "Germany 1996 \twind: 2078.0 \tsolar: 12.0\n",
      "Germany 1997 \twind: 3034.0 \tsolar: 18.0\n",
      "Germany 1998 \twind: 4593.0 \tsolar: 35.0\n",
      "Germany 1999 \twind: 5528.0 \tsolar: 30.0\n",
      "Germany 2000 \twind: 9352.0 \tsolar: 60.0\n",
      "Germany 2001 \twind: 10456.0 \tsolar: 116.0\n",
      "Germany 2002 \twind: 15856.0 \tsolar: 188.0\n",
      "Germany 2003 \twind: 18713.0 \tsolar: 313.0\n",
      "Germany 2004 \twind: 25509.0 \tsolar: 557.0\n",
      "Germany 2005 \twind: 27229.0 \tsolar: 1282.0\n",
      "Germany 2006 \twind: 30710.0 \tsolar: 2220.0\n",
      "Germany 2007 \twind: 39713.0 \tsolar: 3075.0\n",
      "Germany 2008 \twind: 40574.0 \tsolar: 4420.0\n",
      "Germany 2009 \twind: 38647.0 \tsolar: 6584.0\n",
      "Germany 2010 \twind: 38547.0 \tsolar: 11729.0\n",
      "Germany 2011 \twind: 49858.0 \tsolar: 19599.0\n",
      "Germany 2012 \twind: 51680.0 \tsolar: 26380.0\n",
      "Germany 2013 \twind: 52737.0 \tsolar: 31010.0\n",
      "Germany 2014 \twind: 58497.0 \tsolar: 36056.0\n",
      "Germany 2015 \twind: 80624.0 \tsolar: 38726.0\n",
      "Germany 2016 \twind: 79924.0 \tsolar: 38098.0\n",
      "Germany 2017 \twind: 105693.0 \tsolar: 39401.0\n",
      "Germany 2018 \twind: 109951.0 \tsolar: 45784.0\n",
      "Germany 2019 \twind: 125894.0 \tsolar: 46392.0\n"
     ]
    }
   ],
   "source": [
    "cursor = conn.cursor()\n",
    "myquery = '''\n",
    "SELECT solar.country, solar.year, wind.usage, solar.usage\n",
    "FROM solar\n",
    "JOIN wind ON wind.country=solar.country AND wind.year=solar.year\n",
    "WHERE solar.country = 'Germany'\n",
    "ORDER BY year ASC;\n",
    "'''\n",
    "cursor.execute(myquery)\n",
    "for row in cursor:\n",
    "    print(row[0],row[1],\"\\twind:\",row[2],\"\\tsolar:\",row[3])"
   ]
  },
  {
   "cell_type": "markdown",
   "metadata": {},
   "source": [
    "## Question 5: join with aggregates\n",
    "\n",
    "Get the average wind usage and solar usage for each country. Order your results by average solar usage, and show only the top ten countries.\n",
    "\n",
    "```\n",
    "China wind: 184643.09 \tsolar: 91339.29\n",
    "India wind: 14906.80 \tsolar: 20424.86\n",
    "United States wind: 75203.79 \tsolar: 14083.68\n",
    "Germany wind: 35507.48 \tsolar: 12141.62\n",
    "Japan wind: 2446.25 \tsolar: 11093.53\n",
    "Italy wind: 5955.78 \tsolar: 6414.15\n",
    "Spain wind: 23194.07 \tsolar: 4488.50\n",
    "Turkey wind: 5431.81 \tsolar: 3532.15\n",
    "United Kingdom wind: 13128.51 \tsolar: 2991.66\n",
    "Brazil wind: 20745.71 \tsolar: 2733.12\n",
    "```"
   ]
  },
  {
   "cell_type": "code",
   "execution_count": 173,
   "metadata": {},
   "outputs": [
    {
     "name": "stdout",
     "output_type": "stream",
     "text": [
      "China wind: 184643.00 \tsolar: 91339.00\n",
      "India wind: 14907.00 \tsolar: 20425.00\n",
      "United States wind: 75204.00 \tsolar: 14084.00\n",
      "Germany wind: 35507.00 \tsolar: 12142.00\n",
      "Japan wind: 2446.00 \tsolar: 11094.00\n",
      "Italy wind: 5956.00 \tsolar: 6414.00\n",
      "Spain wind: 23194.00 \tsolar: 4488.00\n",
      "Turkey wind: 5432.00 \tsolar: 3532.00\n",
      "United Kingdom wind: 13129.00 \tsolar: 2992.00\n",
      "Brazil wind: 20746.00 \tsolar: 2733.00\n"
     ]
    }
   ],
   "source": [
    "cursor = conn.cursor()\n",
    "myquery = '''\n",
    "SELECT solar.country, round(avg(wind.usage)) AS wind, round(avg(solar.usage)) AS solar\n",
    "FROM solar\n",
    "JOIN wind ON wind.country=solar.country\n",
    "GROUP BY solar.country\n",
    "ORDER BY avg(solar.usage) DESC\n",
    "LIMIT 10;\n",
    "\n",
    "'''\n",
    "cursor.execute(myquery)\n",
    "for row in cursor:\n",
    "    print(row[0],\"wind:\",\"%.2f\" % row[1],\"\\tsolar:\",\"%.2f\" % row[2])"
   ]
  },
  {
   "cell_type": "markdown",
   "metadata": {},
   "source": [
    "## Question 6: same thing but slightly more complicated\n",
    "\n",
    "Get the average wind usage and solar usage for each country, FROM 2010 TO THE PRESENT. Order your results by average solar usage, and show only the top ten countries.\n",
    "\n",
    "```\n",
    "China wind: 200417.40 \tsolar: 91339.29\n",
    "United States wind: 196527.57 \tsolar: 40154.94\n",
    "Germany wind: 75340.50 \tsolar: 33317.50\n",
    "Japan wind: 5732.55 \tsolar: 31807.88\n",
    "India wind: 36939.70 \tsolar: 20424.86\n",
    "Italy wind: 15065.74 \tsolar: 19122.54\n",
    "Spain wind: 49822.00 \tsolar: 12506.80\n",
    "France wind: 20167.67 \tsolar: 6808.27\n",
    "United Kingdom wind: 35476.83 \tsolar: 6274.08\n",
    "Australia wind: 10545.80 \tsolar: 5567.01\n",
    "```"
   ]
  },
  {
   "cell_type": "code",
   "execution_count": 174,
   "metadata": {
    "scrolled": true
   },
   "outputs": [
    {
     "name": "stdout",
     "output_type": "stream",
     "text": [
      "China wind: 200417.00 \tsolar: 91339.00\n",
      "United States wind: 196528.00 \tsolar: 40155.00\n",
      "Germany wind: 75340.00 \tsolar: 33318.00\n",
      "Japan wind: 5733.00 \tsolar: 31808.00\n",
      "India wind: 36940.00 \tsolar: 20425.00\n",
      "Italy wind: 15066.00 \tsolar: 19123.00\n",
      "Spain wind: 49822.00 \tsolar: 12507.00\n",
      "France wind: 20168.00 \tsolar: 6808.00\n",
      "United Kingdom wind: 35477.00 \tsolar: 6274.00\n",
      "Australia wind: 10546.00 \tsolar: 5567.00\n"
     ]
    }
   ],
   "source": [
    "cursor = conn.cursor()\n",
    "myquery = '''\n",
    "SELECT solar.country, round(avg(wind.usage)), round(avg(solar.usage))\n",
    "FROM solar\n",
    "JOIN wind ON wind.country=solar.country\n",
    "WHERE solar.year > 2009 AND wind.year > 2009\n",
    "GROUP BY solar.country\n",
    "ORDER BY avg(solar.usage) DESC\n",
    "LIMIT 10;\n",
    "\n",
    "'''\n",
    "cursor.execute(myquery)\n",
    "for row in cursor:\n",
    "    print(row[0],\"wind:\",\"%.2f\" % row[1],\"\\tsolar:\",\"%.2f\" % row[2])"
   ]
  },
  {
   "cell_type": "markdown",
   "metadata": {},
   "source": [
    "## Question 7: Building a basic timeseries\n",
    "\n",
    "Step one: get a list of the first year of data and the most recent year of data for each country from the solar table. Limit the results to the first 15 with the oldest year and then in alphabetical order.\n",
    "\n",
    "```\n",
    "Italy 1990 -- 2019\n",
    "Japan 1990 -- 2019\n",
    "Korea, Republic of 1990 -- 2019\n",
    "Mexico 1990 -- 2019\n",
    "Portugal 1990 -- 2019\n",
    "Spain 1990 -- 2019\n",
    "Switzerland 1990 -- 2019\n",
    "United States 1990 -- 2019\n",
    "Finland 1991 -- 2019\n",
    "Germany 1991 -- 2019\n",
    "Netherlands 1991 -- 2019\n",
    "Canada 1992 -- 2019\n",
    "Australia 1993 -- 2019\n",
    "Austria 1993 -- 2019\n",
    "Liechtenstein 1993 -- 2020\n",
    "```"
   ]
  },
  {
   "cell_type": "code",
   "execution_count": 175,
   "metadata": {
    "scrolled": true
   },
   "outputs": [
    {
     "name": "stdout",
     "output_type": "stream",
     "text": [
      "Italy 1990 -- 2019\n",
      "Japan 1990 -- 2019\n",
      "Korea, Republic of 1990 -- 2019\n",
      "Mexico 1990 -- 2019\n",
      "Portugal 1990 -- 2019\n",
      "Spain 1990 -- 2019\n",
      "Switzerland 1990 -- 2019\n",
      "United States 1990 -- 2019\n",
      "Finland 1991 -- 2019\n",
      "Germany 1991 -- 2019\n",
      "Netherlands 1991 -- 2019\n",
      "Canada 1992 -- 2019\n",
      "Australia 1993 -- 2019\n",
      "Austria 1993 -- 2019\n",
      "Liechtenstein 1993 -- 2020\n"
     ]
    }
   ],
   "source": [
    "cursor = conn.cursor()\n",
    "myquery = '''\n",
    "SELECT country, min(year), max(year)\n",
    "FROM solar\n",
    "GROUP BY country\n",
    "ORDER BY min(year) ASC, country ASC\n",
    "LIMIT 15;\n",
    "\n",
    "'''\n",
    "cursor.execute(myquery)\n",
    "for row in cursor:\n",
    "    print(row[0],row[1],\"--\",row[2])"
   ]
  },
  {
   "cell_type": "markdown",
   "metadata": {},
   "source": [
    "## Question 8: Building a basic timeseries\n",
    "\n",
    "Step two: Take that previous query, (order, limit and everything) and turn that into a subquery, and join the solar table on it twice, first to get the usage from the earliest date, next get the usage from the most recent date. Order it by the most usage from the most recent year.\n",
    "\n",
    "Note: to join at the same table twice, you need to alias the table (solar as sl1, solar as sl2). This is getting very challenging, so get as far as you can.\n",
    "```\n",
    "United States 1990 -- 2019 usage change:  666.0 -- 97478.316\n",
    "Japan 1990 -- 2019 usage change:  67.0 -- 68952.571\n",
    "Germany 1991 -- 2019 usage change:  1.0 -- 46392.0\n",
    "Italy 1990 -- 2019 usage change:  4.0 -- 23688.9\n",
    "Spain 1990 -- 2019 usage change:  9.0 -- 15103.0\n",
    "Australia 1993 -- 2019 usage change:  11.0 -- 14848.0\n",
    "Korea, Republic of 1990 -- 2019 usage change:  1.0 -- 12996.018\n",
    "Mexico 1990 -- 2019 usage change:  1.0 -- 7057.0\n",
    "Netherlands 1991 -- 2019 usage change:  1.0 -- 5335.455\n",
    "Canada 1992 -- 2019 usage change:  2.0 -- 4079.0\n",
    "Switzerland 1990 -- 2019 usage change:  1.0 -- 2177.671\n",
    "Austria 1993 -- 2019 usage change:  1.0 -- 1702.093\n",
    "Portugal 1990 -- 2019 usage change:  1.0 -- 1342.252\n",
    "Finland 1991 -- 2019 usage change:  1.0 -- 147.25\n",
    "Liechtenstein 1993 -- 2020 usage change:  0.008 -- 29.7\n",
    "```"
   ]
  },
  {
   "cell_type": "code",
   "execution_count": 176,
   "metadata": {
    "scrolled": true
   },
   "outputs": [
    {
     "name": "stdout",
     "output_type": "stream",
     "text": [
      "United States 1990 -- 2019 usage change:  666.0 -- 97478.316\n",
      "Japan 1990 -- 2019 usage change:  67.0 -- 68952.571\n",
      "Germany 1991 -- 2019 usage change:  1.0 -- 46392.0\n",
      "Italy 1990 -- 2019 usage change:  4.0 -- 23688.9\n",
      "Spain 1990 -- 2019 usage change:  9.0 -- 15103.0\n",
      "Australia 1993 -- 2019 usage change:  11.0 -- 14848.0\n",
      "Korea, Republic of 1990 -- 2019 usage change:  1.0 -- 12996.018\n",
      "Mexico 1990 -- 2019 usage change:  1.0 -- 7057.0\n",
      "Netherlands 1991 -- 2019 usage change:  1.0 -- 5335.455\n",
      "Canada 1992 -- 2019 usage change:  2.0 -- 4079.0\n",
      "Switzerland 1990 -- 2019 usage change:  1.0 -- 2177.671\n",
      "Austria 1993 -- 2019 usage change:  1.0 -- 1702.093\n",
      "Portugal 1990 -- 2019 usage change:  1.0 -- 1342.252\n",
      "Finland 1991 -- 2019 usage change:  1.0 -- 147.25\n",
      "Liechtenstein 1993 -- 2020 usage change:  0.008 -- 29.7\n"
     ]
    }
   ],
   "source": [
    "cursor = conn.cursor()\n",
    "myquery = '''\n",
    "WITH subtable AS (SELECT country, min(year) AS min_year, max(year) AS max_year\n",
    "FROM solar\n",
    "GROUP BY country\n",
    "ORDER BY min_year ASC, country ASC\n",
    "LIMIT 15)\n",
    "SELECT subtable.country, subtable.min_year, subtable.max_year, sl1.usage, sl2.usage\n",
    "FROM subtable\n",
    "JOIN solar AS sl1\n",
    "ON subtable.country = sl1.country AND subtable.min_year = sl1.year\n",
    "JOIN solar AS sl2\n",
    "ON subtable.country = sl2.country AND subtable.max_year = sl2.year\n",
    "ORDER BY sl2.usage DESC NULLS LAST;\n",
    "'''  \n",
    "cursor.execute(myquery)\n",
    "for row in cursor:\n",
    "    print(row[0],row[1],\"--\",row[2],\"usage change: \", row[3],\"--\",row[4])"
   ]
  },
  {
   "cell_type": "markdown",
   "metadata": {},
   "source": [
    "## Question 9: join with aggregates, new data\n",
    "\n",
    "Your final task: go back to the [UN data site](http://data.un.org/Explorer.aspx) and download another table of your choice from the energy statistics. [Full instructions here.](http://floatingmedia.com/columbia/csv_to_sql.html) Choose a table that has similar columns to the wind and energy tables, and input it into your database.  Make sure you test that everything is working in the shell before going back to Python.\n",
    "\n",
    "Now, write a query that joins the third table to the query you made in Question 5. Get the average use for each Energy type: Solar, Wind, and the table you chose. Order it by the energy type you chose (that column should come first after the country). And display the top 10 countries by the average of the energy type that you added, along with the averages for solar and wind.\n"
   ]
  },
  {
   "cell_type": "code",
   "execution_count": 177,
   "metadata": {},
   "outputs": [
    {
     "name": "stdout",
     "output_type": "stream",
     "text": [
      "China 184643.00 91339.00 83073.00\n",
      "India 14907.00 20425.00 20615.00\n",
      "United States 75204.00 14084.00 775318.00\n",
      "Germany 35507.00 12142.00 136672.00\n",
      "Japan 2446.00 11094.00 206422.00\n",
      "Spain 23194.00 4488.00 58134.00\n",
      "United Kingdom 13129.00 2992.00 77001.00\n",
      "Brazil 20746.00 2733.00 10182.00\n",
      "France 8297.00 2631.00 407489.00\n",
      "Belgium 1750.00 1702.00 43583.00\n"
     ]
    }
   ],
   "source": [
    "cursor = conn.cursor()\n",
    "myquery = '''\n",
    "SELECT solar.country, round(avg(wind.usage)) AS wind, round(avg(solar.usage)) AS solar, round(avg(nuclear.usage)) AS nuclear\n",
    "FROM solar\n",
    "INNER JOIN wind ON wind.country=solar.country\n",
    "INNER JOIN nuclear ON nuclear.country=solar.country\n",
    "GROUP BY solar.country\n",
    "ORDER BY avg(solar.usage) DESC\n",
    "LIMIT 10;\n",
    "'''\n",
    "cursor.execute(myquery)\n",
    "for row in cursor:\n",
    "    print(row[0],\"%.2f\" % row[1],\"%.2f\" % row[2],\"%.2f\" % row[3])"
   ]
  },
  {
   "cell_type": "markdown",
   "metadata": {},
   "source": [
    "Great work! You're done."
   ]
  }
 ],
 "metadata": {
  "kernelspec": {
   "display_name": "Python 3.11.0rc2 64-bit ('3.11.0rc2')",
   "language": "python",
   "name": "python3"
  },
  "language_info": {
   "codemirror_mode": {
    "name": "ipython",
    "version": 3
   },
   "file_extension": ".py",
   "mimetype": "text/x-python",
   "name": "python",
   "nbconvert_exporter": "python",
   "pygments_lexer": "ipython3",
   "version": "3.11.0rc2"
  },
  "vscode": {
   "interpreter": {
    "hash": "fa07e5dff76123542c28abca75c0e47ea742948dbeeb360ccfbd2a5c7c277f8b"
   }
  }
 },
 "nbformat": 4,
 "nbformat_minor": 1
}
