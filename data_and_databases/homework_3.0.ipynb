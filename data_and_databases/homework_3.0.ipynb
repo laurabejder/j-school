{
 "cells": [
  {
   "cell_type": "markdown",
   "metadata": {},
   "source": [
    "## Homework 3: Scraping Part One\n",
    "This homework asks you to scrape the dialogue from one act in Shakespeare, please follow the instructions and do the best you can. With the exception of the first cell that imports the request and the beautiful soup library, I have not pre-written any code for you. Do not be afraid--you may look at the tutorial for examples, as well as the Beautiful Soup documentation, and any other Python resource (such a Stack overflow) if need be. \n",
    "\n",
    "This homework is intended to be challenging, if you only get 70% of the stuff done that's great!"
   ]
  },
  {
   "cell_type": "code",
   "execution_count": 157,
   "metadata": {
    "collapsed": true
   },
   "outputs": [],
   "source": [
    "import requests\n",
    "from bs4 import BeautifulSoup"
   ]
  },
  {
   "cell_type": "markdown",
   "metadata": {},
   "source": [
    "## Shakespeare \n",
    "I've posted some relatively simple HTML of the first act of William Shakespeare's The Tempest here: http://floatingmedia.com/columbia/tempest.html please use that URL to download the HTML and put it through Beautiful Soup. (It also may be very helpful for you to go to that page in chrome and inspect elements why you do this.) \n",
    "**Please note: there are 2 scenes in Act 1**\n",
    "\n"
   ]
  },
  {
   "cell_type": "markdown",
   "metadata": {},
   "source": [
    "In the cells below you should you make two lines--a variable that requests and reads the HTML from the URL (http://floatingmedia.com/columbia/tempest.html), and a second variable that passes the raw HTML into Beautiful Soup. You will use that beautiful soup variable to search the HTML."
   ]
  },
  {
   "cell_type": "code",
   "execution_count": 158,
   "metadata": {
    "collapsed": true
   },
   "outputs": [
    {
     "name": "stdout",
     "output_type": "stream",
     "text": [
      "<class 'bs4.BeautifulSoup'>\n"
     ]
    }
   ],
   "source": [
    "my_url = \"http://floatingmedia.com/columbia/tempest.html\"\n",
    "raw_html = requests.get(my_url).content\n",
    "\n",
    "soup_doc = BeautifulSoup(raw_html, \"html.parser\")\n",
    "print(type(soup_doc))"
   ]
  },
  {
   "cell_type": "markdown",
   "metadata": {},
   "source": [
    "Get the title of the play:\n",
    "\n"
   ]
  },
  {
   "cell_type": "code",
   "execution_count": 171,
   "metadata": {
    "collapsed": true
   },
   "outputs": [
    {
     "data": {
      "text/plain": [
       "'The Tempest'"
      ]
     },
     "execution_count": 171,
     "metadata": {},
     "output_type": "execute_result"
    }
   ],
   "source": [
    "soup_doc.find(\"title\").string"
   ]
  },
  {
   "cell_type": "markdown",
   "metadata": {},
   "source": [
    "Get the HTML that contains the setting of Act One Scene 1:"
   ]
  },
  {
   "cell_type": "code",
   "execution_count": 160,
   "metadata": {
    "collapsed": true
   },
   "outputs": [
    {
     "name": "stdout",
     "output_type": "stream",
     "text": [
      "<p class=\"stagedir\"><strong>\n",
      "On a ship at sea</strong></p>\n"
     ]
    }
   ],
   "source": [
    "#First I define a variable that contains all the HTML in the first 'div'\n",
    "first_div = soup_doc.find('div')\n",
    "\n",
    "#Then I create a variable that finds the second p in the first div - which should contain\n",
    "# the first \n",
    "stage_setting = first_div.find_all('p')[1]\n",
    "\n",
    "print(stage_setting)"
   ]
  },
  {
   "cell_type": "markdown",
   "metadata": {},
   "source": [
    "Get the setting of Act One Scene 1 (without HTML tags):"
   ]
  },
  {
   "cell_type": "code",
   "execution_count": 178,
   "metadata": {
    "collapsed": true
   },
   "outputs": [
    {
     "data": {
      "text/plain": [
       "'\\nOn a ship at sea'"
      ]
     },
     "execution_count": 178,
     "metadata": {},
     "output_type": "execute_result"
    }
   ],
   "source": [
    "#print(stage_setting.string)\n",
    "stage_setting.string"
   ]
  },
  {
   "cell_type": "markdown",
   "metadata": {},
   "source": [
    "Get the setting of scene 2"
   ]
  },
  {
   "cell_type": "code",
   "execution_count": 162,
   "metadata": {
    "collapsed": true
   },
   "outputs": [
    {
     "name": "stdout",
     "output_type": "stream",
     "text": [
      "The island. Before PROSPERO’S cell.\n"
     ]
    }
   ],
   "source": [
    "#First I find the third div where the information about the setting of scene 2 is stored\n",
    "third_div = soup_doc.find_all('div')[2]\n",
    "\n",
    "#Then I take the second p in the first div - again the place where the information about \n",
    "# the setting of scene 2 is stored. \n",
    "stage_setting2 = third_div.find_all('p')[1]\n",
    "\n",
    "print(stage_setting2.string)"
   ]
  },
  {
   "cell_type": "markdown",
   "metadata": {},
   "source": [
    "Get the name of the first character to speak in Scene 1"
   ]
  },
  {
   "cell_type": "code",
   "execution_count": 180,
   "metadata": {
    "collapsed": true
   },
   "outputs": [
    {
     "name": "stdout",
     "output_type": "stream",
     "text": [
      "Master. \n"
     ]
    }
   ],
   "source": [
    "second_div = soup_doc.find_all('div')[1]\n",
    "\n",
    "speaker = second_div.find('ul')\n",
    "\n",
    "#Then I loop through the variable first_speaker to find the first speaker. I use .strong because it \n",
    "#comes right before and after the word I want (?????)\n",
    "\n",
    "for speak in speaker:\n",
    "    first_speaker = speak.strong\n",
    "\n",
    "print(first_speaker.string)"
   ]
  },
  {
   "cell_type": "markdown",
   "metadata": {},
   "source": [
    "Get a list of all of characters in Scene 1 (repeats are fine, you need a loop here)"
   ]
  },
  {
   "cell_type": "code",
   "execution_count": 187,
   "metadata": {
    "collapsed": true
   },
   "outputs": [
    {
     "name": "stdout",
     "output_type": "stream",
     "text": [
      "Master. \n",
      "Boatswain. \n",
      "Master. \n",
      "Boatswain. \n",
      "Alonso. \n",
      "Boatswain. \n",
      "Antonio. \n",
      "Boatswain. \n",
      "Gonzalo. \n",
      "Boatswain. \n",
      "Gonzalo. \n",
      "Boatswain. \n",
      "Gonzalo. \n",
      "Boatswain. \n",
      "Sebastian. \n",
      "Boatswain. \n",
      "Antonio. \n",
      "Gonzalo. \n",
      "Boatswain. \n",
      "Mariners. \n",
      "Boatswain. \n",
      "Gonzalo. \n",
      "Sebastian. \n",
      "Antonio. \n",
      "Gonzalo. \n",
      "Antonio. \n",
      "Sebastian. \n",
      "Gonzalo. \n"
     ]
    }
   ],
   "source": [
    "# First I define a variable containing all the speakers and what they are saying \n",
    "# in scene one (all the ul)\n",
    "speakers = second_div.find_all('ul')\n",
    "\n",
    "#Then I create a loop which takes only the speakers (.strong) and prints their\n",
    "# names without the html (.string)\n",
    "for speakers1 in speakers:\n",
    "    all_speakers = speakers1.strong\n",
    "    print(all_speakers.string) "
   ]
  },
  {
   "cell_type": "markdown",
   "metadata": {},
   "source": [
    "**Bonus:** write a script that takes all the duplicates out of the list. (This is a python thing, not a beautiful soup thing.)"
   ]
  },
  {
   "cell_type": "code",
   "execution_count": 188,
   "metadata": {
    "collapsed": true
   },
   "outputs": [
    {
     "name": "stdout",
     "output_type": "stream",
     "text": [
      "Master. \n",
      "Boatswain. \n",
      "Alonso. \n",
      "Antonio. \n",
      "Gonzalo. \n",
      "Sebastian. \n",
      "Mariners. \n"
     ]
    }
   ],
   "source": [
    "#To get all the unique speakers (every speaker only get printed once) I create an empty list called unique and then I loop through every element in the previous list \n",
    "# 'speakers' and add the speakers name to the new list 'unique' if it is not in it yet. \n",
    "\n",
    "unique = []\n",
    "for speakers1 in speakers:\n",
    "    all_speakers = speakers1.strong\n",
    "    if all_speakers not in unique:\n",
    "        unique.append(all_speakers)\n",
    "\n",
    "# Then I loop through the list of unique names and print each name without the HTML.\n",
    "\n",
    "for uniques in unique:\n",
    "    print(uniques.string)    \n"
   ]
  },
  {
   "cell_type": "markdown",
   "metadata": {},
   "source": [
    "Display every stage direction in _scene 2_"
   ]
  },
  {
   "cell_type": "code",
   "execution_count": 166,
   "metadata": {
    "collapsed": true
   },
   "outputs": [
    {
     "name": "stdout",
     "output_type": "stream",
     "text": [
      "[Enter PROSPERO and MIRANDA]\n",
      "[Enter ARIEL]\n",
      "[Exit]\n",
      "[Enter CALIBAN]\n",
      "[Draws, and is charmed from moving]\n",
      "[Exeunt]\n"
     ]
    }
   ],
   "source": [
    "# First I scrape all the HTML in div 3 which contains all the text from scene 2.\n",
    "scene_2 = soup_doc.find_all('div')[3]\n",
    "\n",
    "#Then I find every p which is the stage direction.\n",
    "stagedir_2 = scene_2.find_all('p')\n",
    "\n",
    "#And print every stagedirection without HTML.\n",
    "for dirs in stagedir_2:\n",
    "    print(dirs.string)"
   ]
  },
  {
   "cell_type": "markdown",
   "metadata": {},
   "source": [
    "Get the HTML containing Miranda's first speech in Scene 2"
   ]
  },
  {
   "cell_type": "code",
   "execution_count": 176,
   "metadata": {
    "collapsed": true
   },
   "outputs": [
    {
     "name": "stdout",
     "output_type": "stream",
     "text": [
      "<ul><li class=\"playtext\"><strong>Miranda. </strong>If by your art, my dearest father, you have\n",
      " <span class=\"playlinenum\">85</span><br/>Put the wild waters in this roar, allay them.\n",
      "<br/>The sky, it seems, would pour down stinking pitch,\n",
      "<br/>But that the sea, mounting to the welkin's cheek,\n",
      "<br/>Dashes the fire out. O, I have suffered\n",
      "<br/>With those that I saw suffer: a brave vessel,\n",
      " <span class=\"playlinenum\">90</span><br/>Who had, no doubt, some noble creature in her,\n",
      "<br/>Dash'd all to pieces. O, the cry did knock\n",
      "<br/>Against my very heart. Poor souls, they perish'd.\n",
      "<br/>Had I been any god of power, I would\n",
      "<br/>Have sunk the sea within the earth or ere\n",
      " <span class=\"playlinenum\">95</span><br/>It should the good ship so have swallow'd and\n",
      "<br/>The fraughting souls within her.\n",
      "</li></ul>\n"
     ]
    }
   ],
   "source": [
    "# Earlier I defined a variable 'scene_2' containing all the HTML from the second scene. Here I ask python to give me the first ul in that scene\n",
    "miranda = scene_2.find('ul')\n",
    "print(miranda)\n"
   ]
  },
  {
   "cell_type": "markdown",
   "metadata": {},
   "source": [
    "Now display those **same lines without the speaker's name, and no HTML.**\n",
    "\n",
    "This is a bit tricky, try to get as close to this result as you can. (Note: I didn't get the numbers out of there, but it's fine if you want to get them out too):\n",
    "\n",
    "`If by your art, my dearest father, you have\n",
    " \n",
    "85\n",
    "Put the wild waters in this roar, allay them.\n",
    "\n",
    "The sky, it seems, would pour down stinking pitch,\n",
    "\n",
    "But that the sea, mounting to the welkin's cheek,\n",
    "\n",
    "Dashes the fire out. O, I have suffered\n",
    "\n",
    "With those that I saw suffer: a brave vessel,\n",
    " \n",
    "90\n",
    "Who had, no doubt, some noble creature in her,\n",
    "\n",
    "Dash'd all to pieces. O, the cry did knock\n",
    "\n",
    "Against my very heart. Poor souls, they perish'd.\n",
    "\n",
    "Had I been any god of power, I would\n",
    "\n",
    "Have sunk the sea within the earth or ere\n",
    " \n",
    "95\n",
    "It should the good ship so have swallow'd and\n",
    "\n",
    "The fraughting souls within her.`"
   ]
  },
  {
   "cell_type": "code",
   "execution_count": 174,
   "metadata": {
    "collapsed": true
   },
   "outputs": [
    {
     "name": "stdout",
     "output_type": "stream",
     "text": [
      "If by your art, my dearest father, you have\n",
      " \n",
      "Put the wild waters in this roar, allay them.\n",
      "\n",
      "The sky, it seems, would pour down stinking pitch,\n",
      "\n",
      "But that the sea, mounting to the welkin's cheek,\n",
      "\n",
      "Dashes the fire out. O, I have suffered\n",
      "\n",
      "With those that I saw suffer: a brave vessel,\n",
      " \n",
      "Who had, no doubt, some noble creature in her,\n",
      "\n",
      "Dash'd all to pieces. O, the cry did knock\n",
      "\n",
      "Against my very heart. Poor souls, they perish'd.\n",
      "\n",
      "Had I been any god of power, I would\n",
      "\n",
      "Have sunk the sea within the earth or ere\n",
      " \n",
      "It should the good ship so have swallow'd and\n",
      "\n",
      "The fraughting souls within her.\n",
      "\n"
     ]
    }
   ],
   "source": [
    "#First (actually as the last thing but whatever...) I get the first line by taking the 'span' in the variable miranda,\n",
    "# which contains all the HTML for Miranda's first speech, and print what comes right before it. THat prints the first\n",
    "# line of her speech.\n",
    "first_line = miranda.span.previous\n",
    "\n",
    "print(first_line)\n",
    "\n",
    "# Then I create a loop which creates a list called speech containing all the line breaks in Miranda's speech.\n",
    "for lines in miranda:\n",
    "   speech = lines.find_all('br')\n",
    "\n",
    "# And then I create a loop that takes every line break (every element in the list speech) and \n",
    "# prints what comes right after it (.next)\n",
    "\n",
    "for speak in speech:\n",
    "    print(speak.next)\n"
   ]
  },
  {
   "cell_type": "markdown",
   "metadata": {},
   "source": [
    "Get the HTML containing the speech after Miranda's"
   ]
  },
  {
   "cell_type": "code",
   "execution_count": 169,
   "metadata": {
    "collapsed": true
   },
   "outputs": [
    {
     "name": "stdout",
     "output_type": "stream",
     "text": [
      "<ul><li class=\"playtext\"><strong>Prospero. </strong>Be collected:\n",
      "<br/>No more amazement: tell your piteous heart\n",
      "<br/>There's no harm done.\n",
      " <span class=\"playlinenum\">100</span></li></ul>\n"
     ]
    }
   ],
   "source": [
    "next_miranda = scene_2.find_all('ul')[1]\n",
    "print(next_miranda)"
   ]
  },
  {
   "cell_type": "markdown",
   "metadata": {
    "collapsed": true
   },
   "source": [
    "All done!"
   ]
  }
 ],
 "metadata": {
  "kernelspec": {
   "display_name": "Python 3.11.0rc2 64-bit ('3.11.0rc2')",
   "language": "python",
   "name": "python3"
  },
  "language_info": {
   "codemirror_mode": {
    "name": "ipython",
    "version": 3
   },
   "file_extension": ".py",
   "mimetype": "text/x-python",
   "name": "python",
   "nbconvert_exporter": "python",
   "pygments_lexer": "ipython3",
   "version": "3.11.0rc2"
  },
  "vscode": {
   "interpreter": {
    "hash": "fa07e5dff76123542c28abca75c0e47ea742948dbeeb360ccfbd2a5c7c277f8b"
   }
  }
 },
 "nbformat": 4,
 "nbformat_minor": 2
}
