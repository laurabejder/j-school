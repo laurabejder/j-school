{
 "cells": [
  {
   "cell_type": "markdown",
   "metadata": {},
   "source": [
    "# Camelot: Text-based PDFs with tables\n",
    "\n",
    "## Installation, part 1\n",
    "\n",
    "First, we'll need to install Ghostscript and Tkinter, two things Camelot depends on. You can follow the [installation instructions](https://camelot-py.readthedocs.io/en/master/user/install-deps.html#install-deps), but I've also reproduced them below.\n",
    "\n",
    "### OS X\n",
    "\n",
    "You can install them on OS X with Homebrew.\n",
    "\n",
    "```\n",
    "brew install ghostscript tcl-tk\n",
    "```\n",
    "\n",
    "This might take a little while.\n",
    "\n",
    "### Windows\n",
    "\n",
    "Download and run the installers for [Ghostscript](https://www.ghostscript.com/download/gsdnld.html) and [ActiveTcl](https://www.activestate.com/products/tcl/downloads/)\n",
    "\n",
    "## Installation, part 2\n",
    "\n",
    "Hopefully they installed correctly, and **now you can actually install Camelot.** [Instructions are here](https://camelot-py.readthedocs.io/en/master/user/install.html#install), but I've also reproduced them below.\n",
    "\n",
    "```\n",
    "pip install \"camelot-py[base]\"\n",
    "```"
   ]
  },
  {
   "cell_type": "code",
   "execution_count": 1,
   "metadata": {},
   "outputs": [
    {
     "name": "stdout",
     "output_type": "stream",
     "text": [
      "Running `brew update --auto-update`...\n",
      "\u001b[34m==>\u001b[0m \u001b[1mAuto-updated Homebrew!\u001b[0m\n",
      "Updated 1 tap (homebrew/cask).\n",
      "\n",
      "You have \u001b[1m4\u001b[0m outdated formulae and \u001b[1m1\u001b[0m outdated cask installed.\n",
      "You can upgrade them with \u001b[1mbrew upgrade\u001b[0m\n",
      "or list them with \u001b[1mbrew outdated\u001b[0m.\n",
      "\n",
      "\u001b[33mWarning:\u001b[0m ghostscript 10.0.0 is already installed and up-to-date.\n",
      "To reinstall 10.0.0, run:\n",
      "  brew reinstall ghostscript\n",
      "\u001b[33mWarning:\u001b[0m tcl-tk 8.6.13 is already installed and up-to-date.\n",
      "To reinstall 8.6.13, run:\n",
      "  brew reinstall tcl-tk\n"
     ]
    }
   ],
   "source": [
    "!brew install ghostscript tcl-tk"
   ]
  },
  {
   "cell_type": "code",
   "execution_count": 5,
   "metadata": {},
   "outputs": [
    {
     "name": "stdout",
     "output_type": "stream",
     "text": [
      "Collecting opencv-python\n",
      "  Using cached opencv_python-4.6.0.66-cp37-abi3-macosx_11_0_arm64.whl (30.0 MB)\n",
      "Requirement already satisfied: numpy>=1.21.2 in /Users/laurabejderjensen/.pyenv/versions/3.11.0rc2/lib/python3.11/site-packages (from opencv-python) (1.23.4)\n",
      "Installing collected packages: opencv-python\n",
      "Successfully installed opencv-python-4.6.0.66\n"
     ]
    }
   ],
   "source": [
    "! pip install opencv-python"
   ]
  },
  {
   "cell_type": "code",
   "execution_count": 6,
   "metadata": {},
   "outputs": [
    {
     "name": "stdout",
     "output_type": "stream",
     "text": [
      "Requirement already satisfied: camelot-py[base] in /Users/laurabejderjensen/.pyenv/versions/3.11.0rc2/lib/python3.11/site-packages (0.9.0)\n",
      "\u001b[33mWARNING: camelot-py 0.9.0 does not provide the extra 'base'\u001b[0m\u001b[33m\n",
      "\u001b[0mRequirement already satisfied: chardet>=3.0.4 in /Users/laurabejderjensen/.pyenv/versions/3.11.0rc2/lib/python3.11/site-packages (from camelot-py[base]) (5.1.0)\n",
      "Requirement already satisfied: click>=6.7 in /Users/laurabejderjensen/.pyenv/versions/3.11.0rc2/lib/python3.11/site-packages (from camelot-py[base]) (8.1.3)\n",
      "Requirement already satisfied: numpy>=1.13.3 in /Users/laurabejderjensen/.pyenv/versions/3.11.0rc2/lib/python3.11/site-packages (from camelot-py[base]) (1.23.4)\n",
      "Requirement already satisfied: openpyxl>=2.5.8 in /Users/laurabejderjensen/.pyenv/versions/3.11.0rc2/lib/python3.11/site-packages (from camelot-py[base]) (3.0.10)\n",
      "Requirement already satisfied: pandas>=0.23.4 in /Users/laurabejderjensen/.pyenv/versions/3.11.0rc2/lib/python3.11/site-packages (from camelot-py[base]) (1.5.1)\n",
      "Requirement already satisfied: pdfminer.six>=20200726 in /Users/laurabejderjensen/.pyenv/versions/3.11.0rc2/lib/python3.11/site-packages (from camelot-py[base]) (20221105)\n",
      "Requirement already satisfied: PyPDF2>=1.26.0 in /Users/laurabejderjensen/.pyenv/versions/3.11.0rc2/lib/python3.11/site-packages (from camelot-py[base]) (2.11.2)\n",
      "Requirement already satisfied: et-xmlfile in /Users/laurabejderjensen/.pyenv/versions/3.11.0rc2/lib/python3.11/site-packages (from openpyxl>=2.5.8->camelot-py[base]) (1.1.0)\n",
      "Requirement already satisfied: python-dateutil>=2.8.1 in /Users/laurabejderjensen/.pyenv/versions/3.11.0rc2/lib/python3.11/site-packages (from pandas>=0.23.4->camelot-py[base]) (2.8.2)\n",
      "Requirement already satisfied: pytz>=2020.1 in /Users/laurabejderjensen/.pyenv/versions/3.11.0rc2/lib/python3.11/site-packages (from pandas>=0.23.4->camelot-py[base]) (2022.6)\n",
      "Requirement already satisfied: charset-normalizer>=2.0.0 in /Users/laurabejderjensen/.pyenv/versions/3.11.0rc2/lib/python3.11/site-packages (from pdfminer.six>=20200726->camelot-py[base]) (2.1.1)\n",
      "Requirement already satisfied: cryptography>=36.0.0 in /Users/laurabejderjensen/.pyenv/versions/3.11.0rc2/lib/python3.11/site-packages (from pdfminer.six>=20200726->camelot-py[base]) (38.0.4)\n",
      "Requirement already satisfied: cffi>=1.12 in /Users/laurabejderjensen/.pyenv/versions/3.11.0rc2/lib/python3.11/site-packages (from cryptography>=36.0.0->pdfminer.six>=20200726->camelot-py[base]) (1.15.1)\n",
      "Requirement already satisfied: six>=1.5 in /Users/laurabejderjensen/.pyenv/versions/3.11.0rc2/lib/python3.11/site-packages (from python-dateutil>=2.8.1->pandas>=0.23.4->camelot-py[base]) (1.16.0)\n",
      "Requirement already satisfied: pycparser in /Users/laurabejderjensen/.pyenv/versions/3.11.0rc2/lib/python3.11/site-packages (from cffi>=1.12->cryptography>=36.0.0->pdfminer.six>=20200726->camelot-py[base]) (2.21)\n"
     ]
    }
   ],
   "source": [
    "! pip install \"camelot-py[base]\""
   ]
  },
  {
   "cell_type": "code",
   "execution_count": 7,
   "metadata": {},
   "outputs": [],
   "source": [
    "import camelot"
   ]
  },
  {
   "cell_type": "code",
   "execution_count": 8,
   "metadata": {},
   "outputs": [
    {
     "ename": "RuntimeError",
     "evalue": "Please make sure that Ghostscript is installed",
     "output_type": "error",
     "traceback": [
      "\u001b[0;31m---------------------------------------------------------------------------\u001b[0m",
      "\u001b[0;31mOSError\u001b[0m                                   Traceback (most recent call last)",
      "File \u001b[0;32m~/.pyenv/versions/3.11.0rc2/lib/python3.11/site-packages/camelot/ext/ghostscript/_gsprint.py:260\u001b[0m\n\u001b[1;32m    259\u001b[0m \u001b[38;5;28;01mtry\u001b[39;00m:\n\u001b[0;32m--> 260\u001b[0m     libgs \u001b[38;5;241m=\u001b[39m \u001b[43mcdll\u001b[49m\u001b[38;5;241;43m.\u001b[39;49m\u001b[43mLoadLibrary\u001b[49m\u001b[43m(\u001b[49m\u001b[38;5;124;43m\"\u001b[39;49m\u001b[38;5;124;43mlibgs.so\u001b[39;49m\u001b[38;5;124;43m\"\u001b[39;49m\u001b[43m)\u001b[49m\n\u001b[1;32m    261\u001b[0m \u001b[38;5;28;01mexcept\u001b[39;00m \u001b[38;5;167;01mOSError\u001b[39;00m:\n\u001b[1;32m    262\u001b[0m     \u001b[38;5;66;03m# shared object file not found\u001b[39;00m\n",
      "File \u001b[0;32m~/.pyenv/versions/3.11.0rc2/lib/python3.11/ctypes/__init__.py:454\u001b[0m, in \u001b[0;36mLibraryLoader.LoadLibrary\u001b[0;34m(self, name)\u001b[0m\n\u001b[1;32m    453\u001b[0m \u001b[38;5;28;01mdef\u001b[39;00m \u001b[38;5;21mLoadLibrary\u001b[39m(\u001b[38;5;28mself\u001b[39m, name):\n\u001b[0;32m--> 454\u001b[0m     \u001b[38;5;28;01mreturn\u001b[39;00m \u001b[38;5;28;43mself\u001b[39;49m\u001b[38;5;241;43m.\u001b[39;49m\u001b[43m_dlltype\u001b[49m\u001b[43m(\u001b[49m\u001b[43mname\u001b[49m\u001b[43m)\u001b[49m\n",
      "File \u001b[0;32m~/.pyenv/versions/3.11.0rc2/lib/python3.11/ctypes/__init__.py:376\u001b[0m, in \u001b[0;36mCDLL.__init__\u001b[0;34m(self, name, mode, handle, use_errno, use_last_error, winmode)\u001b[0m\n\u001b[1;32m    375\u001b[0m \u001b[38;5;28;01mif\u001b[39;00m handle \u001b[38;5;129;01mis\u001b[39;00m \u001b[38;5;28;01mNone\u001b[39;00m:\n\u001b[0;32m--> 376\u001b[0m     \u001b[38;5;28mself\u001b[39m\u001b[38;5;241m.\u001b[39m_handle \u001b[38;5;241m=\u001b[39m \u001b[43m_dlopen\u001b[49m\u001b[43m(\u001b[49m\u001b[38;5;28;43mself\u001b[39;49m\u001b[38;5;241;43m.\u001b[39;49m\u001b[43m_name\u001b[49m\u001b[43m,\u001b[49m\u001b[43m \u001b[49m\u001b[43mmode\u001b[49m\u001b[43m)\u001b[49m\n\u001b[1;32m    377\u001b[0m \u001b[38;5;28;01melse\u001b[39;00m:\n",
      "\u001b[0;31mOSError\u001b[0m: dlopen(libgs.so, 6): image not found",
      "\nDuring handling of the above exception, another exception occurred:\n",
      "\u001b[0;31mRuntimeError\u001b[0m                              Traceback (most recent call last)",
      "Cell \u001b[0;32mIn [8], line 1\u001b[0m\n\u001b[0;32m----> 1\u001b[0m tables \u001b[38;5;241m=\u001b[39m \u001b[43mcamelot\u001b[49m\u001b[38;5;241;43m.\u001b[39;49m\u001b[43mread_pdf\u001b[49m\u001b[43m(\u001b[49m\u001b[38;5;124;43m\"\u001b[39;49m\u001b[38;5;124;43mplayers/players.pdf\u001b[39;49m\u001b[38;5;124;43m\"\u001b[39;49m\u001b[43m)\u001b[49m\n",
      "File \u001b[0;32m~/.pyenv/versions/3.11.0rc2/lib/python3.11/site-packages/camelot/io.py:113\u001b[0m, in \u001b[0;36mread_pdf\u001b[0;34m(filepath, pages, password, flavor, suppress_stdout, layout_kwargs, **kwargs)\u001b[0m\n\u001b[1;32m    111\u001b[0m p \u001b[38;5;241m=\u001b[39m PDFHandler(filepath, pages\u001b[38;5;241m=\u001b[39mpages, password\u001b[38;5;241m=\u001b[39mpassword)\n\u001b[1;32m    112\u001b[0m kwargs \u001b[38;5;241m=\u001b[39m remove_extra(kwargs, flavor\u001b[38;5;241m=\u001b[39mflavor)\n\u001b[0;32m--> 113\u001b[0m tables \u001b[38;5;241m=\u001b[39m \u001b[43mp\u001b[49m\u001b[38;5;241;43m.\u001b[39;49m\u001b[43mparse\u001b[49m\u001b[43m(\u001b[49m\n\u001b[1;32m    114\u001b[0m \u001b[43m    \u001b[49m\u001b[43mflavor\u001b[49m\u001b[38;5;241;43m=\u001b[39;49m\u001b[43mflavor\u001b[49m\u001b[43m,\u001b[49m\n\u001b[1;32m    115\u001b[0m \u001b[43m    \u001b[49m\u001b[43msuppress_stdout\u001b[49m\u001b[38;5;241;43m=\u001b[39;49m\u001b[43msuppress_stdout\u001b[49m\u001b[43m,\u001b[49m\n\u001b[1;32m    116\u001b[0m \u001b[43m    \u001b[49m\u001b[43mlayout_kwargs\u001b[49m\u001b[38;5;241;43m=\u001b[39;49m\u001b[43mlayout_kwargs\u001b[49m\u001b[43m,\u001b[49m\n\u001b[1;32m    117\u001b[0m \u001b[43m    \u001b[49m\u001b[38;5;241;43m*\u001b[39;49m\u001b[38;5;241;43m*\u001b[39;49m\u001b[43mkwargs\u001b[49m\n\u001b[1;32m    118\u001b[0m \u001b[43m\u001b[49m\u001b[43m)\u001b[49m\n\u001b[1;32m    119\u001b[0m \u001b[38;5;28;01mreturn\u001b[39;00m tables\n",
      "File \u001b[0;32m~/.pyenv/versions/3.11.0rc2/lib/python3.11/site-packages/camelot/handlers.py:173\u001b[0m, in \u001b[0;36mPDFHandler.parse\u001b[0;34m(self, flavor, suppress_stdout, layout_kwargs, **kwargs)\u001b[0m\n\u001b[1;32m    171\u001b[0m     parser \u001b[38;5;241m=\u001b[39m Lattice(\u001b[38;5;241m*\u001b[39m\u001b[38;5;241m*\u001b[39mkwargs) \u001b[38;5;28;01mif\u001b[39;00m flavor \u001b[38;5;241m==\u001b[39m \u001b[38;5;124m\"\u001b[39m\u001b[38;5;124mlattice\u001b[39m\u001b[38;5;124m\"\u001b[39m \u001b[38;5;28;01melse\u001b[39;00m Stream(\u001b[38;5;241m*\u001b[39m\u001b[38;5;241m*\u001b[39mkwargs)\n\u001b[1;32m    172\u001b[0m     \u001b[38;5;28;01mfor\u001b[39;00m p \u001b[38;5;129;01min\u001b[39;00m pages:\n\u001b[0;32m--> 173\u001b[0m         t \u001b[38;5;241m=\u001b[39m \u001b[43mparser\u001b[49m\u001b[38;5;241;43m.\u001b[39;49m\u001b[43mextract_tables\u001b[49m\u001b[43m(\u001b[49m\n\u001b[1;32m    174\u001b[0m \u001b[43m            \u001b[49m\u001b[43mp\u001b[49m\u001b[43m,\u001b[49m\u001b[43m \u001b[49m\u001b[43msuppress_stdout\u001b[49m\u001b[38;5;241;43m=\u001b[39;49m\u001b[43msuppress_stdout\u001b[49m\u001b[43m,\u001b[49m\u001b[43m \u001b[49m\u001b[43mlayout_kwargs\u001b[49m\u001b[38;5;241;43m=\u001b[39;49m\u001b[43mlayout_kwargs\u001b[49m\n\u001b[1;32m    175\u001b[0m \u001b[43m        \u001b[49m\u001b[43m)\u001b[49m\n\u001b[1;32m    176\u001b[0m         tables\u001b[38;5;241m.\u001b[39mextend(t)\n\u001b[1;32m    177\u001b[0m \u001b[38;5;28;01mreturn\u001b[39;00m TableList(\u001b[38;5;28msorted\u001b[39m(tables))\n",
      "File \u001b[0;32m~/.pyenv/versions/3.11.0rc2/lib/python3.11/site-packages/camelot/parsers/lattice.py:402\u001b[0m, in \u001b[0;36mLattice.extract_tables\u001b[0;34m(self, filename, suppress_stdout, layout_kwargs)\u001b[0m\n\u001b[1;32m    397\u001b[0m         warnings\u001b[38;5;241m.\u001b[39mwarn(\n\u001b[1;32m    398\u001b[0m             \u001b[38;5;124m\"\u001b[39m\u001b[38;5;124mNo tables found on \u001b[39m\u001b[38;5;132;01m{}\u001b[39;00m\u001b[38;5;124m\"\u001b[39m\u001b[38;5;241m.\u001b[39mformat(os\u001b[38;5;241m.\u001b[39mpath\u001b[38;5;241m.\u001b[39mbasename(\u001b[38;5;28mself\u001b[39m\u001b[38;5;241m.\u001b[39mrootname))\n\u001b[1;32m    399\u001b[0m         )\n\u001b[1;32m    400\u001b[0m     \u001b[38;5;28;01mreturn\u001b[39;00m []\n\u001b[0;32m--> 402\u001b[0m \u001b[38;5;28;43mself\u001b[39;49m\u001b[38;5;241;43m.\u001b[39;49m\u001b[43m_generate_image\u001b[49m\u001b[43m(\u001b[49m\u001b[43m)\u001b[49m\n\u001b[1;32m    403\u001b[0m \u001b[38;5;28mself\u001b[39m\u001b[38;5;241m.\u001b[39m_generate_table_bbox()\n\u001b[1;32m    405\u001b[0m _tables \u001b[38;5;241m=\u001b[39m []\n",
      "File \u001b[0;32m~/.pyenv/versions/3.11.0rc2/lib/python3.11/site-packages/camelot/parsers/lattice.py:211\u001b[0m, in \u001b[0;36mLattice._generate_image\u001b[0;34m(self)\u001b[0m\n\u001b[1;32m    210\u001b[0m \u001b[38;5;28;01mdef\u001b[39;00m \u001b[38;5;21m_generate_image\u001b[39m(\u001b[38;5;28mself\u001b[39m):\n\u001b[0;32m--> 211\u001b[0m     \u001b[38;5;28;01mfrom\u001b[39;00m \u001b[38;5;21;01m.\u001b[39;00m\u001b[38;5;21;01m.\u001b[39;00m\u001b[38;5;21;01mext\u001b[39;00m\u001b[38;5;21;01m.\u001b[39;00m\u001b[38;5;21;01mghostscript\u001b[39;00m \u001b[38;5;28;01mimport\u001b[39;00m Ghostscript\n\u001b[1;32m    213\u001b[0m     \u001b[38;5;28mself\u001b[39m\u001b[38;5;241m.\u001b[39mimagename \u001b[38;5;241m=\u001b[39m \u001b[38;5;124m\"\u001b[39m\u001b[38;5;124m\"\u001b[39m\u001b[38;5;241m.\u001b[39mjoin([\u001b[38;5;28mself\u001b[39m\u001b[38;5;241m.\u001b[39mrootname, \u001b[38;5;124m\"\u001b[39m\u001b[38;5;124m.png\u001b[39m\u001b[38;5;124m\"\u001b[39m])\n\u001b[1;32m    214\u001b[0m     gs_call \u001b[38;5;241m=\u001b[39m \u001b[38;5;124m\"\u001b[39m\u001b[38;5;124m-q -sDEVICE=png16m -o \u001b[39m\u001b[38;5;132;01m{}\u001b[39;00m\u001b[38;5;124m -r\u001b[39m\u001b[38;5;132;01m{}\u001b[39;00m\u001b[38;5;124m \u001b[39m\u001b[38;5;132;01m{}\u001b[39;00m\u001b[38;5;124m\"\u001b[39m\u001b[38;5;241m.\u001b[39mformat(\n\u001b[1;32m    215\u001b[0m         \u001b[38;5;28mself\u001b[39m\u001b[38;5;241m.\u001b[39mimagename, \u001b[38;5;28mself\u001b[39m\u001b[38;5;241m.\u001b[39mresolution, \u001b[38;5;28mself\u001b[39m\u001b[38;5;241m.\u001b[39mfilename\n\u001b[1;32m    216\u001b[0m     )\n",
      "File \u001b[0;32m~/.pyenv/versions/3.11.0rc2/lib/python3.11/site-packages/camelot/ext/ghostscript/__init__.py:24\u001b[0m\n\u001b[1;32m      3\u001b[0m \u001b[38;5;124;03m\"\"\"\u001b[39;00m\n\u001b[1;32m      4\u001b[0m \u001b[38;5;124;03mghostscript - A Python interface for the Ghostscript interpreter C-API\u001b[39;00m\n\u001b[1;32m      5\u001b[0m \u001b[38;5;124;03m\"\"\"\u001b[39;00m\n\u001b[1;32m      6\u001b[0m \u001b[38;5;66;03m#\u001b[39;00m\n\u001b[1;32m      7\u001b[0m \u001b[38;5;66;03m# Modifications 2018 by Vinayak Mehta <vmehta94@gmail.com>\u001b[39;00m\n\u001b[1;32m      8\u001b[0m \u001b[38;5;66;03m# Copyright 2010-2018 by Hartmut Goebel <h.goebel@crazy-compilers.com>\u001b[39;00m\n\u001b[0;32m   (...)\u001b[0m\n\u001b[1;32m     21\u001b[0m \u001b[38;5;66;03m# along with this program. If not, see <http://www.gnu.org/licenses/>.\u001b[39;00m\n\u001b[1;32m     22\u001b[0m \u001b[38;5;66;03m#\u001b[39;00m\n\u001b[0;32m---> 24\u001b[0m \u001b[38;5;28;01mfrom\u001b[39;00m \u001b[38;5;21;01m.\u001b[39;00m \u001b[38;5;28;01mimport\u001b[39;00m _gsprint \u001b[38;5;28;01mas\u001b[39;00m gs\n\u001b[1;32m     27\u001b[0m __author__ \u001b[38;5;241m=\u001b[39m \u001b[38;5;124m\"\u001b[39m\u001b[38;5;124mHartmut Goebel <h.goebel@crazy-compilers.com>\u001b[39m\u001b[38;5;124m\"\u001b[39m\n\u001b[1;32m     28\u001b[0m __copyright__ \u001b[38;5;241m=\u001b[39m \u001b[38;5;124m\"\u001b[39m\u001b[38;5;124mCopyright 2010-2018 by Hartmut Goebel <h.goebel@crazy-compilers.com>\u001b[39m\u001b[38;5;124m\"\u001b[39m\n",
      "File \u001b[0;32m~/.pyenv/versions/3.11.0rc2/lib/python3.11/site-packages/camelot/ext/ghostscript/_gsprint.py:267\u001b[0m\n\u001b[1;32m    265\u001b[0m         libgs \u001b[38;5;241m=\u001b[39m ctypes\u001b[38;5;241m.\u001b[39mutil\u001b[38;5;241m.\u001b[39mfind_library(\u001b[38;5;124m\"\u001b[39m\u001b[38;5;124mgs\u001b[39m\u001b[38;5;124m\"\u001b[39m)\n\u001b[1;32m    266\u001b[0m         \u001b[38;5;28;01mif\u001b[39;00m \u001b[38;5;129;01mnot\u001b[39;00m libgs:\n\u001b[0;32m--> 267\u001b[0m             \u001b[38;5;28;01mraise\u001b[39;00m \u001b[38;5;167;01mRuntimeError\u001b[39;00m(\u001b[38;5;124m\"\u001b[39m\u001b[38;5;124mPlease make sure that Ghostscript is installed\u001b[39m\u001b[38;5;124m\"\u001b[39m)\n\u001b[1;32m    268\u001b[0m         libgs \u001b[38;5;241m=\u001b[39m cdll\u001b[38;5;241m.\u001b[39mLoadLibrary(libgs)\n\u001b[1;32m    270\u001b[0m \u001b[38;5;28;01mdel\u001b[39;00m __win32_finddll\n",
      "\u001b[0;31mRuntimeError\u001b[0m: Please make sure that Ghostscript is installed"
     ]
    }
   ],
   "source": [
    "tables = camelot.read_pdf(\"players/players.pdf\")"
   ]
  },
  {
   "cell_type": "code",
   "execution_count": null,
   "metadata": {},
   "outputs": [],
   "source": []
  },
  {
   "cell_type": "code",
   "execution_count": null,
   "metadata": {},
   "outputs": [],
   "source": []
  },
  {
   "cell_type": "code",
   "execution_count": null,
   "metadata": {},
   "outputs": [],
   "source": []
  },
  {
   "cell_type": "code",
   "execution_count": null,
   "metadata": {},
   "outputs": [],
   "source": []
  },
  {
   "cell_type": "code",
   "execution_count": null,
   "metadata": {},
   "outputs": [],
   "source": []
  },
  {
   "cell_type": "code",
   "execution_count": null,
   "metadata": {},
   "outputs": [],
   "source": []
  },
  {
   "cell_type": "code",
   "execution_count": null,
   "metadata": {},
   "outputs": [],
   "source": []
  },
  {
   "cell_type": "code",
   "execution_count": null,
   "metadata": {},
   "outputs": [],
   "source": []
  },
  {
   "cell_type": "code",
   "execution_count": null,
   "metadata": {
    "scrolled": true
   },
   "outputs": [],
   "source": []
  },
  {
   "cell_type": "code",
   "execution_count": null,
   "metadata": {},
   "outputs": [],
   "source": []
  },
  {
   "cell_type": "code",
   "execution_count": null,
   "metadata": {},
   "outputs": [],
   "source": []
  },
  {
   "cell_type": "code",
   "execution_count": null,
   "metadata": {},
   "outputs": [],
   "source": []
  },
  {
   "cell_type": "code",
   "execution_count": null,
   "metadata": {},
   "outputs": [],
   "source": []
  },
  {
   "cell_type": "code",
   "execution_count": null,
   "metadata": {},
   "outputs": [],
   "source": []
  }
 ],
 "metadata": {
  "kernelspec": {
   "display_name": "Python 3 (ipykernel)",
   "language": "python",
   "name": "python3"
  },
  "language_info": {
   "codemirror_mode": {
    "name": "ipython",
    "version": 3
   },
   "file_extension": ".py",
   "mimetype": "text/x-python",
   "name": "python",
   "nbconvert_exporter": "python",
   "pygments_lexer": "ipython3",
   "version": "3.11.0rc2"
  }
 },
 "nbformat": 4,
 "nbformat_minor": 4
}
