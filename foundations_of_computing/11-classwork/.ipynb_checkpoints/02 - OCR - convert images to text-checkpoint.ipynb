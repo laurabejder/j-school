{
 "cells": [
  {
   "cell_type": "markdown",
   "metadata": {},
   "source": [
    "# Tesseract\n",
    "\n",
    "While there are a lot of paid things out there that will do OCR, [Tesseract](https://github.com/tesseract-ocr/tesseract) is what almost all of the free tools are built on (...and even some of the paid ones!). It isn't as good as things that cost money, but oh well!\n",
    "\n",
    "## Installation\n",
    "\n",
    "### OS X\n",
    "\n",
    "On a Mac, you can install tesseract using Homebrew.\n",
    "\n",
    "```\n",
    "brew install tesseract tesseract-lang\n",
    "```\n",
    "\n",
    "### Windows\n",
    "\n",
    "Install tesseract using [the installer on this page](https://github.com/UB-Mannheim/tesseract/wiki#tesseract-installer-for-windows).\n",
    "\n",
    "## Use\n",
    "\n",
    "While we could use tesseract frorm the command line, we're going to use it in Python using [pytesseract](https://pypi.org/project/pytesseract/). Installing pytesseract *does not install tesseract*, it's just a wrapper that lets us use it from Python.\n",
    "\n",
    "```\n",
    "pip install pytesseract\n",
    "```"
   ]
  },
  {
   "cell_type": "code",
   "execution_count": 1,
   "metadata": {},
   "outputs": [
    {
     "name": "stdout",
     "output_type": "stream",
     "text": [
      "Running `brew update --auto-update`...\n",
      "\u001b[34m==>\u001b[0m \u001b[1mAuto-updated Homebrew!\u001b[0m\n",
      "Updated 3 taps (homebrew/core, homebrew/cask and homebrew/services).\n",
      "\u001b[34m==>\u001b[0m \u001b[1mNew Formulae\u001b[0m\n",
      "akku                       enpass-cli                 pbzx\n",
      "conda-zsh-completion       kubevious                  socket_vmnet\n",
      "countdown                  macpine                    temporal\n",
      "d2                         pandemics                  unxip\n",
      "\u001b[34m==>\u001b[0m \u001b[1mNew Casks\u001b[0m\n",
      "blurscreen      buzz            kopiaui         superkey        tageditor\n",
      "\n",
      "You have \u001b[1m17\u001b[0m outdated formulae and \u001b[1m1\u001b[0m outdated cask installed.\n",
      "You can upgrade them with \u001b[1mbrew upgrade\u001b[0m\n",
      "or list them with \u001b[1mbrew outdated\u001b[0m.\n",
      "\n",
      "\u001b[33mWarning:\u001b[0m tesseract 5.2.0 is already installed and up-to-date.\n",
      "To reinstall 5.2.0, run:\n",
      "  brew reinstall tesseract\n",
      "\u001b[34m==>\u001b[0m \u001b[1mDownloading https://ghcr.io/v2/homebrew/core/libpng/manifests/1.6.39\u001b[0m\n",
      "######################################################################## 100.0%\n",
      "\u001b[34m==>\u001b[0m \u001b[1mDownloading https://ghcr.io/v2/homebrew/core/libpng/blobs/sha256:a19d1b6b4df\u001b[0m\n",
      "\u001b[34m==>\u001b[0m \u001b[1mDownloading from https://pkg-containers.githubusercontent.com/ghcr1/blobs/sh\u001b[0m\n",
      "######################################################################## 100.0%\n",
      "\u001b[34m==>\u001b[0m \u001b[1mDownloading https://ghcr.io/v2/homebrew/core/xz/manifests/5.2.9\u001b[0m\n",
      "######################################################################## 100.0%\n",
      "\u001b[34m==>\u001b[0m \u001b[1mDownloading https://ghcr.io/v2/homebrew/core/xz/blobs/sha256:59be4a80fd5117c\u001b[0m\n",
      "\u001b[34m==>\u001b[0m \u001b[1mDownloading from https://pkg-containers.githubusercontent.com/ghcr1/blobs/sh\u001b[0m\n",
      "######################################################################## 100.0%\n",
      "\u001b[34m==>\u001b[0m \u001b[1mDownloading https://ghcr.io/v2/homebrew/core/tesseract-lang/manifests/4.1.0\u001b[0m\n",
      "######################################################################## 100.0%\n",
      "\u001b[34m==>\u001b[0m \u001b[1mDownloading https://ghcr.io/v2/homebrew/core/tesseract-lang/blobs/sha256:3ce\u001b[0m\n",
      "\u001b[34m==>\u001b[0m \u001b[1mDownloading from https://pkg-containers.githubusercontent.com/ghcr1/blobs/sh\u001b[0m\n",
      "######################################################################## 100.0%\n",
      "\u001b[32m==>\u001b[0m \u001b[1mInstalling dependencies for tesseract-lang: \u001b[32mlibpng\u001b[39m and \u001b[32mxz\u001b[39m\u001b[0m\n",
      "\u001b[32m==>\u001b[0m \u001b[1mInstalling tesseract-lang dependency: \u001b[32mlibpng\u001b[39m\u001b[0m\n",
      "\u001b[34m==>\u001b[0m \u001b[1mPouring libpng--1.6.39.arm64_big_sur.bottle.tar.gz\u001b[0m\n",
      "🍺  /opt/homebrew/Cellar/libpng/1.6.39: 27 files, 1.3MB\n",
      "\u001b[32m==>\u001b[0m \u001b[1mInstalling tesseract-lang dependency: \u001b[32mxz\u001b[39m\u001b[0m\n",
      "\u001b[34m==>\u001b[0m \u001b[1mPouring xz--5.2.9.arm64_big_sur.bottle.tar.gz\u001b[0m\n",
      "🍺  /opt/homebrew/Cellar/xz/5.2.9: 95 files, 1.5MB\n",
      "\u001b[32m==>\u001b[0m \u001b[1mInstalling \u001b[32mtesseract-lang\u001b[39m\u001b[0m\n",
      "\u001b[34m==>\u001b[0m \u001b[1mPouring tesseract-lang--4.1.0.arm64_big_sur.bottle.tar.gz\u001b[0m\n",
      "🍺  /opt/homebrew/Cellar/tesseract-lang/4.1.0: 164 files, 653.9MB\n",
      "\u001b[34m==>\u001b[0m \u001b[1mRunning `brew cleanup tesseract-lang`...\u001b[0m\n",
      "Disable this behaviour by setting HOMEBREW_NO_INSTALL_CLEANUP.\n",
      "Hide these hints with HOMEBREW_NO_ENV_HINTS (see `man brew`).\n",
      "\u001b[34m==>\u001b[0m \u001b[1mUpgrading 4 dependents of upgraded formulae:\u001b[0m\n",
      "Disable this behaviour by setting HOMEBREW_NO_INSTALLED_DEPENDENTS_CHECK.\n",
      "Hide these hints with HOMEBREW_NO_ENV_HINTS (see `man brew`).\n",
      "libbluray 1.3.3 -> 1.3.4, ffmpeg 5.1.2 -> 5.1.2_1, imagemagick 7.1.0-52 -> 7.1.0-53, libheif 1.13.0_1 -> 1.14.0\n",
      "\u001b[34m==>\u001b[0m \u001b[1mDownloading https://ghcr.io/v2/homebrew/core/libbluray/manifests/1.3.4\u001b[0m\n",
      "######################################################################## 100.0%\n",
      "\u001b[34m==>\u001b[0m \u001b[1mDownloading https://ghcr.io/v2/homebrew/core/libbluray/blobs/sha256:b321152d\u001b[0m\n",
      "\u001b[34m==>\u001b[0m \u001b[1mDownloading from https://pkg-containers.githubusercontent.com/ghcr1/blobs/sh\u001b[0m\n",
      "######################################################################## 100.0%\n",
      "\u001b[34m==>\u001b[0m \u001b[1mDownloading https://ghcr.io/v2/homebrew/core/libnghttp2/manifests/1.51.0-1\u001b[0m\n",
      "######################################################################## 100.0%\n",
      "\u001b[34m==>\u001b[0m \u001b[1mDownloading https://ghcr.io/v2/homebrew/core/libnghttp2/blobs/sha256:801da31\u001b[0m\n",
      "\u001b[34m==>\u001b[0m \u001b[1mDownloading from https://pkg-containers.githubusercontent.com/ghcr1/blobs/sh\u001b[0m\n",
      "######################################################################## 100.0%\n",
      "\u001b[34m==>\u001b[0m \u001b[1mDownloading https://ghcr.io/v2/homebrew/core/rav1e/manifests/0.6.1\u001b[0m\n",
      "######################################################################## 100.0%\n",
      "\u001b[34m==>\u001b[0m \u001b[1mDownloading https://ghcr.io/v2/homebrew/core/rav1e/blobs/sha256:2a18dfad1d04\u001b[0m\n",
      "\u001b[34m==>\u001b[0m \u001b[1mDownloading from https://pkg-containers.githubusercontent.com/ghcr1/blobs/sh\u001b[0m\n",
      "######################################################################## 100.0%\n",
      "\u001b[34m==>\u001b[0m \u001b[1mDownloading https://ghcr.io/v2/homebrew/core/mpg123/manifests/1.31.1\u001b[0m\n",
      "######################################################################## 100.0%\n",
      "\u001b[34m==>\u001b[0m \u001b[1mDownloading https://ghcr.io/v2/homebrew/core/mpg123/blobs/sha256:fd6e9184b63\u001b[0m\n",
      "\u001b[34m==>\u001b[0m \u001b[1mDownloading from https://pkg-containers.githubusercontent.com/ghcr1/blobs/sh\u001b[0m\n",
      "######################################################################## 100.0%\n",
      "\u001b[34m==>\u001b[0m \u001b[1mDownloading https://ghcr.io/v2/homebrew/core/rubberband/manifests/3.1.2\u001b[0m\n",
      "######################################################################## 100.0%\n",
      "\u001b[34m==>\u001b[0m \u001b[1mDownloading https://ghcr.io/v2/homebrew/core/rubberband/blobs/sha256:640bc82\u001b[0m\n",
      "\u001b[34m==>\u001b[0m \u001b[1mDownloading from https://pkg-containers.githubusercontent.com/ghcr1/blobs/sh\u001b[0m\n",
      "######################################################################## 100.0%\n",
      "\u001b[34m==>\u001b[0m \u001b[1mDownloading https://ghcr.io/v2/homebrew/core/sdl2/manifests/2.26.1\u001b[0m\n",
      "######################################################################## 100.0%\n",
      "\u001b[34m==>\u001b[0m \u001b[1mDownloading https://ghcr.io/v2/homebrew/core/sdl2/blobs/sha256:b3b7bbb949ccb\u001b[0m\n",
      "\u001b[34m==>\u001b[0m \u001b[1mDownloading from https://pkg-containers.githubusercontent.com/ghcr1/blobs/sh\u001b[0m\n",
      "######################################################################## 100.0%\n",
      "\u001b[34m==>\u001b[0m \u001b[1mDownloading https://ghcr.io/v2/homebrew/core/ffmpeg/manifests/5.1.2_1\u001b[0m\n",
      "######################################################################## 100.0%\n",
      "\u001b[34m==>\u001b[0m \u001b[1mDownloading https://ghcr.io/v2/homebrew/core/ffmpeg/blobs/sha256:6b4dff8fde7\u001b[0m\n",
      "\u001b[34m==>\u001b[0m \u001b[1mDownloading from https://pkg-containers.githubusercontent.com/ghcr1/blobs/sh\u001b[0m\n",
      "######################################################################## 100.0%\n",
      "\u001b[34m==>\u001b[0m \u001b[1mDownloading https://ghcr.io/v2/homebrew/core/libheif/manifests/1.14.0\u001b[0m\n",
      "######################################################################## 100.0%\n",
      "\u001b[34m==>\u001b[0m \u001b[1mDownloading https://ghcr.io/v2/homebrew/core/libheif/blobs/sha256:42305ca670\u001b[0m\n",
      "\u001b[34m==>\u001b[0m \u001b[1mDownloading from https://pkg-containers.githubusercontent.com/ghcr1/blobs/sh\u001b[0m\n",
      "######################################################################## 100.0%\n",
      "\u001b[34m==>\u001b[0m \u001b[1mDownloading https://ghcr.io/v2/homebrew/core/libomp/manifests/15.0.6\u001b[0m\n",
      "######################################################################## 100.0%\n",
      "\u001b[34m==>\u001b[0m \u001b[1mDownloading https://ghcr.io/v2/homebrew/core/libomp/blobs/sha256:39b3aaa82bb\u001b[0m\n",
      "\u001b[34m==>\u001b[0m \u001b[1mDownloading from https://pkg-containers.githubusercontent.com/ghcr1/blobs/sh\u001b[0m\n",
      "######################################################################## 100.0%\n",
      "\u001b[34m==>\u001b[0m \u001b[1mDownloading https://ghcr.io/v2/homebrew/core/imagemagick/manifests/7.1.0-53\u001b[0m\n",
      "######################################################################## 100.0%\n",
      "\u001b[34m==>\u001b[0m \u001b[1mDownloading https://ghcr.io/v2/homebrew/core/imagemagick/blobs/sha256:90cfb1\u001b[0m\n",
      "\u001b[34m==>\u001b[0m \u001b[1mDownloading from https://pkg-containers.githubusercontent.com/ghcr1/blobs/sh\u001b[0m\n",
      "######################################################################## 100.0%\n",
      "\u001b[32m==>\u001b[0m \u001b[1mUpgrading \u001b[32mlibbluray\u001b[39m\n",
      "  1.3.3 -> 1.3.4 \n",
      "\u001b[0m\n",
      "\u001b[34m==>\u001b[0m \u001b[1mPouring libbluray--1.3.4.arm64_big_sur.bottle.tar.gz\u001b[0m\n",
      "🍺  /opt/homebrew/Cellar/libbluray/1.3.4: 21 files, 1.1MB\n",
      "\u001b[34m==>\u001b[0m \u001b[1mRunning `brew cleanup libbluray`...\u001b[0m\n",
      "Removing: /opt/homebrew/Cellar/libbluray/1.3.3... (21 files, 1.1MB)\n",
      "Removing: /Users/laurabejderjensen/Library/Caches/Homebrew/libbluray--1.3.3... (355.8KB)\n",
      "\u001b[32m==>\u001b[0m \u001b[1mUpgrading \u001b[32mffmpeg\u001b[39m\n",
      "  5.1.2 -> 5.1.2_1 \n",
      "\u001b[0m\n"
     ]
    },
    {
     "name": "stdout",
     "output_type": "stream",
     "text": [
      "\u001b[32m==>\u001b[0m \u001b[1mInstalling dependencies for ffmpeg: \u001b[32mlibnghttp2\u001b[39m, \u001b[32mrav1e\u001b[39m, \u001b[32mmpg123\u001b[39m, \u001b[32mrubberband\u001b[39m and \u001b[32msdl2\u001b[39m\u001b[0m\n",
      "\u001b[32m==>\u001b[0m \u001b[1mInstalling ffmpeg dependency: \u001b[32mlibnghttp2\u001b[39m\u001b[0m\n",
      "\u001b[34m==>\u001b[0m \u001b[1mPouring libnghttp2--1.51.0.arm64_big_sur.bottle.1.tar.gz\u001b[0m\n",
      "🍺  /opt/homebrew/Cellar/libnghttp2/1.51.0: 13 files, 721.7KB\n",
      "\u001b[32m==>\u001b[0m \u001b[1mInstalling ffmpeg dependency: \u001b[32mrav1e\u001b[39m\u001b[0m\n",
      "\u001b[34m==>\u001b[0m \u001b[1mPouring rav1e--0.6.1.arm64_big_sur.bottle.tar.gz\u001b[0m\n",
      "🍺  /opt/homebrew/Cellar/rav1e/0.6.1: 14 files, 130.6MB\n",
      "\u001b[32m==>\u001b[0m \u001b[1mInstalling ffmpeg dependency: \u001b[32mmpg123\u001b[39m\u001b[0m\n",
      "\u001b[34m==>\u001b[0m \u001b[1mPouring mpg123--1.31.1.arm64_big_sur.bottle.tar.gz\u001b[0m\n",
      "🍺  /opt/homebrew/Cellar/mpg123/1.31.1: 33 files, 2.0MB\n",
      "\u001b[32m==>\u001b[0m \u001b[1mInstalling ffmpeg dependency: \u001b[32mrubberband\u001b[39m\u001b[0m\n",
      "\u001b[34m==>\u001b[0m \u001b[1mPouring rubberband--3.1.2.arm64_big_sur.bottle.tar.gz\u001b[0m\n",
      "🍺  /opt/homebrew/Cellar/rubberband/3.1.2: 13 files, 1.6MB\n",
      "\u001b[32m==>\u001b[0m \u001b[1mInstalling ffmpeg dependency: \u001b[32msdl2\u001b[39m\u001b[0m\n",
      "\u001b[34m==>\u001b[0m \u001b[1mPouring sdl2--2.26.1.arm64_big_sur.bottle.tar.gz\u001b[0m\n",
      "🍺  /opt/homebrew/Cellar/sdl2/2.26.1: 93 files, 6.4MB\n",
      "\u001b[32m==>\u001b[0m \u001b[1mInstalling \u001b[32mffmpeg\u001b[39m\u001b[0m\n",
      "\u001b[34m==>\u001b[0m \u001b[1mPouring ffmpeg--5.1.2_1.arm64_big_sur.bottle.tar.gz\u001b[0m\n",
      "🍺  /opt/homebrew/Cellar/ffmpeg/5.1.2_1: 282 files, 49.7MB\n",
      "\u001b[34m==>\u001b[0m \u001b[1mRunning `brew cleanup ffmpeg`...\u001b[0m\n",
      "Removing: /opt/homebrew/Cellar/ffmpeg/5.1.2... (282 files, 49.7MB)\n",
      "\u001b[32m==>\u001b[0m \u001b[1mUpgrading \u001b[32mlibheif\u001b[39m\n",
      "  1.13.0_1 -> 1.14.0 \n",
      "\u001b[0m\n",
      "\u001b[34m==>\u001b[0m \u001b[1mPouring libheif--1.14.0.arm64_big_sur.bottle.tar.gz\u001b[0m\n",
      "\u001b[34m==>\u001b[0m \u001b[1m/opt/homebrew/opt/shared-mime-info/bin/update-mime-database /opt/homebrew/sh\u001b[0m\n",
      "🍺  /opt/homebrew/Cellar/libheif/1.14.0: 26 files, 3.0MB\n",
      "\u001b[34m==>\u001b[0m \u001b[1mRunning `brew cleanup libheif`...\u001b[0m\n",
      "Removing: /opt/homebrew/Cellar/libheif/1.13.0_1... (25 files, 2.9MB)\n",
      "\u001b[32m==>\u001b[0m \u001b[1mUpgrading \u001b[32mimagemagick\u001b[39m\n",
      "  7.1.0-52 -> 7.1.0-53 \n",
      "\u001b[0m\n",
      "\u001b[32m==>\u001b[0m \u001b[1mInstalling dependencies for imagemagick: \u001b[32mlibomp\u001b[39m\u001b[0m\n",
      "\u001b[32m==>\u001b[0m \u001b[1mInstalling imagemagick dependency: \u001b[32mlibomp\u001b[39m\u001b[0m\n",
      "\u001b[34m==>\u001b[0m \u001b[1mPouring libomp--15.0.6.arm64_big_sur.bottle.tar.gz\u001b[0m\n",
      "🍺  /opt/homebrew/Cellar/libomp/15.0.6: 7 files, 1.6MB\n",
      "\u001b[32m==>\u001b[0m \u001b[1mInstalling \u001b[32mimagemagick\u001b[39m\u001b[0m\n",
      "\u001b[34m==>\u001b[0m \u001b[1mPouring imagemagick--7.1.0-53.arm64_big_sur.bottle.tar.gz\u001b[0m\n",
      "🍺  /opt/homebrew/Cellar/imagemagick/7.1.0-53: 807 files, 33MB\n",
      "\u001b[34m==>\u001b[0m \u001b[1mRunning `brew cleanup imagemagick`...\u001b[0m\n",
      "Removing: /opt/homebrew/Cellar/imagemagick/7.1.0-52... (805 files, 32.9MB)\n",
      "Removing: /Users/laurabejderjensen/Library/Caches/Homebrew/imagemagick--7.1.0-52... (10.4MB)\n",
      "\u001b[32m==>\u001b[0m \u001b[1mChecking for dependents of upgraded formulae...\u001b[0m\n",
      "\u001b[34m==>\u001b[0m \u001b[1mNo broken dependents found!\u001b[0m\n"
     ]
    }
   ],
   "source": [
    "! brew install tesseract tesseract-lang"
   ]
  },
  {
   "cell_type": "code",
   "execution_count": 2,
   "metadata": {},
   "outputs": [
    {
     "name": "stdout",
     "output_type": "stream",
     "text": [
      "Collecting pytesseract\n",
      "  Downloading pytesseract-0.3.10-py3-none-any.whl (14 kB)\n",
      "Requirement already satisfied: packaging>=21.3 in /Users/laurabejderjensen/.pyenv/versions/3.11.0rc2/lib/python3.11/site-packages (from pytesseract) (21.3)\n",
      "Requirement already satisfied: Pillow>=8.0.0 in /Users/laurabejderjensen/.pyenv/versions/3.11.0rc2/lib/python3.11/site-packages (from pytesseract) (9.3.0)\n",
      "Requirement already satisfied: pyparsing!=3.0.5,>=2.0.2 in /Users/laurabejderjensen/.pyenv/versions/3.11.0rc2/lib/python3.11/site-packages (from packaging>=21.3->pytesseract) (3.0.9)\n",
      "Installing collected packages: pytesseract\n",
      "Successfully installed pytesseract-0.3.10\n"
     ]
    }
   ],
   "source": [
    "! pip install pytesseract"
   ]
  },
  {
   "cell_type": "code",
   "execution_count": 3,
   "metadata": {},
   "outputs": [],
   "source": [
    "import pytesseract"
   ]
  },
  {
   "cell_type": "code",
   "execution_count": 4,
   "metadata": {},
   "outputs": [
    {
     "name": "stdout",
     "output_type": "stream",
     "text": [
      "Player\n",
      "\n",
      "Rhett Bomar\n",
      "Joe Webb\n",
      "Christian Ponder\n",
      "Adrian Peterson\n",
      "Lorenzo Booker\n",
      "Ryan D'Imperio\n",
      "Jeff Dugan\n",
      "\n",
      "Toby Gerhart\n",
      "Greg Camarillo\n",
      "Juaquin Iglesias\n",
      "Freddie Brown\n",
      "Jaymar Johnson\n",
      "Emmanuel Arceneaux\n",
      "Bernard Berrian\n",
      "Percy Harvin\n",
      "Sidney Rice\n",
      "Visanthe Shiancoe\n",
      "Jim Kleinsasser\n",
      "Cullen Loeffler\n",
      "Jon Cooper\n",
      "John Sullivan\n",
      "Anthony Herrera\n",
      "Steve Hutchinson\n",
      "Seth Olsen\n",
      "Chris DeGeare\n",
      "Thomas Welch\n",
      "Phil Loadholt\n",
      "Bryant McKinnie\n",
      "Patrick Brown\n",
      "Ryan Cook\n",
      "Chris Kluwe\n",
      "Brian Robison\n",
      "Kevin Williams\n",
      "Ray Edwards\n",
      "Jared All\n"
     ]
    }
   ],
   "source": [
    "text = pytesseract.image_to_string(\"players/players-scan.jpg\")\n",
    "print(text[:500])"
   ]
  },
  {
   "cell_type": "markdown",
   "metadata": {},
   "source": [
    "## PDFs: OCRmyPDF\n",
    "\n",
    "Neither tesseract nor pytesseract will perform OCR on PDFs. You need some software that builds on top of tesseract to do that! I've personally found [OCRmyPDF](https://github.com/ocrmypdf/OCRmyPDF) to be the best tool. It isn't too hard to install, it isn't too hard to use, and it works as well as any other tesseract-based tool.\n",
    "\n",
    "### Installation\n",
    "\n",
    "You need both steps, unless you'd rather use it from the command line. The first installs the OCRmyPDF software and the second allows Python to use it.\n",
    "\n",
    "**OS X**\n",
    "\n",
    "```bash\n",
    "brew install ocrmypdf\n",
    "pip install ocrmypdf\n",
    "```\n",
    "\n",
    "**Windows**\n",
    "\n",
    "```bash\n",
    "scoop install ocrmypdf\n",
    "pip install ocrmypdf\n",
    "```\n",
    "\n",
    "### Usage\n",
    "\n",
    "It gives you a command line tool "
   ]
  },
  {
   "cell_type": "code",
   "execution_count": 7,
   "metadata": {},
   "outputs": [
    {
     "name": "stdout",
     "output_type": "stream",
     "text": [
      "Scanning contents: 100%|███████████████████████| 1/1 [00:00<00:00, 265.46page/s]\n",
      "OCR: 100%|██████████████████████████████████| 1.0/1.0 [00:05<00:00,  5.53s/page]\n",
      "Postprocessing...\n",
      "PDF/A conversion: 100%|█████████████████████████| 1/1 [00:00<00:00,  4.51page/s]\n",
      "Recompressing JPEGs: 0image [00:00, ?image/s]\n",
      "Deflating JPEGs: 100%|█████████████████████████| 1/1 [00:00<00:00, 77.88image/s]\n",
      "JBIG2: 0item [00:00, ?item/s]\n",
      "Optimize ratio: 1.21 savings: 17.3%\n",
      "Output file is a PDF/A-2B (as expected)\n"
     ]
    }
   ],
   "source": [
    "# Opens up players/players-scan.pdf\n",
    "# Runs OCR on it and gives you players/players-scan-ocr.pdf\n",
    "# Which should be a PDF that has text on it\n",
    "!ocrmypdf --deskew players/players-scan.pdf players/players-scan-ocr.pdf"
   ]
  },
  {
   "cell_type": "code",
   "execution_count": null,
   "metadata": {},
   "outputs": [],
   "source": []
  },
  {
   "cell_type": "markdown",
   "metadata": {},
   "source": [
    "Then you use pdfminer.six to grab the text out of it."
   ]
  },
  {
   "cell_type": "code",
   "execution_count": 8,
   "metadata": {},
   "outputs": [
    {
     "name": "stderr",
     "output_type": "stream",
     "text": [
      "Scanning contents: 100%|███████████████████████| 1/1 [00:00<00:00, 408.32page/s]\n",
      "OCR: 100%|██████████████████████████████████| 1.0/1.0 [00:05<00:00,  5.34s/page]\n",
      "PDF/A conversion: 100%|█████████████████████████| 1/1 [00:00<00:00,  4.57page/s]\n",
      "Recompressing JPEGs: 0image [00:00, ?image/s]\n",
      "Deflating JPEGs: 100%|█████████████████████████| 1/1 [00:00<00:00, 81.48image/s]\n",
      "JBIG2: 0item [00:00, ?item/s]\n"
     ]
    },
    {
     "data": {
      "text/plain": [
       "<ExitCode.ok: 0>"
      ]
     },
     "execution_count": 8,
     "metadata": {},
     "output_type": "execute_result"
    }
   ],
   "source": [
    "import ocrmypdf\n",
    "\n",
    "ocrmypdf.ocr('players/players-scan.pdf',\n",
    "             'players/players-scan-ocr.pdf',\n",
    "             deskew=True)"
   ]
  },
  {
   "cell_type": "code",
   "execution_count": 10,
   "metadata": {},
   "outputs": [
    {
     "data": {
      "text/plain": [
       "\"Player \\nRhett  Bomar \\nJoe  Webb \\nChristian  Ponder \\nAdrian  Peterson \\nLorenzo  Booker \\nRyan  D'lmperio \\nJeff  Dugan \\nToby  Gerhart \\nGreg  Camarillo \\nJuaquin  Iglesias \\nFreddie  Brown \\nJaymar  Johnson \\nEmmanuel  Arceneaux \\nBernard  Berrian \\nPercy  Harvin \\nSidney  Rice \\nVisanthe  Shiancoe \\nJim  Kleinsasser \\nCullen  Loeffler \\nJon  Cooper \\nJohn  Sullivan \\nAnthony  Herrera \\nSteve  Hutchinson \\nSeth  Olsen \\nChris  DeGeare \\nThomas  Welch \\nPhil  Loadholt \\nBryant  McKinnie \\nPatrick  Brown \\nRyan  Cook \\nChr\""
      ]
     },
     "execution_count": 10,
     "metadata": {},
     "output_type": "execute_result"
    }
   ],
   "source": [
    "from pdfminer.high_level import extract_text\n",
    "\n",
    "text = extract_text(\"players/players-scan-ocr.pdf\")\n",
    "text[:500]"
   ]
  },
  {
   "cell_type": "code",
   "execution_count": null,
   "metadata": {},
   "outputs": [],
   "source": []
  }
 ],
 "metadata": {
  "kernelspec": {
   "display_name": "Python 3 (ipykernel)",
   "language": "python",
   "name": "python3"
  },
  "language_info": {
   "codemirror_mode": {
    "name": "ipython",
    "version": 3
   },
   "file_extension": ".py",
   "mimetype": "text/x-python",
   "name": "python",
   "nbconvert_exporter": "python",
   "pygments_lexer": "ipython3",
   "version": "3.11.0rc2"
  },
  "vscode": {
   "interpreter": {
    "hash": "4af5af0f04fcb380cec1c78a427d6ee46cb6215f4740c4f606bab0dcb6aa5c09"
   }
  }
 },
 "nbformat": 4,
 "nbformat_minor": 4
}
