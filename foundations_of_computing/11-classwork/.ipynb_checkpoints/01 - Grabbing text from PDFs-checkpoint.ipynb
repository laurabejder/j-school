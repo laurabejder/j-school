{
 "cells": [
  {
   "cell_type": "markdown",
   "metadata": {},
   "source": [
    "# PDFs to text\n",
    "\n",
    "We're going to use [pdfminer.six](https://pdfminersix.readthedocs.io/en/latest/) to convert PDFs to text.\n",
    "\n",
    "```\n",
    "pip install pdfminer.six\n",
    "```"
   ]
  },
  {
   "cell_type": "code",
   "execution_count": 1,
   "metadata": {},
   "outputs": [
    {
     "name": "stdout",
     "output_type": "stream",
     "text": [
      "Collecting pdfminer.six\n",
      "  Downloading pdfminer.six-20221105-py3-none-any.whl (5.6 MB)\n",
      "\u001b[2K     \u001b[38;2;114;156;31m━━━━━━━━━━━━━━━━━━━━━━━━━━━━━━━━━━━━━━━━\u001b[0m \u001b[32m5.6/5.6 MB\u001b[0m \u001b[31m9.1 MB/s\u001b[0m eta \u001b[36m0:00:00\u001b[0mm eta \u001b[36m0:00:01\u001b[0m[36m0:00:01\u001b[0mm\n",
      "\u001b[?25hRequirement already satisfied: charset-normalizer>=2.0.0 in /Users/laurabejderjensen/.pyenv/versions/3.11.0rc2/lib/python3.11/site-packages (from pdfminer.six) (2.1.1)\n",
      "Collecting cryptography>=36.0.0\n",
      "  Downloading cryptography-38.0.4-cp36-abi3-macosx_10_10_universal2.whl (5.4 MB)\n",
      "\u001b[2K     \u001b[38;2;114;156;31m━━━━━━━━━━━━━━━━━━━━━━━━━━━━━━━━━━━━━━━━\u001b[0m \u001b[32m5.4/5.4 MB\u001b[0m \u001b[31m9.2 MB/s\u001b[0m eta \u001b[36m0:00:00\u001b[0m[36m0:00:01\u001b[0m[36m0:00:01\u001b[0m:01\u001b[0mm\n",
      "\u001b[?25hRequirement already satisfied: cffi>=1.12 in /Users/laurabejderjensen/.pyenv/versions/3.11.0rc2/lib/python3.11/site-packages (from cryptography>=36.0.0->pdfminer.six) (1.15.1)\n",
      "Requirement already satisfied: pycparser in /Users/laurabejderjensen/.pyenv/versions/3.11.0rc2/lib/python3.11/site-packages (from cffi>=1.12->cryptography>=36.0.0->pdfminer.six) (2.21)\n",
      "Installing collected packages: cryptography, pdfminer.six\n",
      "Successfully installed cryptography-38.0.4 pdfminer.six-20221105\n"
     ]
    }
   ],
   "source": [
    "! pip install pdfminer.six"
   ]
  },
  {
   "cell_type": "code",
   "execution_count": 2,
   "metadata": {},
   "outputs": [],
   "source": [
    "from pdfminer.high_level import extract_text"
   ]
  },
  {
   "cell_type": "code",
   "execution_count": 6,
   "metadata": {},
   "outputs": [
    {
     "data": {
      "text/plain": [
       "'No. 115. An act relating to commercial catering licenses, the export of\\nvinous beverages, and outside consumption permits.\\n\\n(H.506)\\n\\nIt is hereby enacted by the General Assembly of the State of Vermont:\\n\\nSec. 1. 7 V.S.A. § 2 is amended to read:\\n\\n§ 2. DEFINITIONS\\n\\nThe following words as used in this title, unless a contrary meaning is\\n\\nrequired by the context, shall have the following meaning:\\n\\n* * *\\n\\n(6) “Caterer’s permit license”: a permit license issued by the liquor\\n\\ncontrol board authorizing the holder of a first class license or first and third\\n\\nclass licenses for a cabaret, restaurant, or hotel premises to serve malt or\\n\\nvinous beverages or spirituous liquors at a function located on premises other\\n\\nthan those occupied by a first, first and third, or second class licensee to sell\\n\\nalcoholic beverages.\\n\\n(7) “Club”: an unincorporated association or a corporation authorized to\\n\\ndo business in this state, that has been in existence for at least two consecutive\\n\\nyears prior to the dat'"
      ]
     },
     "execution_count": 6,
     "metadata": {},
     "output_type": "execute_result"
    }
   ],
   "source": [
    "# Extract the text from a pdf\n",
    "text = extract_text(\"new-york/nys-bill.pdf\")\n",
    "\n",
    "# Get the first n characters in the text\n",
    "text[:1000]"
   ]
  },
  {
   "cell_type": "code",
   "execution_count": null,
   "metadata": {},
   "outputs": [],
   "source": []
  },
  {
   "cell_type": "markdown",
   "metadata": {},
   "source": [
    "## I have a whole bunch of documents...\n",
    "what to do?\n",
    "\n",
    "Often we will have a folder with a lot of documents, and we want to do something to all the pdfs. How do we get the text out of all of them?\n",
    "\n",
    "### Step 1: Get a list of PDFs?"
   ]
  },
  {
   "cell_type": "code",
   "execution_count": 9,
   "metadata": {},
   "outputs": [
    {
     "data": {
      "text/plain": [
       "['new-york/nys-bill.pdf',\n",
       " 'new-york/nys-bill copy.pdf',\n",
       " 'new-york/nys-bill copy 3.pdf',\n",
       " 'new-york/nys-bill copy 2.pdf',\n",
       " 'new-york/nys-bill copy 5.pdf',\n",
       " 'new-york/nys-bill copy 4.pdf']"
      ]
     },
     "execution_count": 9,
     "metadata": {},
     "output_type": "execute_result"
    }
   ],
   "source": [
    "import glob\n",
    "\n",
    "# Get a list of all the PDFs in the folder 'new-york' that is named something with 'nys-bill'\n",
    "filenames = glob.glob(\"new-york/nys-bill*.pdf\")\n",
    "filenames"
   ]
  },
  {
   "cell_type": "markdown",
   "metadata": {},
   "source": [
    "### Use list comprehension\n",
    "\n",
    "1. Make a new list of texts using the text extracted from each of the PDFs"
   ]
  },
  {
   "cell_type": "code",
   "execution_count": 13,
   "metadata": {},
   "outputs": [
    {
     "data": {
      "text/plain": [
       "15320"
      ]
     },
     "execution_count": 13,
     "metadata": {},
     "output_type": "execute_result"
    }
   ],
   "source": [
    "texts = [extract_text(filename) for filename in filenames]\n",
    "len(text)"
   ]
  },
  {
   "cell_type": "code",
   "execution_count": 14,
   "metadata": {},
   "outputs": [
    {
     "data": {
      "text/html": [
       "<div>\n",
       "<style scoped>\n",
       "    .dataframe tbody tr th:only-of-type {\n",
       "        vertical-align: middle;\n",
       "    }\n",
       "\n",
       "    .dataframe tbody tr th {\n",
       "        vertical-align: top;\n",
       "    }\n",
       "\n",
       "    .dataframe thead th {\n",
       "        text-align: right;\n",
       "    }\n",
       "</style>\n",
       "<table border=\"1\" class=\"dataframe\">\n",
       "  <thead>\n",
       "    <tr style=\"text-align: right;\">\n",
       "      <th></th>\n",
       "      <th>filename</th>\n",
       "      <th>contents</th>\n",
       "    </tr>\n",
       "  </thead>\n",
       "  <tbody>\n",
       "    <tr>\n",
       "      <th>0</th>\n",
       "      <td>new-york/nys-bill.pdf</td>\n",
       "      <td>No. 115. An act relating to commercial caterin...</td>\n",
       "    </tr>\n",
       "    <tr>\n",
       "      <th>1</th>\n",
       "      <td>new-york/nys-bill copy.pdf</td>\n",
       "      <td>No. 115. An act relating to commercial caterin...</td>\n",
       "    </tr>\n",
       "    <tr>\n",
       "      <th>2</th>\n",
       "      <td>new-york/nys-bill copy 3.pdf</td>\n",
       "      <td>No. 115. An act relating to commercial caterin...</td>\n",
       "    </tr>\n",
       "    <tr>\n",
       "      <th>3</th>\n",
       "      <td>new-york/nys-bill copy 2.pdf</td>\n",
       "      <td>No. 115. An act relating to commercial caterin...</td>\n",
       "    </tr>\n",
       "    <tr>\n",
       "      <th>4</th>\n",
       "      <td>new-york/nys-bill copy 5.pdf</td>\n",
       "      <td>No. 115. An act relating to commercial caterin...</td>\n",
       "    </tr>\n",
       "  </tbody>\n",
       "</table>\n",
       "</div>"
      ],
      "text/plain": [
       "                       filename  \\\n",
       "0         new-york/nys-bill.pdf   \n",
       "1    new-york/nys-bill copy.pdf   \n",
       "2  new-york/nys-bill copy 3.pdf   \n",
       "3  new-york/nys-bill copy 2.pdf   \n",
       "4  new-york/nys-bill copy 5.pdf   \n",
       "\n",
       "                                            contents  \n",
       "0  No. 115. An act relating to commercial caterin...  \n",
       "1  No. 115. An act relating to commercial caterin...  \n",
       "2  No. 115. An act relating to commercial caterin...  \n",
       "3  No. 115. An act relating to commercial caterin...  \n",
       "4  No. 115. An act relating to commercial caterin...  "
      ]
     },
     "execution_count": 14,
     "metadata": {},
     "output_type": "execute_result"
    }
   ],
   "source": [
    "import pandas as pd\n",
    "\n",
    "df = pd.DataFrame({\n",
    "    'filename': filenames,\n",
    "    'contents': texts\n",
    "})\n",
    "df.head()"
   ]
  },
  {
   "cell_type": "markdown",
   "metadata": {},
   "source": [
    "### Use df.apply"
   ]
  },
  {
   "cell_type": "code",
   "execution_count": 17,
   "metadata": {},
   "outputs": [
    {
     "data": {
      "text/html": [
       "<div>\n",
       "<style scoped>\n",
       "    .dataframe tbody tr th:only-of-type {\n",
       "        vertical-align: middle;\n",
       "    }\n",
       "\n",
       "    .dataframe tbody tr th {\n",
       "        vertical-align: top;\n",
       "    }\n",
       "\n",
       "    .dataframe thead th {\n",
       "        text-align: right;\n",
       "    }\n",
       "</style>\n",
       "<table border=\"1\" class=\"dataframe\">\n",
       "  <thead>\n",
       "    <tr style=\"text-align: right;\">\n",
       "      <th></th>\n",
       "      <th>filename</th>\n",
       "    </tr>\n",
       "  </thead>\n",
       "  <tbody>\n",
       "    <tr>\n",
       "      <th>0</th>\n",
       "      <td>new-york/nys-bill.pdf</td>\n",
       "    </tr>\n",
       "    <tr>\n",
       "      <th>1</th>\n",
       "      <td>new-york/nys-bill copy.pdf</td>\n",
       "    </tr>\n",
       "    <tr>\n",
       "      <th>2</th>\n",
       "      <td>new-york/nys-bill copy 3.pdf</td>\n",
       "    </tr>\n",
       "    <tr>\n",
       "      <th>3</th>\n",
       "      <td>new-york/nys-bill copy 2.pdf</td>\n",
       "    </tr>\n",
       "    <tr>\n",
       "      <th>4</th>\n",
       "      <td>new-york/nys-bill copy 5.pdf</td>\n",
       "    </tr>\n",
       "  </tbody>\n",
       "</table>\n",
       "</div>"
      ],
      "text/plain": [
       "                       filename\n",
       "0         new-york/nys-bill.pdf\n",
       "1    new-york/nys-bill copy.pdf\n",
       "2  new-york/nys-bill copy 3.pdf\n",
       "3  new-york/nys-bill copy 2.pdf\n",
       "4  new-york/nys-bill copy 5.pdf"
      ]
     },
     "execution_count": 17,
     "metadata": {},
     "output_type": "execute_result"
    }
   ],
   "source": [
    "df = pd.DataFrame({\n",
    "    'filename': filenames,\n",
    "})"
   ]
  },
  {
   "cell_type": "code",
   "execution_count": 18,
   "metadata": {},
   "outputs": [
    {
     "data": {
      "text/html": [
       "<div>\n",
       "<style scoped>\n",
       "    .dataframe tbody tr th:only-of-type {\n",
       "        vertical-align: middle;\n",
       "    }\n",
       "\n",
       "    .dataframe tbody tr th {\n",
       "        vertical-align: top;\n",
       "    }\n",
       "\n",
       "    .dataframe thead th {\n",
       "        text-align: right;\n",
       "    }\n",
       "</style>\n",
       "<table border=\"1\" class=\"dataframe\">\n",
       "  <thead>\n",
       "    <tr style=\"text-align: right;\">\n",
       "      <th></th>\n",
       "      <th>filename</th>\n",
       "      <th>content</th>\n",
       "    </tr>\n",
       "  </thead>\n",
       "  <tbody>\n",
       "    <tr>\n",
       "      <th>0</th>\n",
       "      <td>new-york/nys-bill.pdf</td>\n",
       "      <td>No. 115. An act relating to commercial caterin...</td>\n",
       "    </tr>\n",
       "    <tr>\n",
       "      <th>1</th>\n",
       "      <td>new-york/nys-bill copy.pdf</td>\n",
       "      <td>No. 115. An act relating to commercial caterin...</td>\n",
       "    </tr>\n",
       "    <tr>\n",
       "      <th>2</th>\n",
       "      <td>new-york/nys-bill copy 3.pdf</td>\n",
       "      <td>No. 115. An act relating to commercial caterin...</td>\n",
       "    </tr>\n",
       "    <tr>\n",
       "      <th>3</th>\n",
       "      <td>new-york/nys-bill copy 2.pdf</td>\n",
       "      <td>No. 115. An act relating to commercial caterin...</td>\n",
       "    </tr>\n",
       "    <tr>\n",
       "      <th>4</th>\n",
       "      <td>new-york/nys-bill copy 5.pdf</td>\n",
       "      <td>No. 115. An act relating to commercial caterin...</td>\n",
       "    </tr>\n",
       "  </tbody>\n",
       "</table>\n",
       "</div>"
      ],
      "text/plain": [
       "                       filename  \\\n",
       "0         new-york/nys-bill.pdf   \n",
       "1    new-york/nys-bill copy.pdf   \n",
       "2  new-york/nys-bill copy 3.pdf   \n",
       "3  new-york/nys-bill copy 2.pdf   \n",
       "4  new-york/nys-bill copy 5.pdf   \n",
       "\n",
       "                                             content  \n",
       "0  No. 115. An act relating to commercial caterin...  \n",
       "1  No. 115. An act relating to commercial caterin...  \n",
       "2  No. 115. An act relating to commercial caterin...  \n",
       "3  No. 115. An act relating to commercial caterin...  \n",
       "4  No. 115. An act relating to commercial caterin...  "
      ]
     },
     "execution_count": 18,
     "metadata": {},
     "output_type": "execute_result"
    }
   ],
   "source": [
    "df['content'] = df.filename.apply(lambda filename: extract_text(filename))\n",
    "df.head()"
   ]
  },
  {
   "cell_type": "markdown",
   "metadata": {},
   "source": [
    "# OCR\n",
    "\n",
    "Optical character recognition\n",
    "\n",
    "* **App:** Adobe Acrobat, ABBYY FineReader\n",
    "* **Cloud:** AWS Textract, Google Cloud\n",
    "* **Python/etc:** OCRmyPDF, EasyOCR, PaddleOCR\n",
    "* **Vaguely in-between:** Apple Vision Kit"
   ]
  },
  {
   "cell_type": "code",
   "execution_count": null,
   "metadata": {},
   "outputs": [],
   "source": []
  }
 ],
 "metadata": {
  "kernelspec": {
   "display_name": "Python 3 (ipykernel)",
   "language": "python",
   "name": "python3"
  },
  "language_info": {
   "codemirror_mode": {
    "name": "ipython",
    "version": 3
   },
   "file_extension": ".py",
   "mimetype": "text/x-python",
   "name": "python",
   "nbconvert_exporter": "python",
   "pygments_lexer": "ipython3",
   "version": "3.11.0rc2"
  },
  "vscode": {
   "interpreter": {
    "hash": "fa07e5dff76123542c28abca75c0e47ea742948dbeeb360ccfbd2a5c7c277f8b"
   }
  }
 },
 "nbformat": 4,
 "nbformat_minor": 4
}
