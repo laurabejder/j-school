{
 "cells": [
  {
   "cell_type": "markdown",
   "id": "8c1af50b",
   "metadata": {},
   "source": [
    "# Weather API homework \n",
    "Laura Bejder Jensen \\\n",
    "November 5th, 2022"
   ]
  },
  {
   "cell_type": "markdown",
   "id": "c2903244",
   "metadata": {},
   "source": [
    "1. What is the URL to the documentation?"
   ]
  },
  {
   "cell_type": "markdown",
   "id": "b6822a78",
   "metadata": {},
   "source": [
    "The URL for the documentation is: https://www.weatherapi.com/docs/ "
   ]
  },
  {
   "cell_type": "markdown",
   "id": "174c2ab0",
   "metadata": {},
   "source": [
    "2. Make a request for the current weather where you are born, or somewhere you've lived."
   ]
  },
  {
   "cell_type": "markdown",
   "id": "ebddcacd",
   "metadata": {},
   "source": [
    "I was born in Copenhagen, Denmark, so I request for the weather in Copenhagen"
   ]
  },
  {
   "cell_type": "code",
   "execution_count": 32,
   "id": "ae5133a9",
   "metadata": {},
   "outputs": [],
   "source": [
    "import requests\n",
    "\n",
    "response = requests.get(\"http://api.weatherapi.com/v1/current.json?key=9b5ac801b7294b5e9c4152459220511&q=Copenhagen&aqi=no\")\n",
    "\n",
    "cph_weather = response.json()"
   ]
  },
  {
   "cell_type": "markdown",
   "id": "66631657",
   "metadata": {},
   "source": [
    "3. Print out the country this location is in."
   ]
  },
  {
   "cell_type": "code",
   "execution_count": 33,
   "id": "008b1428",
   "metadata": {},
   "outputs": [
    {
     "name": "stdout",
     "output_type": "stream",
     "text": [
      "Copenhagen is located in the wonderful country of Denmark\n"
     ]
    }
   ],
   "source": [
    "print(f\"{cph_weather['location']['name']} is located in the wonderful country of {cph_weather['location']['country']}\")"
   ]
  },
  {
   "cell_type": "markdown",
   "id": "54af6861",
   "metadata": {},
   "source": [
    "4. Print out the difference between the current temperature and how warm it feels. Use \"It feels ___ degrees colder\" or \"It feels ___ degrees warmer,\" not negative numbers."
   ]
  },
  {
   "cell_type": "code",
   "execution_count": 34,
   "id": "d227be7d",
   "metadata": {},
   "outputs": [
    {
     "name": "stdout",
     "output_type": "stream",
     "text": [
      "It is 9.0 degrees celcius in Copenhagen, but it feels like 6.1 degrees celcius.\n",
      "It feels 2.9 degrees celcius colder than it is 🥶\n"
     ]
    }
   ],
   "source": [
    "print(f\"It is {cph_weather['current']['temp_c']} degrees celcius in {cph_weather['location']['name']}, but it feels like {cph_weather['current']['feelslike_c']} degrees celcius.\")\n",
    "\n",
    "if cph_weather['current']['temp_c'] > cph_weather['current']['feelslike_c']:\n",
    "    print(f\"It feels {round(cph_weather['current']['temp_c'] - cph_weather['current']['feelslike_c'],1)} degrees celcius colder than it is 🥶\")\n",
    "elif cph_weather['current']['temp_c'] < cph_weather['current']['feelslike_c']:\n",
    "    print(f\"It feels {round(cph_weather['current']['feelslike_c'] - cph_weather['current']['temp_c'],1)} degrees celcius warmer than it is 🥵\")\n",
    "else:\n",
    "    print(f\"It is {cph_weather['current']['temp_c']} and it feels that way! 😎\")"
   ]
  },
  {
   "cell_type": "markdown",
   "id": "8f4124e6",
   "metadata": {},
   "source": [
    "Someone said, that you prefer us to define the variables because it makes the code cleaner. So I am doing the same as above but with the define-your-variables-approach "
   ]
  },
  {
   "cell_type": "code",
   "execution_count": 35,
   "id": "622cb4a5",
   "metadata": {},
   "outputs": [
    {
     "name": "stdout",
     "output_type": "stream",
     "text": [
      "It is 9.0 degrees celcius in Copenhagen, but it feels like 6.1 degrees celcius.\n",
      "It feels 2.9 degrees celcius colder than it is 🥶\n"
     ]
    }
   ],
   "source": [
    "name = cph_weather['location']['name']\n",
    "current_temp = cph_weather['current']['temp_c']\n",
    "feelslike_temp = cph_weather['current']['feelslike_c']\n",
    "\n",
    "print(f\"It is {current_temp} degrees celcius in {name}, but it feels like {feelslike_temp} degrees celcius.\")\n",
    "\n",
    "if current_temp > feelslike_temp:\n",
    "    print(f\"It feels {round(current_temp - feelslike_temp,1)} degrees celcius colder than it is 🥶\")\n",
    "elif current_temp < feelslike_temp:\n",
    "    print(f\"It feels {round(feelslike_temp - current_temp,1)} degrees celcius warmer than it is 🥵\")\n",
    "else:\n",
    "    print(f\"It is {current_temp} and it feels that way! 😎\")"
   ]
  },
  {
   "cell_type": "markdown",
   "id": "04e5a3f6",
   "metadata": {},
   "source": [
    "5. What's the current temperature at Heathrow International Airport? Use the airport's IATA code to search."
   ]
  },
  {
   "cell_type": "code",
   "execution_count": 36,
   "id": "3af7b726",
   "metadata": {},
   "outputs": [
    {
     "name": "stdout",
     "output_type": "stream",
     "text": [
      "The current temperature in London Heathrow Airport is 14.0 degrees celcius.\n"
     ]
    }
   ],
   "source": [
    "import requests\n",
    "\n",
    "response = requests.get(\"http://api.weatherapi.com/v1/current.json?key=1851a9df017a46edbf7165654220511&q=LHR&aqi=no\")\n",
    "\n",
    "heathrow_weather = response.json()\n",
    "\n",
    "name = heathrow_weather['location']['name']\n",
    "temp_c = heathrow_weather['current']['temp_c']\n",
    "\n",
    "print(f\"The current temperature in {name} is {temp_c} degrees celcius.\")"
   ]
  },
  {
   "cell_type": "markdown",
   "id": "90b499ed",
   "metadata": {},
   "source": [
    "6. What URL would I use to request a 3-day forecast at Heathrow?"
   ]
  },
  {
   "cell_type": "markdown",
   "id": "ba66b850",
   "metadata": {},
   "source": [
    "To request a 3-day forecast at Heathrow airport, I would use this URL:\n",
    "http://api.weatherapi.com/v1/forecast.json?key=1851a9df017a46edbf7165654220511&q=LHR&days=3&aqi=no&alerts=no"
   ]
  },
  {
   "cell_type": "markdown",
   "id": "cf13ce3c",
   "metadata": {},
   "source": [
    "7. Print the date of each of the 3 days you're getting a forecast for."
   ]
  },
  {
   "cell_type": "code",
   "execution_count": 37,
   "id": "11ab1f64",
   "metadata": {
    "scrolled": false
   },
   "outputs": [
    {
     "name": "stdout",
     "output_type": "stream",
     "text": [
      "2022-11-05\n",
      "2022-11-06\n",
      "2022-11-07\n"
     ]
    }
   ],
   "source": [
    "import requests\n",
    "\n",
    "response = requests.get(\"http://api.weatherapi.com/v1/forecast.json?key=1851a9df017a46edbf7165654220511&q=LHR&days=3&aqi=no&alerts=no\")\n",
    "\n",
    "heathrow_forecast = response.json()\n",
    "\n",
    "forecastday = heathrow_forecast[\"forecast\"][\"forecastday\"]\n",
    "\n",
    "for forecast in heathrow_forecast[\"forecast\"][\"forecastday\"]:\n",
    "    if forecast[\"date\"]:\n",
    "        print(forecast['date'])\n",
    "    "
   ]
  },
  {
   "cell_type": "markdown",
   "id": "e520084b",
   "metadata": {},
   "source": [
    "8. Print the maximum temperature of each of the days."
   ]
  },
  {
   "cell_type": "code",
   "execution_count": 31,
   "id": "83420c59",
   "metadata": {
    "scrolled": true
   },
   "outputs": [
    {
     "name": "stdout",
     "output_type": "stream",
     "text": [
      "The maximum temperature for 2022-11-05 is 12.4\n",
      "The maximum temperature for 2022-11-06 is 13.3\n",
      "The maximum temperature for 2022-11-07 is 14.1\n"
     ]
    }
   ],
   "source": [
    "for forecast in heathrow_forecast[\"forecast\"][\"forecastday\"]:\n",
    "    if forecast[\"day\"]:\n",
    "        print(f\"The maximum temperature for {forecast['date']} is {forecast['day']['maxtemp_c']}\")"
   ]
  },
  {
   "cell_type": "markdown",
   "id": "352b2147",
   "metadata": {},
   "source": [
    "9. Print only the day with the highest maximum temperature."
   ]
  },
  {
   "cell_type": "code",
   "execution_count": 41,
   "id": "a122f5ab",
   "metadata": {},
   "outputs": [
    {
     "name": "stdout",
     "output_type": "stream",
     "text": [
      "2022-11-07 has the highest maximum temperature of 14.1\n"
     ]
    }
   ],
   "source": [
    "max_temp = 0\n",
    "for max in heathrow_forecast[\"forecast\"][\"forecastday\"]:\n",
    "    if max['day']['maxtemp_c'] > max_temp:\n",
    "        max_temp = max['day']['maxtemp_c']\n",
    "print(f\"{max['date']} has the highest maximum temperature of {max_temp}\")"
   ]
  }
 ],
 "metadata": {
  "kernelspec": {
   "display_name": "Python 3.10.8 64-bit",
   "language": "python",
   "name": "python3"
  },
  "language_info": {
   "codemirror_mode": {
    "name": "ipython",
    "version": 3
   },
   "file_extension": ".py",
   "mimetype": "text/x-python",
   "name": "python",
   "nbconvert_exporter": "python",
   "pygments_lexer": "ipython3",
   "version": "3.10.8"
  },
  "vscode": {
   "interpreter": {
    "hash": "b0fa6594d8f4cbf19f97940f81e996739fb7646882a419484c72d19e05852a7e"
   }
  }
 },
 "nbformat": 4,
 "nbformat_minor": 5
}
