{
 "cells": [
  {
   "cell_type": "markdown",
   "id": "a73e7886",
   "metadata": {},
   "source": [
    "# Pokemon API homework\n",
    "Laura Bejder Jensen\\\n",
    "November 5th, 2022"
   ]
  },
  {
   "cell_type": "code",
   "execution_count": null,
   "id": "de8ef25a",
   "metadata": {},
   "outputs": [],
   "source": [
    "1. What is the URL to the documentation?"
   ]
  },
  {
   "cell_type": "markdown",
   "id": "421922c2",
   "metadata": {},
   "source": [
    "The URL to the documentation for all pokemons is \n",
    "\n",
    "https://pokeapi.co/api/v2/pokemon/?limit=1154\n",
    "\n",
    "I chose to limit = 1154 because on https://pokeapi.co/api/v2/pokemon it says count 1154 (I am assuming that means that there are 1154 pokemons in the database) but the documentation also said that without any specified limit, it would automatically limit to 20."
   ]
  },
  {
   "cell_type": "markdown",
   "id": "b5fd7c8f",
   "metadata": {},
   "source": [
    "2. What pokemon has the ID of 55?"
   ]
  },
  {
   "cell_type": "code",
   "execution_count": null,
   "id": "9ca24500",
   "metadata": {},
   "outputs": [],
   "source": [
    "# First I download the data\n",
    "\n",
    "import requests\n",
    "\n",
    "response = requests.get(\"https://pokeapi.co/api/v2/pokemon/?limit=1154\")\n",
    "\n",
    "# Then I convert the response from the website into json\n",
    "\n",
    "pokemons = response.json()\n",
    "\n",
    "# Then I print the name of the pokemon with the ID 55\n",
    "print(pokemons['results'][54]['name'])\n",
    "\n",
    "# Just to be sure I found the right pokemon, I do the same\n",
    "# including the URL which contains the ID\n",
    "\n",
    "print(pokemons['results'][54]['url'])\n",
    "\n",
    "# And as expected Golduck's url contains the ID number 55"
   ]
  },
  {
   "cell_type": "markdown",
   "id": "9b3f5df7",
   "metadata": {},
   "source": [
    "3. How tall is that pokemon?"
   ]
  },
  {
   "cell_type": "code",
   "execution_count": 14,
   "id": "d627afa6",
   "metadata": {},
   "outputs": [
    {
     "name": "stdout",
     "output_type": "stream",
     "text": [
      "Golduck is 17 tall\n"
     ]
    }
   ],
   "source": [
    "# The overall pokemon data only contains the names and URLS so I download the specific \n",
    "# data on Golduck to find its height\n",
    "import requests \n",
    "\n",
    "response = requests.get(\"https://pokeapi.co/api/v2/pokemon/55\")\n",
    "\n",
    "golduck = response.json()\n",
    "\n",
    "# From the URL I know that heigh is a key within a list\n",
    "\n",
    "print(f\"Golduck is {golduck['height']} tall\")\n"
   ]
  },
  {
   "cell_type": "markdown",
   "id": "fa2134ab",
   "metadata": {},
   "source": [
    "4. How many versions of Pokemon games have been released?"
   ]
  },
  {
   "cell_type": "code",
   "execution_count": 28,
   "id": "0008ace1",
   "metadata": {},
   "outputs": [
    {
     "name": "stdout",
     "output_type": "stream",
     "text": [
      "39\n"
     ]
    },
    {
     "data": {
      "text/plain": [
       "39"
      ]
     },
     "execution_count": 28,
     "metadata": {},
     "output_type": "execute_result"
    }
   ],
   "source": [
    "import requests\n",
    "\n",
    "response = requests.get(\"https://pokeapi.co/api/v2/version/?limit=39\")\n",
    "\n",
    "versions = response.json()\n",
    "\n",
    "num = 0\n",
    "for version in versions[\"results\"]:\n",
    "    num = num + 1\n",
    "print(num)\n",
    "\n",
    "# Or I could do \n",
    "\n",
    "len(versions[\"results\"])"
   ]
  },
  {
   "cell_type": "markdown",
   "id": "e7fd339f",
   "metadata": {},
   "source": [
    "5. Print out the name of every electric-type pokemon"
   ]
  },
  {
   "cell_type": "code",
   "execution_count": 1,
   "id": "6ca88250",
   "metadata": {},
   "outputs": [
    {
     "name": "stdout",
     "output_type": "stream",
     "text": [
      "pikachu\n",
      "raichu\n",
      "magnemite\n",
      "magneton\n",
      "voltorb\n",
      "electrode\n",
      "electabuzz\n",
      "jolteon\n",
      "zapdos\n",
      "chinchou\n",
      "lanturn\n",
      "pichu\n",
      "mareep\n",
      "flaaffy\n",
      "ampharos\n",
      "elekid\n",
      "raikou\n",
      "electrike\n",
      "manectric\n",
      "plusle\n",
      "minun\n",
      "shinx\n",
      "luxio\n",
      "luxray\n",
      "pachirisu\n",
      "magnezone\n",
      "electivire\n",
      "rotom\n",
      "blitzle\n",
      "zebstrika\n",
      "emolga\n",
      "joltik\n",
      "galvantula\n",
      "tynamo\n",
      "eelektrik\n",
      "eelektross\n",
      "stunfisk\n",
      "thundurus-incarnate\n",
      "zekrom\n",
      "helioptile\n",
      "heliolisk\n",
      "dedenne\n",
      "charjabug\n",
      "vikavolt\n",
      "togedemaru\n",
      "tapu-koko\n",
      "xurkitree\n",
      "zeraora\n",
      "yamper\n",
      "boltund\n",
      "toxel\n",
      "toxtricity-amped\n",
      "pincurchin\n",
      "morpeko-full-belly\n",
      "dracozolt\n",
      "arctozolt\n",
      "regieleki\n",
      "rotom-heat\n",
      "rotom-wash\n",
      "rotom-frost\n",
      "rotom-fan\n",
      "rotom-mow\n",
      "thundurus-therian\n",
      "ampharos-mega\n",
      "manectric-mega\n",
      "pikachu-rock-star\n",
      "pikachu-belle\n",
      "pikachu-pop-star\n",
      "pikachu-phd\n",
      "pikachu-libre\n",
      "pikachu-cosplay\n",
      "pikachu-original-cap\n",
      "pikachu-hoenn-cap\n",
      "pikachu-sinnoh-cap\n",
      "pikachu-unova-cap\n",
      "pikachu-kalos-cap\n",
      "pikachu-alola-cap\n",
      "raichu-alola\n",
      "geodude-alola\n",
      "graveler-alola\n",
      "golem-alola\n",
      "vikavolt-totem\n",
      "oricorio-pom-pom\n",
      "pikachu-partner-cap\n",
      "togedemaru-totem\n",
      "pikachu-starter\n",
      "pikachu-world-cap\n",
      "toxtricity-low-key\n",
      "morpeko-hangry\n",
      "pikachu-gmax\n",
      "toxtricity-amped-gmax\n",
      "toxtricity-low-key-gmax\n",
      "voltorb-hisui\n",
      "electrode-hisui\n"
     ]
    }
   ],
   "source": [
    "import requests\n",
    "\n",
    "response = requests.get(\"https://pokeapi.co/api/v2/type/electric/\")\n",
    "\n",
    "electric = response.json()\n",
    "\n",
    "# Then I create a loop that prints out the names of all the electric-type pokemons\n",
    "for pokemon in electric[\"pokemon\"]:\n",
    "    print(pokemon[\"pokemon\"][\"name\"])"
   ]
  },
  {
   "cell_type": "markdown",
   "id": "f1c97e01",
   "metadata": {},
   "source": [
    "6. What are electric-type Pokemon called in the Korean version of the game? (i.e. what do they call electric-type pokemon in Korean if not \"electric\")"
   ]
  },
  {
   "cell_type": "code",
   "execution_count": 5,
   "id": "569ee886",
   "metadata": {},
   "outputs": [
    {
     "name": "stdout",
     "output_type": "stream",
     "text": [
      "Electric-type pokemons are called 전기 in Korean\n"
     ]
    }
   ],
   "source": [
    "for name in electric[\"names\"]:\n",
    "    if name[\"language\"][\"name\"] == \"ko\":\n",
    "        print(f\"Electric-type pokemons are called {name['name']} in Korean\")"
   ]
  },
  {
   "cell_type": "markdown",
   "id": "8e93b3df",
   "metadata": {},
   "source": [
    "7. Who has a higher speed stat, Eevee or Pikachu?"
   ]
  },
  {
   "cell_type": "code",
   "execution_count": 2,
   "id": "abadecfc",
   "metadata": {},
   "outputs": [
    {
     "name": "stdout",
     "output_type": "stream",
     "text": [
      "Pikachu has a higher speed stat than Eevee\n"
     ]
    }
   ],
   "source": [
    "# First I import the data from Pikachu\n",
    "\n",
    "import requests\n",
    "response = requests.get(\"https://pokeapi.co/api/v2/pokemon/pikachu\")\n",
    "pikachu = response.json()\n",
    "\n",
    "# To begin with I just explore the stats dictionary\n",
    "#print(pikachu[\"stats\"])\n",
    "#print(\"----------\")\n",
    "#print(pikachu[\"stats\"][5])\n",
    "#print(\"----------\")\n",
    "#print(pikachu[\"stats\"][5][\"base_stat\"])\n",
    "\n",
    "pikachu_speed = pikachu[\"stats\"][5][\"base_stat\"]\n",
    "\n",
    "# And then I save Pikachu's speed\n",
    "#print(pikachu_speed)\n",
    "\n",
    "\n",
    "# Then I do the same for Eevee\n",
    "import requests\n",
    "response = requests.get(\"https://pokeapi.co/api/v2/pokemon/eevee\")\n",
    "eevee = response.json()\n",
    "#print(eevee[\"stats\"][5])\n",
    "\n",
    "eevee_speed = eevee[\"stats\"][5][\"base_stat\"]\n",
    "\n",
    "#print(eevee_speed)\n",
    "\n",
    "if pikachu_speed > eevee_speed:\n",
    "    print(\"Pikachu has a higher speed stat than Eevee\")\n",
    "elif pikachu_speed < eevee_speed:\n",
    "    print(\"Eevee has a higher speed stat than Pikachu\")\n",
    "else:\n",
    "    print(\"Pikachu and Eevee have the same speed stat\")"
   ]
  },
  {
   "cell_type": "markdown",
   "id": "45e6e79d",
   "metadata": {},
   "source": [
    "However we cannot be sure, that speed will always be the 6th element so I try to make it a loop instead"
   ]
  },
  {
   "cell_type": "code",
   "execution_count": 6,
   "id": "e1e3571b",
   "metadata": {},
   "outputs": [
    {
     "name": "stdout",
     "output_type": "stream",
     "text": [
      "Pikachu has a higher speed stat than Eevee\n"
     ]
    }
   ],
   "source": [
    "for stat in pikachu[\"stats\"]:\n",
    "    if stat[\"stat\"][\"name\"] == \"speed\":\n",
    "        pikachu_speed1 = stat[\"base_stat\"]\n",
    "\n",
    "for stat in eevee[\"stats\"]:\n",
    "    if stat[\"stat\"][\"name\"] == \"speed\":\n",
    "        eevee_speed1 = stat[\"base_stat\"]\n",
    "        \n",
    "if pikachu_speed1 > eevee_speed1:\n",
    "    print(\"Pikachu has a higher speed stat than Eevee\")\n",
    "elif pikachu_speed1 < eevee_speed1:\n",
    "    print(\"Eevee has a higher speed stat than Pikachu\")\n",
    "else:\n",
    "    print(\"Pikachu and Eevee have the same speed stat\")"
   ]
  }
 ],
 "metadata": {
  "kernelspec": {
   "display_name": "Python 3 (ipykernel)",
   "language": "python",
   "name": "python3"
  },
  "language_info": {
   "codemirror_mode": {
    "name": "ipython",
    "version": 3
   },
   "file_extension": ".py",
   "mimetype": "text/x-python",
   "name": "python",
   "nbconvert_exporter": "python",
   "pygments_lexer": "ipython3",
   "version": "3.11.0rc2"
  }
 },
 "nbformat": 4,
 "nbformat_minor": 5
}
