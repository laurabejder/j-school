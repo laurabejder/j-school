{
 "cells": [
  {
   "cell_type": "markdown",
   "id": "f2902e68",
   "metadata": {},
   "source": [
    "# Credit card records from Washtenaw County, Michigan\n",
    "\n",
    "Data is [here](https://www.washtenaw.org/Archive.aspx?AMID=129) but it's... a few different files?\n",
    "\n",
    "## Our goals\n",
    "\n",
    "* Oof this is a tough one"
   ]
  },
  {
   "cell_type": "code",
   "execution_count": 4,
   "id": "7d1c58bd",
   "metadata": {},
   "outputs": [],
   "source": [
    "#! pip install requests\n",
    "import requests\n",
    "from bs4 import BeautifulSoup"
   ]
  },
  {
   "cell_type": "code",
   "execution_count": 5,
   "id": "16c2a47a",
   "metadata": {},
   "outputs": [],
   "source": [
    "response = requests.get(\"https://www.washtenaw.org/Archive.aspx?AMID=129\")\n",
    "\n",
    "doc = BeautifulSoup(response.text)"
   ]
  },
  {
   "cell_type": "code",
   "execution_count": 6,
   "id": "3d9f613a",
   "metadata": {},
   "outputs": [
    {
     "ename": "SyntaxError",
     "evalue": "invalid syntax (2129501208.py, line 2)",
     "output_type": "error",
     "traceback": [
      "\u001b[0;36m  Cell \u001b[0;32mIn [6], line 2\u001b[0;36m\u001b[0m\n\u001b[0;31m    links = doc.find_all('a'):\u001b[0m\n\u001b[0m                             ^\u001b[0m\n\u001b[0;31mSyntaxError\u001b[0m\u001b[0;31m:\u001b[0m invalid syntax\n"
     ]
    }
   ],
   "source": [
    "# How do you grap things on a website. \n",
    "links = doc.find_all('a'):\n",
    "    for link in links:\n",
    "        try:\n",
    "            if 'Archive.aspx?ADID=' islink['href']:\n",
    "                print(\"https://www.washtenaw.org/Archive.aspx?AMID=)+{'links'}\""
   ]
  },
  {
   "cell_type": "code",
   "execution_count": null,
   "id": "6ad7b3b8",
   "metadata": {},
   "outputs": [
    {
     "name": "stdout",
     "output_type": "stream",
     "text": [
      "Archive.aspx?ADID=1127\n",
      "Archive.aspx?ADID=1110\n",
      "Archive.aspx?ADID=1109\n",
      "Archive.aspx?ADID=1108\n",
      "Archive.aspx?ADID=1118\n",
      "Archive.aspx?ADID=1117\n",
      "Archive.aspx?ADID=1116\n",
      "Archive.aspx?ADID=1115\n",
      "Archive.aspx?ADID=1114\n",
      "Archive.aspx?ADID=1113\n",
      "Archive.aspx?ADID=1112\n",
      "Archive.aspx?ADID=1107\n"
     ]
    }
   ],
   "source": [
    "# But a better way to do it would be:\n",
    "links = doc.select(\".archive a[href*='ADID']\")\n",
    "for link in links:\n",
    "    print(link['href'])"
   ]
  },
  {
   "cell_type": "code",
   "execution_count": null,
   "id": "4a8d6f0c",
   "metadata": {},
   "outputs": [
    {
     "data": {
      "text/plain": [
       "['https://www.washtenaw.org/Archive.aspx?ADID=1127',\n",
       " 'https://www.washtenaw.org/Archive.aspx?ADID=1110',\n",
       " 'https://www.washtenaw.org/Archive.aspx?ADID=1109',\n",
       " 'https://www.washtenaw.org/Archive.aspx?ADID=1108',\n",
       " 'https://www.washtenaw.org/Archive.aspx?ADID=1118',\n",
       " 'https://www.washtenaw.org/Archive.aspx?ADID=1117',\n",
       " 'https://www.washtenaw.org/Archive.aspx?ADID=1116',\n",
       " 'https://www.washtenaw.org/Archive.aspx?ADID=1115',\n",
       " 'https://www.washtenaw.org/Archive.aspx?ADID=1114',\n",
       " 'https://www.washtenaw.org/Archive.aspx?ADID=1113',\n",
       " 'https://www.washtenaw.org/Archive.aspx?ADID=1112',\n",
       " 'https://www.washtenaw.org/Archive.aspx?ADID=1107']"
      ]
     },
     "execution_count": 16,
     "metadata": {},
     "output_type": "execute_result"
    }
   ],
   "source": [
    "# Or in the list comprehension way\n",
    "urls = [\"https://www.washtenaw.org/\"+link['href'] for link in links]\n",
    "urls"
   ]
  },
  {
   "cell_type": "code",
   "execution_count": null,
   "id": "3cc33bef",
   "metadata": {},
   "outputs": [],
   "source": [
    "with open(\"urls.txt\",\"w\") as fp:\n",
    "    for url in urls:\n",
    "        fp.write(url + \"\\n\")"
   ]
  },
  {
   "cell_type": "code",
   "execution_count": null,
   "id": "899c16d6",
   "metadata": {},
   "outputs": [
    {
     "name": "stdout",
     "output_type": "stream",
     "text": [
      "urls.text: No such file or directory\r\n",
      "Fandt ingen URLer i urls.text.\r\n"
     ]
    }
   ],
   "source": [
    "#! brew install wget\n",
    "!wget -i urls.text"
   ]
  },
  {
   "cell_type": "code",
   "execution_count": null,
   "id": "d6769493",
   "metadata": {},
   "outputs": [],
   "source": []
  }
 ],
 "metadata": {
  "kernelspec": {
   "display_name": "Python 3.11.0rc2 64-bit ('3.11.0rc2')",
   "language": "python",
   "name": "python3"
  },
  "language_info": {
   "codemirror_mode": {
    "name": "ipython",
    "version": 3
   },
   "file_extension": ".py",
   "mimetype": "text/x-python",
   "name": "python",
   "nbconvert_exporter": "python",
   "pygments_lexer": "ipython3",
   "version": "3.11.0rc2"
  },
  "vscode": {
   "interpreter": {
    "hash": "fa07e5dff76123542c28abca75c0e47ea742948dbeeb360ccfbd2a5c7c277f8b"
   }
  }
 },
 "nbformat": 4,
 "nbformat_minor": 5
}
