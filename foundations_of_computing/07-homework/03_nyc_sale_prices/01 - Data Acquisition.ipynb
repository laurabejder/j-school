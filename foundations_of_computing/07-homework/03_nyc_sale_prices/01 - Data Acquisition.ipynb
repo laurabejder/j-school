{
 "cells": [
  {
   "cell_type": "markdown",
   "id": "9f47ab87",
   "metadata": {},
   "source": [
    "# Scrape sale price documents for Brooklyn homes\n",
    "\n",
    "## Build a list of documents we would like to download\n",
    "\n",
    "Visit https://www.nyc.gov/site/finance/taxes/property-annualized-sales-update.page and peek under \"Detailed Annual Sales Reports by Borough.\" We want to build a list of all of the excel files that link to **one borough**. It's your choice - Manhattan, Brooklyn, Staten Island, etc.\n",
    "\n",
    "* _**Tip:** You can basically cut and paste from the end of class on this one_\n",
    "* _**Tip:** 2017 and earlier files are `.xls`, not `.xlsx`_"
   ]
  },
  {
   "cell_type": "code",
   "execution_count": 50,
   "id": "b97b5445",
   "metadata": {},
   "outputs": [],
   "source": [
    "import requests\n",
    "from bs4 import BeautifulSoup\n",
    "\n",
    "response = requests.get(\"https://www.nyc.gov/site/finance/taxes/property-annualized-sales-update.page\")\n",
    "doc = BeautifulSoup(response.text)"
   ]
  },
  {
   "cell_type": "code",
   "execution_count": 51,
   "id": "29c7eca6",
   "metadata": {},
   "outputs": [
    {
     "name": "stdout",
     "output_type": "stream",
     "text": [
      "https://www.nyc.gov/assets/finance/downloads/pdf/rolling_sales/annualized-sales/2021/2021_brooklyn.xlsx\n",
      "https://www.nyc.gov/assets/finance/downloads/pdf/rolling_sales/annualized-sales/2020/2020_brooklyn.xlsx\n",
      "https://www.nyc.gov/assets/finance/downloads/pdf/rolling_sales/annualized-sales/2019/2019_brooklyn.xlsx\n",
      "https://www.nyc.gov/assets/finance/downloads/pdf/rolling_sales/annualized-sales/2018/2018_brooklyn.xlsx\n",
      "https://www.nyc.gov/assets/finance/downloads/pdf/rolling_sales/annualized-sales/2017/2017_brooklyn.xls\n",
      "https://www.nyc.gov/assets/finance/downloads/pdf/rolling_sales/annualized-sales/2016/2016_brooklyn.xls\n",
      "https://www.nyc.gov/assets/finance/downloads/pdf/rolling_sales/annualized-sales/2015/2015_brooklyn.xls\n",
      "https://www.nyc.gov/assets/finance/downloads/pdf/rolling_sales/annualized-sales/2014/2014_brooklyn.xls\n",
      "https://www.nyc.gov/assets/finance/downloads/pdf/rolling_sales/annualized-sales/2013/2013_brooklyn.xls\n",
      "https://www.nyc.gov/assets/finance/downloads/pdf/rolling_sales/annualized-sales/2012/2012_brooklyn.xls\n",
      "https://www.nyc.gov/assets/finance/downloads/pdf/rolling_sales/annualized-sales/2011/2011_brooklyn.xls\n",
      "https://www.nyc.gov/assets/finance/downloads/pdf/rolling_sales/annualized-sales/2010/2010_brooklyn.xls\n",
      "https://www.nyc.gov/assets/finance/downloads/pdf/rolling_sales/annualized-sales/2009_brooklyn.xls\n",
      "https://www.nyc.gov/assets/finance/downloads/pdf/09pdf/rolling_sales/sales_2008_brooklyn.xls\n",
      "https://www.nyc.gov/assets/finance/downloads/excel/rolling_sales/sales_2007_brooklyn.xls\n"
     ]
    }
   ],
   "source": [
    "links = doc.find_all('a')\n",
    "for link in links:\n",
    "    try:\n",
    "        if 'brooklyn.xls' in link['href']:\n",
    "            # Try to print this out????\n",
    "            print(\"https://www.nyc.gov\" + link['href'])\n",
    "    except:\n",
    "        # if it doesn't have an href\n",
    "        # it will just not do anything\n",
    "        pass"
   ]
  },
  {
   "cell_type": "code",
   "execution_count": null,
   "id": "1cc3188a",
   "metadata": {},
   "outputs": [],
   "source": []
  },
  {
   "cell_type": "markdown",
   "id": "0933c104",
   "metadata": {},
   "source": [
    "## Use Python to make a list of the URLs to be downloaded, and save them to a file.\n",
    "\n",
    "The format is a _little_ different than what we did in class, as `/` at the beginning of a url means \"start from the top of the domain\" instead of \"start relative to the page you're on now.\" Just examine your URLs and you'll notice it.\n",
    "\n",
    "_**Tip:** If you want to google around at other ways to do this, the `'\\n'.join(urls)` method might be an interesting one to look at._"
   ]
  },
  {
   "cell_type": "code",
   "execution_count": 52,
   "id": "e724fd65",
   "metadata": {},
   "outputs": [
    {
     "name": "stdout",
     "output_type": "stream",
     "text": [
      "/assets/finance/downloads/pdf/rolling_sales/annualized-sales/2021/2021_brooklyn.xlsx\n",
      "/assets/finance/downloads/pdf/rolling_sales/annualized-sales/2020/2020_brooklyn.xlsx\n",
      "/assets/finance/downloads/pdf/rolling_sales/annualized-sales/2019/2019_brooklyn.xlsx\n",
      "/assets/finance/downloads/pdf/rolling_sales/annualized-sales/2018/2018_brooklyn.xlsx\n",
      "/assets/finance/downloads/pdf/rolling_sales/annualized-sales/2017/2017_brooklyn.xls\n",
      "/assets/finance/downloads/pdf/rolling_sales/annualized-sales/2016/2016_brooklyn.xls\n",
      "/assets/finance/downloads/pdf/rolling_sales/annualized-sales/2015/2015_brooklyn.xls\n",
      "/assets/finance/downloads/pdf/rolling_sales/annualized-sales/2014/2014_brooklyn.xls\n",
      "/assets/finance/downloads/pdf/rolling_sales/annualized-sales/2013/2013_brooklyn.xls\n",
      "/assets/finance/downloads/pdf/rolling_sales/annualized-sales/2012/2012_brooklyn.xls\n",
      "/assets/finance/downloads/pdf/rolling_sales/annualized-sales/2011/2011_brooklyn.xls\n",
      "/assets/finance/downloads/pdf/rolling_sales/annualized-sales/2010/2010_brooklyn.xls\n",
      "/assets/finance/downloads/pdf/rolling_sales/annualized-sales/2009_brooklyn.xls\n",
      "/assets/finance/downloads/pdf/09pdf/rolling_sales/sales_2008_brooklyn.xls\n",
      "/assets/finance/downloads/excel/rolling_sales/sales_2007_brooklyn.xls\n"
     ]
    }
   ],
   "source": [
    "links = doc.select(\"a[href*='brooklyn.xls']\")\n",
    "for link in links:\n",
    "    print(link['href'])"
   ]
  },
  {
   "cell_type": "code",
   "execution_count": 53,
   "id": "47ca269d",
   "metadata": {},
   "outputs": [
    {
     "data": {
      "text/plain": [
       "['https://www.nyc.gov/assets/finance/downloads/pdf/rolling_sales/annualized-sales/2021/2021_brooklyn.xlsx',\n",
       " 'https://www.nyc.gov/assets/finance/downloads/pdf/rolling_sales/annualized-sales/2020/2020_brooklyn.xlsx',\n",
       " 'https://www.nyc.gov/assets/finance/downloads/pdf/rolling_sales/annualized-sales/2019/2019_brooklyn.xlsx',\n",
       " 'https://www.nyc.gov/assets/finance/downloads/pdf/rolling_sales/annualized-sales/2018/2018_brooklyn.xlsx',\n",
       " 'https://www.nyc.gov/assets/finance/downloads/pdf/rolling_sales/annualized-sales/2017/2017_brooklyn.xls',\n",
       " 'https://www.nyc.gov/assets/finance/downloads/pdf/rolling_sales/annualized-sales/2016/2016_brooklyn.xls',\n",
       " 'https://www.nyc.gov/assets/finance/downloads/pdf/rolling_sales/annualized-sales/2015/2015_brooklyn.xls',\n",
       " 'https://www.nyc.gov/assets/finance/downloads/pdf/rolling_sales/annualized-sales/2014/2014_brooklyn.xls',\n",
       " 'https://www.nyc.gov/assets/finance/downloads/pdf/rolling_sales/annualized-sales/2013/2013_brooklyn.xls',\n",
       " 'https://www.nyc.gov/assets/finance/downloads/pdf/rolling_sales/annualized-sales/2012/2012_brooklyn.xls',\n",
       " 'https://www.nyc.gov/assets/finance/downloads/pdf/rolling_sales/annualized-sales/2011/2011_brooklyn.xls',\n",
       " 'https://www.nyc.gov/assets/finance/downloads/pdf/rolling_sales/annualized-sales/2010/2010_brooklyn.xls',\n",
       " 'https://www.nyc.gov/assets/finance/downloads/pdf/rolling_sales/annualized-sales/2009_brooklyn.xls',\n",
       " 'https://www.nyc.gov/assets/finance/downloads/pdf/09pdf/rolling_sales/sales_2008_brooklyn.xls',\n",
       " 'https://www.nyc.gov/assets/finance/downloads/excel/rolling_sales/sales_2007_brooklyn.xls']"
      ]
     },
     "execution_count": 53,
     "metadata": {},
     "output_type": "execute_result"
    }
   ],
   "source": [
    "urls = [\"https://www.nyc.gov\" + link['href'] for link in links]\n",
    "urls"
   ]
  },
  {
   "cell_type": "code",
   "execution_count": 54,
   "id": "9ab48483",
   "metadata": {},
   "outputs": [],
   "source": [
    "with open(\"urls.txt\", 'w') as fp:\n",
    "    for url in urls:\n",
    "        fp.write(url + \"\\n\")"
   ]
  },
  {
   "cell_type": "code",
   "execution_count": null,
   "id": "4f775249",
   "metadata": {},
   "outputs": [],
   "source": []
  },
  {
   "cell_type": "markdown",
   "id": "a8d3ce05",
   "metadata": {},
   "source": [
    "## Download the Excel files with `wget` or `curl`\n",
    "\n",
    "You can see what I did in class, but `wget` has an option to provide it with a filename to download al ist of files from."
   ]
  },
  {
   "cell_type": "code",
   "execution_count": 55,
   "id": "e24a96f6",
   "metadata": {},
   "outputs": [
    {
     "name": "stdout",
     "output_type": "stream",
     "text": [
      "--2022-11-18 18:04:49--  https://www.nyc.gov/assets/finance/downloads/pdf/rolling_sales/annualized-sales/2021/2021_brooklyn.xlsx\n",
      "Resolving www.nyc.gov (www.nyc.gov)... 104.70.72.36\n",
      "Connecting to www.nyc.gov (www.nyc.gov)|104.70.72.36|:443... connected.\n",
      "HTTP request sent, awaiting response... 200 OK\n",
      "Length: 3212511 (3.1M) [application/vnd.openxmlformats-officedocument.spreadsheetml.sheet]\n",
      "Saving to: ‘2021_brooklyn.xlsx’\n",
      "\n",
      "2021_brooklyn.xlsx  100%[===================>]   3.06M  13.4MB/s    in 0.2s    \n",
      "\n",
      "2022-11-18 18:04:49 (13.4 MB/s) - ‘2021_brooklyn.xlsx’ saved [3212511/3212511]\n",
      "\n",
      "--2022-11-18 18:04:49--  https://www.nyc.gov/assets/finance/downloads/pdf/rolling_sales/annualized-sales/2020/2020_brooklyn.xlsx\n",
      "Reusing existing connection to www.nyc.gov:443.\n",
      "HTTP request sent, awaiting response... 200 OK\n",
      "Length: 2277851 (2.2M) [application/vnd.openxmlformats-officedocument.spreadsheetml.sheet]\n",
      "Saving to: ‘2020_brooklyn.xlsx’\n",
      "\n",
      "2020_brooklyn.xlsx  100%[===================>]   2.17M  --.-KB/s    in 0.1s    \n",
      "\n",
      "2022-11-18 18:04:50 (17.0 MB/s) - ‘2020_brooklyn.xlsx’ saved [2277851/2277851]\n",
      "\n",
      "--2022-11-18 18:04:50--  https://www.nyc.gov/assets/finance/downloads/pdf/rolling_sales/annualized-sales/2019/2019_brooklyn.xlsx\n",
      "Reusing existing connection to www.nyc.gov:443.\n",
      "HTTP request sent, awaiting response... 200 OK\n",
      "Length: 2633331 (2.5M) [application/vnd.openxmlformats-officedocument.spreadsheetml.sheet]\n",
      "Saving to: ‘2019_brooklyn.xlsx’\n",
      "\n",
      "2019_brooklyn.xlsx  100%[===================>]   2.51M  15.4MB/s    in 0.2s    \n",
      "\n",
      "2022-11-18 18:04:50 (15.4 MB/s) - ‘2019_brooklyn.xlsx’ saved [2633331/2633331]\n",
      "\n",
      "--2022-11-18 18:04:50--  https://www.nyc.gov/assets/finance/downloads/pdf/rolling_sales/annualized-sales/2018/2018_brooklyn.xlsx\n",
      "Reusing existing connection to www.nyc.gov:443.\n",
      "HTTP request sent, awaiting response... 200 OK\n",
      "Length: 2879140 (2.7M) [application/vnd.openxmlformats-officedocument.spreadsheetml.sheet]\n",
      "Saving to: ‘2018_brooklyn.xlsx’\n",
      "\n",
      "2018_brooklyn.xlsx  100%[===================>]   2.75M  16.1MB/s    in 0.2s    \n",
      "\n",
      "2022-11-18 18:04:51 (16.1 MB/s) - ‘2018_brooklyn.xlsx’ saved [2879140/2879140]\n",
      "\n",
      "--2022-11-18 18:04:51--  https://www.nyc.gov/assets/finance/downloads/pdf/rolling_sales/annualized-sales/2017/2017_brooklyn.xls\n",
      "Reusing existing connection to www.nyc.gov:443.\n",
      "HTTP request sent, awaiting response... 200 OK\n",
      "Length: 6566400 (6.3M) [application/vnd.ms-excel]\n",
      "Saving to: ‘2017_brooklyn.xls’\n",
      "\n",
      "2017_brooklyn.xls   100%[===================>]   6.26M  9.53MB/s    in 0.7s    \n",
      "\n",
      "2022-11-18 18:04:51 (9.53 MB/s) - ‘2017_brooklyn.xls’ saved [6566400/6566400]\n",
      "\n",
      "--2022-11-18 18:04:51--  https://www.nyc.gov/assets/finance/downloads/pdf/rolling_sales/annualized-sales/2016/2016_brooklyn.xls\n",
      "Reusing existing connection to www.nyc.gov:443.\n",
      "HTTP request sent, awaiting response... 200 OK\n",
      "Length: 7247872 (6.9M) [application/vnd.ms-excel]\n",
      "Saving to: ‘2016_brooklyn.xls’\n",
      "\n",
      "2016_brooklyn.xls   100%[===================>]   6.91M  11.0MB/s    in 0.6s    \n",
      "\n",
      "2022-11-18 18:04:52 (11.0 MB/s) - ‘2016_brooklyn.xls’ saved [7247872/7247872]\n",
      "\n",
      "--2022-11-18 18:04:52--  https://www.nyc.gov/assets/finance/downloads/pdf/rolling_sales/annualized-sales/2015/2015_brooklyn.xls\n",
      "Reusing existing connection to www.nyc.gov:443.\n",
      "HTTP request sent, awaiting response... 200 OK\n",
      "Length: 7196672 (6.9M) [application/vnd.ms-excel]\n",
      "Saving to: ‘2015_brooklyn.xls’\n",
      "\n",
      "2015_brooklyn.xls   100%[===================>]   6.86M  13.2MB/s    in 0.5s    \n",
      "\n",
      "2022-11-18 18:04:53 (13.2 MB/s) - ‘2015_brooklyn.xls’ saved [7196672/7196672]\n",
      "\n",
      "--2022-11-18 18:04:53--  https://www.nyc.gov/assets/finance/downloads/pdf/rolling_sales/annualized-sales/2014/2014_brooklyn.xls\n",
      "Reusing existing connection to www.nyc.gov:443.\n",
      "HTTP request sent, awaiting response... 200 OK\n",
      "Length: 7180800 (6.8M) [application/vnd.ms-excel]\n",
      "Saving to: ‘2014_brooklyn.xls’\n",
      "\n",
      "2014_brooklyn.xls   100%[===================>]   6.85M  11.8MB/s    in 0.6s    \n",
      "\n",
      "2022-11-18 18:04:53 (11.8 MB/s) - ‘2014_brooklyn.xls’ saved [7180800/7180800]\n",
      "\n",
      "--2022-11-18 18:04:53--  https://www.nyc.gov/assets/finance/downloads/pdf/rolling_sales/annualized-sales/2013/2013_brooklyn.xls\n",
      "Reusing existing connection to www.nyc.gov:443.\n",
      "HTTP request sent, awaiting response... 200 OK\n",
      "Length: 7141888 (6.8M) [application/vnd.ms-excel]\n",
      "Saving to: ‘2013_brooklyn.xls’\n",
      "\n",
      "2013_brooklyn.xls   100%[===================>]   6.81M  12.8MB/s    in 0.5s    \n",
      "\n",
      "2022-11-18 18:04:54 (12.8 MB/s) - ‘2013_brooklyn.xls’ saved [7141888/7141888]\n",
      "\n",
      "--2022-11-18 18:04:54--  https://www.nyc.gov/assets/finance/downloads/pdf/rolling_sales/annualized-sales/2012/2012_brooklyn.xls\n",
      "Reusing existing connection to www.nyc.gov:443.\n",
      "HTTP request sent, awaiting response... 200 OK\n",
      "Length: 6748672 (6.4M) [application/vnd.ms-excel]\n",
      "Saving to: ‘2012_brooklyn.xls’\n",
      "\n",
      "2012_brooklyn.xls   100%[===================>]   6.44M  11.7MB/s    in 0.5s    \n",
      "\n",
      "2022-11-18 18:04:54 (11.7 MB/s) - ‘2012_brooklyn.xls’ saved [6748672/6748672]\n",
      "\n",
      "--2022-11-18 18:04:54--  https://www.nyc.gov/assets/finance/downloads/pdf/rolling_sales/annualized-sales/2011/2011_brooklyn.xls\n",
      "Reusing existing connection to www.nyc.gov:443.\n",
      "HTTP request sent, awaiting response... 200 OK\n",
      "Length: 5794304 (5.5M) [application/vnd.ms-excel]\n",
      "Saving to: ‘2011_brooklyn.xls’\n",
      "\n",
      "2011_brooklyn.xls   100%[===================>]   5.53M  12.2MB/s    in 0.5s    \n",
      "\n",
      "2022-11-18 18:04:55 (12.2 MB/s) - ‘2011_brooklyn.xls’ saved [5794304/5794304]\n",
      "\n",
      "--2022-11-18 18:04:55--  https://www.nyc.gov/assets/finance/downloads/pdf/rolling_sales/annualized-sales/2010/2010_brooklyn.xls\n",
      "Reusing existing connection to www.nyc.gov:443.\n",
      "HTTP request sent, awaiting response... 200 OK\n",
      "Length: 5488128 (5.2M) [application/vnd.ms-excel]\n",
      "Saving to: ‘2010_brooklyn.xls’\n",
      "\n",
      "2010_brooklyn.xls   100%[===================>]   5.23M  10.5MB/s    in 0.5s    \n",
      "\n",
      "2022-11-18 18:04:55 (10.5 MB/s) - ‘2010_brooklyn.xls’ saved [5488128/5488128]\n",
      "\n",
      "--2022-11-18 18:04:55--  https://www.nyc.gov/assets/finance/downloads/pdf/rolling_sales/annualized-sales/2009_brooklyn.xls\n",
      "Reusing existing connection to www.nyc.gov:443.\n",
      "HTTP request sent, awaiting response... 200 OK\n",
      "Length: 5622784 (5.4M) [application/vnd.ms-excel]\n",
      "Saving to: ‘2009_brooklyn.xls’\n",
      "\n",
      "2009_brooklyn.xls   100%[===================>]   5.36M  11.0MB/s    in 0.5s    \n",
      "\n",
      "2022-11-18 18:04:56 (11.0 MB/s) - ‘2009_brooklyn.xls’ saved [5622784/5622784]\n",
      "\n",
      "--2022-11-18 18:04:56--  https://www.nyc.gov/assets/finance/downloads/pdf/09pdf/rolling_sales/sales_2008_brooklyn.xls\n",
      "Reusing existing connection to www.nyc.gov:443.\n",
      "HTTP request sent, awaiting response... 200 OK\n",
      "Length: 6692864 (6.4M) [application/vnd.ms-excel]\n",
      "Saving to: ‘sales_2008_brooklyn.xls.3’\n",
      "\n",
      "sales_2008_brooklyn 100%[===================>]   6.38M  9.57MB/s    in 0.7s    \n",
      "\n",
      "2022-11-18 18:04:57 (9.57 MB/s) - ‘sales_2008_brooklyn.xls.3’ saved [6692864/6692864]\n",
      "\n",
      "--2022-11-18 18:04:57--  https://www.nyc.gov/assets/finance/downloads/excel/rolling_sales/sales_2007_brooklyn.xls\n",
      "Reusing existing connection to www.nyc.gov:443.\n",
      "HTTP request sent, awaiting response... 200 OK\n",
      "Length: 8078848 (7.7M) [application/vnd.ms-excel]\n",
      "Saving to: ‘sales_2007_brooklyn.xls.3’\n",
      "\n",
      "sales_2007_brooklyn 100%[===================>]   7.70M  11.6MB/s    in 0.7s    \n",
      "\n",
      "2022-11-18 18:04:57 (11.6 MB/s) - ‘sales_2007_brooklyn.xls.3’ saved [8078848/8078848]\n",
      "\n",
      "FINISHED --2022-11-18 18:04:57--\n",
      "Total wall clock time: 8.4s\n",
      "Downloaded: 15 files, 81M in 6.9s (11.7 MB/s)\n"
     ]
    }
   ],
   "source": [
    "#!brew install wget\n",
    "!wget -i urls.txt"
   ]
  }
 ],
 "metadata": {
  "kernelspec": {
   "display_name": "Python 3.11.0rc2 64-bit ('3.11.0rc2')",
   "language": "python",
   "name": "python3"
  },
  "language_info": {
   "codemirror_mode": {
    "name": "ipython",
    "version": 3
   },
   "file_extension": ".py",
   "mimetype": "text/x-python",
   "name": "python",
   "nbconvert_exporter": "python",
   "pygments_lexer": "ipython3",
   "version": "3.11.0rc2"
  },
  "vscode": {
   "interpreter": {
    "hash": "fa07e5dff76123542c28abca75c0e47ea742948dbeeb360ccfbd2a5c7c277f8b"
   }
  }
 },
 "nbformat": 4,
 "nbformat_minor": 5
}
