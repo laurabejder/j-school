{
 "cells": [
  {
   "cell_type": "markdown",
   "id": "96e78433",
   "metadata": {},
   "source": [
    "# The Analysis\n",
    "\n",
    "Begin by opening `cleaned.csv`. Make sure we can see all of the columns."
   ]
  },
  {
   "cell_type": "code",
   "execution_count": 3,
   "id": "252e5991",
   "metadata": {},
   "outputs": [
    {
     "data": {
      "text/html": [
       "<div>\n",
       "<style scoped>\n",
       "    .dataframe tbody tr th:only-of-type {\n",
       "        vertical-align: middle;\n",
       "    }\n",
       "\n",
       "    .dataframe tbody tr th {\n",
       "        vertical-align: top;\n",
       "    }\n",
       "\n",
       "    .dataframe thead th {\n",
       "        text-align: right;\n",
       "    }\n",
       "</style>\n",
       "<table border=\"1\" class=\"dataframe\">\n",
       "  <thead>\n",
       "    <tr style=\"text-align: right;\">\n",
       "      <th></th>\n",
       "      <th>BOROUGH</th>\n",
       "      <th>NEIGHBORHOOD</th>\n",
       "      <th>BUILDING CLASS CATEGORY</th>\n",
       "      <th>TAX CLASS AT PRESENT</th>\n",
       "      <th>BLOCK</th>\n",
       "      <th>LOT</th>\n",
       "      <th>EASE-MENT</th>\n",
       "      <th>BUILDING CLASS AT PRESENT</th>\n",
       "      <th>ADDRESS</th>\n",
       "      <th>APARTMENT NUMBER</th>\n",
       "      <th>...</th>\n",
       "      <th>RESIDENTIAL UNITS</th>\n",
       "      <th>COMMERCIAL UNITS</th>\n",
       "      <th>TOTAL UNITS</th>\n",
       "      <th>LAND SQUARE FEET</th>\n",
       "      <th>GROSS SQUARE FEET</th>\n",
       "      <th>YEAR BUILT</th>\n",
       "      <th>TAX CLASS AT TIME OF SALE</th>\n",
       "      <th>BUILDING CLASS AT TIME OF SALE</th>\n",
       "      <th>SALE PRICE</th>\n",
       "      <th>SALE DATE</th>\n",
       "    </tr>\n",
       "  </thead>\n",
       "  <tbody>\n",
       "    <tr>\n",
       "      <th>0</th>\n",
       "      <td>3</td>\n",
       "      <td>BATH BEACH</td>\n",
       "      <td>01  ONE FAMILY HOMES</td>\n",
       "      <td>1</td>\n",
       "      <td>6361</td>\n",
       "      <td>19</td>\n",
       "      <td>NaN</td>\n",
       "      <td>A5</td>\n",
       "      <td>51 BAY 10TH   STREET</td>\n",
       "      <td>NaN</td>\n",
       "      <td>...</td>\n",
       "      <td>1.0</td>\n",
       "      <td>0.0</td>\n",
       "      <td>1.0</td>\n",
       "      <td>1933.0</td>\n",
       "      <td>1660.0</td>\n",
       "      <td>1930.0</td>\n",
       "      <td>1</td>\n",
       "      <td>A5</td>\n",
       "      <td>649000</td>\n",
       "      <td>2007-08-31 00:00:00</td>\n",
       "    </tr>\n",
       "    <tr>\n",
       "      <th>1</th>\n",
       "      <td>3</td>\n",
       "      <td>BATH BEACH</td>\n",
       "      <td>01  ONE FAMILY HOMES</td>\n",
       "      <td>1</td>\n",
       "      <td>6363</td>\n",
       "      <td>37</td>\n",
       "      <td>NaN</td>\n",
       "      <td>A5</td>\n",
       "      <td>8611 16TH   AVENUE</td>\n",
       "      <td>NaN</td>\n",
       "      <td>...</td>\n",
       "      <td>1.0</td>\n",
       "      <td>0.0</td>\n",
       "      <td>1.0</td>\n",
       "      <td>1893.0</td>\n",
       "      <td>1714.0</td>\n",
       "      <td>1930.0</td>\n",
       "      <td>1</td>\n",
       "      <td>A5</td>\n",
       "      <td>520000</td>\n",
       "      <td>2007-05-22 00:00:00</td>\n",
       "    </tr>\n",
       "    <tr>\n",
       "      <th>2</th>\n",
       "      <td>3</td>\n",
       "      <td>BATH BEACH</td>\n",
       "      <td>01  ONE FAMILY HOMES</td>\n",
       "      <td>1</td>\n",
       "      <td>6363</td>\n",
       "      <td>62</td>\n",
       "      <td>NaN</td>\n",
       "      <td>A9</td>\n",
       "      <td>44 BAY 13TH STREET</td>\n",
       "      <td>NaN</td>\n",
       "      <td>...</td>\n",
       "      <td>1.0</td>\n",
       "      <td>0.0</td>\n",
       "      <td>1.0</td>\n",
       "      <td>3575.0</td>\n",
       "      <td>2104.0</td>\n",
       "      <td>1901.0</td>\n",
       "      <td>1</td>\n",
       "      <td>A9</td>\n",
       "      <td>0</td>\n",
       "      <td>2007-11-27 00:00:00</td>\n",
       "    </tr>\n",
       "    <tr>\n",
       "      <th>3</th>\n",
       "      <td>3</td>\n",
       "      <td>BATH BEACH</td>\n",
       "      <td>01  ONE FAMILY HOMES</td>\n",
       "      <td>1</td>\n",
       "      <td>6364</td>\n",
       "      <td>47</td>\n",
       "      <td>NaN</td>\n",
       "      <td>S1</td>\n",
       "      <td>1656 86 STREET</td>\n",
       "      <td>NaN</td>\n",
       "      <td>...</td>\n",
       "      <td>1.0</td>\n",
       "      <td>1.0</td>\n",
       "      <td>2.0</td>\n",
       "      <td>1248.0</td>\n",
       "      <td>1620.0</td>\n",
       "      <td>1901.0</td>\n",
       "      <td>1</td>\n",
       "      <td>S1</td>\n",
       "      <td>645000</td>\n",
       "      <td>2007-04-18 00:00:00</td>\n",
       "    </tr>\n",
       "    <tr>\n",
       "      <th>4</th>\n",
       "      <td>3</td>\n",
       "      <td>BATH BEACH</td>\n",
       "      <td>01  ONE FAMILY HOMES</td>\n",
       "      <td>1</td>\n",
       "      <td>6371</td>\n",
       "      <td>19</td>\n",
       "      <td>NaN</td>\n",
       "      <td>A9</td>\n",
       "      <td>79 BAY 20 STREET</td>\n",
       "      <td>NaN</td>\n",
       "      <td>...</td>\n",
       "      <td>1.0</td>\n",
       "      <td>0.0</td>\n",
       "      <td>1.0</td>\n",
       "      <td>2320.0</td>\n",
       "      <td>1956.0</td>\n",
       "      <td>1930.0</td>\n",
       "      <td>1</td>\n",
       "      <td>A9</td>\n",
       "      <td>0</td>\n",
       "      <td>2007-09-12 00:00:00</td>\n",
       "    </tr>\n",
       "  </tbody>\n",
       "</table>\n",
       "<p>5 rows × 21 columns</p>\n",
       "</div>"
      ],
      "text/plain": [
       "   BOROUGH NEIGHBORHOOD BUILDING CLASS CATEGORY TAX CLASS AT PRESENT  BLOCK  \\\n",
       "0        3   BATH BEACH    01  ONE FAMILY HOMES                    1   6361   \n",
       "1        3   BATH BEACH    01  ONE FAMILY HOMES                    1   6363   \n",
       "2        3   BATH BEACH    01  ONE FAMILY HOMES                    1   6363   \n",
       "3        3   BATH BEACH    01  ONE FAMILY HOMES                    1   6364   \n",
       "4        3   BATH BEACH    01  ONE FAMILY HOMES                    1   6371   \n",
       "\n",
       "   LOT  EASE-MENT BUILDING CLASS AT PRESENT               ADDRESS  \\\n",
       "0   19        NaN                        A5  51 BAY 10TH   STREET   \n",
       "1   37        NaN                        A5    8611 16TH   AVENUE   \n",
       "2   62        NaN                        A9    44 BAY 13TH STREET   \n",
       "3   47        NaN                        S1        1656 86 STREET   \n",
       "4   19        NaN                        A9      79 BAY 20 STREET   \n",
       "\n",
       "  APARTMENT NUMBER  ...  RESIDENTIAL UNITS  COMMERCIAL UNITS  TOTAL UNITS  \\\n",
       "0              NaN  ...                1.0               0.0          1.0   \n",
       "1              NaN  ...                1.0               0.0          1.0   \n",
       "2              NaN  ...                1.0               0.0          1.0   \n",
       "3              NaN  ...                1.0               1.0          2.0   \n",
       "4              NaN  ...                1.0               0.0          1.0   \n",
       "\n",
       "   LAND SQUARE FEET  GROSS SQUARE FEET  YEAR BUILT  TAX CLASS AT TIME OF SALE  \\\n",
       "0            1933.0             1660.0      1930.0                          1   \n",
       "1            1893.0             1714.0      1930.0                          1   \n",
       "2            3575.0             2104.0      1901.0                          1   \n",
       "3            1248.0             1620.0      1901.0                          1   \n",
       "4            2320.0             1956.0      1930.0                          1   \n",
       "\n",
       "   BUILDING CLASS AT TIME OF SALE SALE PRICE            SALE DATE  \n",
       "0                              A5     649000  2007-08-31 00:00:00  \n",
       "1                              A5     520000  2007-05-22 00:00:00  \n",
       "2                              A9          0  2007-11-27 00:00:00  \n",
       "3                              S1     645000  2007-04-18 00:00:00  \n",
       "4                              A9          0  2007-09-12 00:00:00  \n",
       "\n",
       "[5 rows x 21 columns]"
      ]
     },
     "execution_count": 3,
     "metadata": {},
     "output_type": "execute_result"
    }
   ],
   "source": [
    "import pandas as pd\n",
    "df = pd.read_csv('sales_brooklyn.csv')\n",
    "df.head()"
   ]
  },
  {
   "cell_type": "markdown",
   "id": "f38283ba",
   "metadata": {},
   "source": [
    "## Fix the column names\n",
    "\n",
    "Sigh, I don't like the whole \"GROSS SQUARE FEET\" kind of thing. Let's turn that into `gross_square_feet` (along with all the other columns). "
   ]
  },
  {
   "cell_type": "code",
   "execution_count": 8,
   "id": "a4038120",
   "metadata": {},
   "outputs": [
    {
     "name": "stderr",
     "output_type": "stream",
     "text": [
      "/var/folders/hx/m3n3wwr91yg_snnv68ynqsp80000gn/T/ipykernel_22347/3826401932.py:1: FutureWarning: The default value of regex will change from True to False in a future version. In addition, single character regular expressions will *not* be treated as literal strings when regex=True.\n",
      "  df.columns = df.columns.str.lower().str.replace(\" \",\"_\").str.replace(\"(\",\"\").str.replace(\")\",\"\")\n",
      "/var/folders/hx/m3n3wwr91yg_snnv68ynqsp80000gn/T/ipykernel_22347/3826401932.py:1: FutureWarning: The default value of regex will change from True to False in a future version. In addition, single character regular expressions will *not* be treated as literal strings when regex=True.\n",
      "  df.columns = df.columns.str.lower().str.replace(\" \",\"_\").str.replace(\"(\",\"\").str.replace(\")\",\"\")\n"
     ]
    },
    {
     "data": {
      "text/html": [
       "<div>\n",
       "<style scoped>\n",
       "    .dataframe tbody tr th:only-of-type {\n",
       "        vertical-align: middle;\n",
       "    }\n",
       "\n",
       "    .dataframe tbody tr th {\n",
       "        vertical-align: top;\n",
       "    }\n",
       "\n",
       "    .dataframe thead th {\n",
       "        text-align: right;\n",
       "    }\n",
       "</style>\n",
       "<table border=\"1\" class=\"dataframe\">\n",
       "  <thead>\n",
       "    <tr style=\"text-align: right;\">\n",
       "      <th></th>\n",
       "      <th>borough</th>\n",
       "      <th>neighborhood</th>\n",
       "      <th>building_class_category</th>\n",
       "      <th>tax_class_at_present</th>\n",
       "      <th>block</th>\n",
       "      <th>lot</th>\n",
       "      <th>ease-ment</th>\n",
       "      <th>building_class_at_present</th>\n",
       "      <th>address</th>\n",
       "      <th>apartment_number</th>\n",
       "      <th>...</th>\n",
       "      <th>residential_units</th>\n",
       "      <th>commercial_units</th>\n",
       "      <th>total_units</th>\n",
       "      <th>land_square_feet</th>\n",
       "      <th>gross_square_feet</th>\n",
       "      <th>year_built</th>\n",
       "      <th>tax_class_at_time_of_sale</th>\n",
       "      <th>building_class_at_time_of_sale</th>\n",
       "      <th>sale_price</th>\n",
       "      <th>sale_date</th>\n",
       "    </tr>\n",
       "  </thead>\n",
       "  <tbody>\n",
       "    <tr>\n",
       "      <th>0</th>\n",
       "      <td>3</td>\n",
       "      <td>BATH BEACH</td>\n",
       "      <td>01  ONE FAMILY HOMES</td>\n",
       "      <td>1</td>\n",
       "      <td>6361</td>\n",
       "      <td>19</td>\n",
       "      <td>NaN</td>\n",
       "      <td>A5</td>\n",
       "      <td>51 BAY 10TH   STREET</td>\n",
       "      <td>NaN</td>\n",
       "      <td>...</td>\n",
       "      <td>1.0</td>\n",
       "      <td>0.0</td>\n",
       "      <td>1.0</td>\n",
       "      <td>1933.0</td>\n",
       "      <td>1660.0</td>\n",
       "      <td>1930.0</td>\n",
       "      <td>1</td>\n",
       "      <td>A5</td>\n",
       "      <td>649000</td>\n",
       "      <td>2007-08-31</td>\n",
       "    </tr>\n",
       "    <tr>\n",
       "      <th>1</th>\n",
       "      <td>3</td>\n",
       "      <td>BATH BEACH</td>\n",
       "      <td>01  ONE FAMILY HOMES</td>\n",
       "      <td>1</td>\n",
       "      <td>6363</td>\n",
       "      <td>37</td>\n",
       "      <td>NaN</td>\n",
       "      <td>A5</td>\n",
       "      <td>8611 16TH   AVENUE</td>\n",
       "      <td>NaN</td>\n",
       "      <td>...</td>\n",
       "      <td>1.0</td>\n",
       "      <td>0.0</td>\n",
       "      <td>1.0</td>\n",
       "      <td>1893.0</td>\n",
       "      <td>1714.0</td>\n",
       "      <td>1930.0</td>\n",
       "      <td>1</td>\n",
       "      <td>A5</td>\n",
       "      <td>520000</td>\n",
       "      <td>2007-05-22</td>\n",
       "    </tr>\n",
       "    <tr>\n",
       "      <th>2</th>\n",
       "      <td>3</td>\n",
       "      <td>BATH BEACH</td>\n",
       "      <td>01  ONE FAMILY HOMES</td>\n",
       "      <td>1</td>\n",
       "      <td>6363</td>\n",
       "      <td>62</td>\n",
       "      <td>NaN</td>\n",
       "      <td>A9</td>\n",
       "      <td>44 BAY 13TH STREET</td>\n",
       "      <td>NaN</td>\n",
       "      <td>...</td>\n",
       "      <td>1.0</td>\n",
       "      <td>0.0</td>\n",
       "      <td>1.0</td>\n",
       "      <td>3575.0</td>\n",
       "      <td>2104.0</td>\n",
       "      <td>1901.0</td>\n",
       "      <td>1</td>\n",
       "      <td>A9</td>\n",
       "      <td>0</td>\n",
       "      <td>2007-11-27</td>\n",
       "    </tr>\n",
       "    <tr>\n",
       "      <th>3</th>\n",
       "      <td>3</td>\n",
       "      <td>BATH BEACH</td>\n",
       "      <td>01  ONE FAMILY HOMES</td>\n",
       "      <td>1</td>\n",
       "      <td>6364</td>\n",
       "      <td>47</td>\n",
       "      <td>NaN</td>\n",
       "      <td>S1</td>\n",
       "      <td>1656 86 STREET</td>\n",
       "      <td>NaN</td>\n",
       "      <td>...</td>\n",
       "      <td>1.0</td>\n",
       "      <td>1.0</td>\n",
       "      <td>2.0</td>\n",
       "      <td>1248.0</td>\n",
       "      <td>1620.0</td>\n",
       "      <td>1901.0</td>\n",
       "      <td>1</td>\n",
       "      <td>S1</td>\n",
       "      <td>645000</td>\n",
       "      <td>2007-04-18</td>\n",
       "    </tr>\n",
       "    <tr>\n",
       "      <th>4</th>\n",
       "      <td>3</td>\n",
       "      <td>BATH BEACH</td>\n",
       "      <td>01  ONE FAMILY HOMES</td>\n",
       "      <td>1</td>\n",
       "      <td>6371</td>\n",
       "      <td>19</td>\n",
       "      <td>NaN</td>\n",
       "      <td>A9</td>\n",
       "      <td>79 BAY 20 STREET</td>\n",
       "      <td>NaN</td>\n",
       "      <td>...</td>\n",
       "      <td>1.0</td>\n",
       "      <td>0.0</td>\n",
       "      <td>1.0</td>\n",
       "      <td>2320.0</td>\n",
       "      <td>1956.0</td>\n",
       "      <td>1930.0</td>\n",
       "      <td>1</td>\n",
       "      <td>A9</td>\n",
       "      <td>0</td>\n",
       "      <td>2007-09-12</td>\n",
       "    </tr>\n",
       "    <tr>\n",
       "      <th>...</th>\n",
       "      <td>...</td>\n",
       "      <td>...</td>\n",
       "      <td>...</td>\n",
       "      <td>...</td>\n",
       "      <td>...</td>\n",
       "      <td>...</td>\n",
       "      <td>...</td>\n",
       "      <td>...</td>\n",
       "      <td>...</td>\n",
       "      <td>...</td>\n",
       "      <td>...</td>\n",
       "      <td>...</td>\n",
       "      <td>...</td>\n",
       "      <td>...</td>\n",
       "      <td>...</td>\n",
       "      <td>...</td>\n",
       "      <td>...</td>\n",
       "      <td>...</td>\n",
       "      <td>...</td>\n",
       "      <td>...</td>\n",
       "      <td>...</td>\n",
       "    </tr>\n",
       "    <tr>\n",
       "      <th>95</th>\n",
       "      <td>3</td>\n",
       "      <td>BATH BEACH</td>\n",
       "      <td>02  TWO FAMILY HOMES</td>\n",
       "      <td>1</td>\n",
       "      <td>6426</td>\n",
       "      <td>22</td>\n",
       "      <td>NaN</td>\n",
       "      <td>B2</td>\n",
       "      <td>213 BAY 8TH STREET</td>\n",
       "      <td>NaN</td>\n",
       "      <td>...</td>\n",
       "      <td>2.0</td>\n",
       "      <td>0.0</td>\n",
       "      <td>2.0</td>\n",
       "      <td>1933.0</td>\n",
       "      <td>2048.0</td>\n",
       "      <td>1930.0</td>\n",
       "      <td>1</td>\n",
       "      <td>B2</td>\n",
       "      <td>0</td>\n",
       "      <td>2007-01-08</td>\n",
       "    </tr>\n",
       "    <tr>\n",
       "      <th>96</th>\n",
       "      <td>3</td>\n",
       "      <td>BATH BEACH</td>\n",
       "      <td>02  TWO FAMILY HOMES</td>\n",
       "      <td>1</td>\n",
       "      <td>6426</td>\n",
       "      <td>23</td>\n",
       "      <td>NaN</td>\n",
       "      <td>B2</td>\n",
       "      <td>211 BAY 8TH   STREET</td>\n",
       "      <td>NaN</td>\n",
       "      <td>...</td>\n",
       "      <td>2.0</td>\n",
       "      <td>0.0</td>\n",
       "      <td>2.0</td>\n",
       "      <td>1933.0</td>\n",
       "      <td>2048.0</td>\n",
       "      <td>1930.0</td>\n",
       "      <td>1</td>\n",
       "      <td>B2</td>\n",
       "      <td>593600</td>\n",
       "      <td>2007-06-04</td>\n",
       "    </tr>\n",
       "    <tr>\n",
       "      <th>97</th>\n",
       "      <td>3</td>\n",
       "      <td>BATH BEACH</td>\n",
       "      <td>02  TWO FAMILY HOMES</td>\n",
       "      <td>1</td>\n",
       "      <td>6426</td>\n",
       "      <td>23</td>\n",
       "      <td>NaN</td>\n",
       "      <td>B2</td>\n",
       "      <td>211 BAY 8TH   STREET</td>\n",
       "      <td>NaN</td>\n",
       "      <td>...</td>\n",
       "      <td>2.0</td>\n",
       "      <td>0.0</td>\n",
       "      <td>2.0</td>\n",
       "      <td>1933.0</td>\n",
       "      <td>2048.0</td>\n",
       "      <td>1930.0</td>\n",
       "      <td>1</td>\n",
       "      <td>B2</td>\n",
       "      <td>0</td>\n",
       "      <td>2007-02-26</td>\n",
       "    </tr>\n",
       "    <tr>\n",
       "      <th>98</th>\n",
       "      <td>3</td>\n",
       "      <td>BATH BEACH</td>\n",
       "      <td>02  TWO FAMILY HOMES</td>\n",
       "      <td>1</td>\n",
       "      <td>6426</td>\n",
       "      <td>36</td>\n",
       "      <td>NaN</td>\n",
       "      <td>B1</td>\n",
       "      <td>179 BAY 8TH STREET</td>\n",
       "      <td>NaN</td>\n",
       "      <td>...</td>\n",
       "      <td>2.0</td>\n",
       "      <td>0.0</td>\n",
       "      <td>2.0</td>\n",
       "      <td>1933.0</td>\n",
       "      <td>2055.0</td>\n",
       "      <td>1955.0</td>\n",
       "      <td>1</td>\n",
       "      <td>B1</td>\n",
       "      <td>0</td>\n",
       "      <td>2007-04-13</td>\n",
       "    </tr>\n",
       "    <tr>\n",
       "      <th>99</th>\n",
       "      <td>3</td>\n",
       "      <td>BATH BEACH</td>\n",
       "      <td>02  TWO FAMILY HOMES</td>\n",
       "      <td>1</td>\n",
       "      <td>6428</td>\n",
       "      <td>37</td>\n",
       "      <td>NaN</td>\n",
       "      <td>B1</td>\n",
       "      <td>173 BAY 10TH STREET</td>\n",
       "      <td>NaN</td>\n",
       "      <td>...</td>\n",
       "      <td>2.0</td>\n",
       "      <td>0.0</td>\n",
       "      <td>2.0</td>\n",
       "      <td>1933.0</td>\n",
       "      <td>2156.0</td>\n",
       "      <td>1960.0</td>\n",
       "      <td>1</td>\n",
       "      <td>B1</td>\n",
       "      <td>0</td>\n",
       "      <td>2007-04-12</td>\n",
       "    </tr>\n",
       "  </tbody>\n",
       "</table>\n",
       "<p>100 rows × 21 columns</p>\n",
       "</div>"
      ],
      "text/plain": [
       "    borough neighborhood building_class_category tax_class_at_present  block  \\\n",
       "0         3   BATH BEACH    01  ONE FAMILY HOMES                    1   6361   \n",
       "1         3   BATH BEACH    01  ONE FAMILY HOMES                    1   6363   \n",
       "2         3   BATH BEACH    01  ONE FAMILY HOMES                    1   6363   \n",
       "3         3   BATH BEACH    01  ONE FAMILY HOMES                    1   6364   \n",
       "4         3   BATH BEACH    01  ONE FAMILY HOMES                    1   6371   \n",
       "..      ...          ...                     ...                  ...    ...   \n",
       "95        3   BATH BEACH    02  TWO FAMILY HOMES                    1   6426   \n",
       "96        3   BATH BEACH    02  TWO FAMILY HOMES                    1   6426   \n",
       "97        3   BATH BEACH    02  TWO FAMILY HOMES                    1   6426   \n",
       "98        3   BATH BEACH    02  TWO FAMILY HOMES                    1   6426   \n",
       "99        3   BATH BEACH    02  TWO FAMILY HOMES                    1   6428   \n",
       "\n",
       "    lot  ease-ment building_class_at_present               address  \\\n",
       "0    19        NaN                        A5  51 BAY 10TH   STREET   \n",
       "1    37        NaN                        A5    8611 16TH   AVENUE   \n",
       "2    62        NaN                        A9    44 BAY 13TH STREET   \n",
       "3    47        NaN                        S1        1656 86 STREET   \n",
       "4    19        NaN                        A9      79 BAY 20 STREET   \n",
       "..  ...        ...                       ...                   ...   \n",
       "95   22        NaN                        B2    213 BAY 8TH STREET   \n",
       "96   23        NaN                        B2  211 BAY 8TH   STREET   \n",
       "97   23        NaN                        B2  211 BAY 8TH   STREET   \n",
       "98   36        NaN                        B1    179 BAY 8TH STREET   \n",
       "99   37        NaN                        B1   173 BAY 10TH STREET   \n",
       "\n",
       "   apartment_number  ...  residential_units  commercial_units  total_units  \\\n",
       "0               NaN  ...                1.0               0.0          1.0   \n",
       "1               NaN  ...                1.0               0.0          1.0   \n",
       "2               NaN  ...                1.0               0.0          1.0   \n",
       "3               NaN  ...                1.0               1.0          2.0   \n",
       "4               NaN  ...                1.0               0.0          1.0   \n",
       "..              ...  ...                ...               ...          ...   \n",
       "95              NaN  ...                2.0               0.0          2.0   \n",
       "96              NaN  ...                2.0               0.0          2.0   \n",
       "97              NaN  ...                2.0               0.0          2.0   \n",
       "98              NaN  ...                2.0               0.0          2.0   \n",
       "99              NaN  ...                2.0               0.0          2.0   \n",
       "\n",
       "    land_square_feet  gross_square_feet  year_built  \\\n",
       "0             1933.0             1660.0      1930.0   \n",
       "1             1893.0             1714.0      1930.0   \n",
       "2             3575.0             2104.0      1901.0   \n",
       "3             1248.0             1620.0      1901.0   \n",
       "4             2320.0             1956.0      1930.0   \n",
       "..               ...                ...         ...   \n",
       "95            1933.0             2048.0      1930.0   \n",
       "96            1933.0             2048.0      1930.0   \n",
       "97            1933.0             2048.0      1930.0   \n",
       "98            1933.0             2055.0      1955.0   \n",
       "99            1933.0             2156.0      1960.0   \n",
       "\n",
       "    tax_class_at_time_of_sale  building_class_at_time_of_sale sale_price  \\\n",
       "0                           1                              A5     649000   \n",
       "1                           1                              A5     520000   \n",
       "2                           1                              A9          0   \n",
       "3                           1                              S1     645000   \n",
       "4                           1                              A9          0   \n",
       "..                        ...                             ...        ...   \n",
       "95                          1                              B2          0   \n",
       "96                          1                              B2     593600   \n",
       "97                          1                              B2          0   \n",
       "98                          1                              B1          0   \n",
       "99                          1                              B1          0   \n",
       "\n",
       "    sale_date  \n",
       "0  2007-08-31  \n",
       "1  2007-05-22  \n",
       "2  2007-11-27  \n",
       "3  2007-04-18  \n",
       "4  2007-09-12  \n",
       "..        ...  \n",
       "95 2007-01-08  \n",
       "96 2007-06-04  \n",
       "97 2007-02-26  \n",
       "98 2007-04-13  \n",
       "99 2007-04-12  \n",
       "\n",
       "[100 rows x 21 columns]"
      ]
     },
     "execution_count": 8,
     "metadata": {},
     "output_type": "execute_result"
    }
   ],
   "source": [
    "df.columns = df.columns.str.lower().str.replace(\" \",\"_\").str.replace(\"(\",\"\").str.replace(\")\",\"\")\n",
    "df.head(100)"
   ]
  },
  {
   "cell_type": "markdown",
   "id": "0ee01dd3",
   "metadata": {},
   "source": [
    "## Convert the sale date to a datetime using `pd.to_datetime`\n",
    "\n",
    "You could have also done it with `read_csv`! You can do `parse_dates=[...]` with a list of the dates you'd like to be turned into datetimes."
   ]
  },
  {
   "cell_type": "code",
   "execution_count": 7,
   "id": "cd525771",
   "metadata": {},
   "outputs": [
    {
     "data": {
      "text/plain": [
       "borough                                    int64\n",
       "neighborhood                              object\n",
       "building_class_category                   object\n",
       "tax_class_at_present                      object\n",
       "block                                      int64\n",
       "lot                                        int64\n",
       "ease-ment                                float64\n",
       "building_class_at_present                 object\n",
       "address                                   object\n",
       "apartment_number                          object\n",
       "zip_code                                 float64\n",
       "residential_units                        float64\n",
       "commercial_units                         float64\n",
       "total_units                              float64\n",
       "land_square_feet                         float64\n",
       "gross_square_feet                        float64\n",
       "year_built                               float64\n",
       "tax_class_at_time_of_sale                  int64\n",
       "building_class_at_time_of_sale            object\n",
       "sale_price                                 int64\n",
       "sale_date                         datetime64[ns]\n",
       "dtype: object"
      ]
     },
     "execution_count": 7,
     "metadata": {},
     "output_type": "execute_result"
    }
   ],
   "source": [
    "df['sale_date'] = pd.to_datetime(df.sale_date)\n",
    "df.dtypes"
   ]
  },
  {
   "cell_type": "markdown",
   "id": "cdfb9f34",
   "metadata": {},
   "source": [
    "## I've heard house buying is seasonal, with no sales in the winter. Which months of the year have the highest number of home sales?\n",
    "\n",
    "Show me on a graph. Is my secondhand knowledge correct?"
   ]
  },
  {
   "cell_type": "code",
   "execution_count": 32,
   "id": "c7bc98f9",
   "metadata": {},
   "outputs": [
    {
     "data": {
      "text/plain": [
       "<AxesSubplot: >"
      ]
     },
     "execution_count": 32,
     "metadata": {},
     "output_type": "execute_result"
    },
    {
     "data": {
      "image/png": "[encoded data removed]",
      "text/plain": [
       "<Figure size 640x480 with 1 Axes>"
      ]
     },
     "metadata": {},
     "output_type": "display_data"
    }
   ],
   "source": [
    "# Because sale_date is in datetime format, I can use dt.month to group it by month.\n",
    "df.sale_date.dt.month.value_counts().sort_index(ascending = True).plot()"
   ]
  },
  {
   "cell_type": "markdown",
   "id": "655f9f7b",
   "metadata": {},
   "source": [
    "## Hm. How about years? Is there a pattern there?\n",
    "\n",
    "I'd like to see a bar chart (columns) of number of homes sold each year."
   ]
  },
  {
   "cell_type": "code",
   "execution_count": 36,
   "id": "e0019491",
   "metadata": {},
   "outputs": [
    {
     "data": {
      "text/plain": [
       "<AxesSubplot: >"
      ]
     },
     "execution_count": 36,
     "metadata": {},
     "output_type": "execute_result"
    },
    {
     "data": {
      "image/png": "[encoded data removed]",
      "text/plain": [
       "<Figure size 640x480 with 1 Axes>"
      ]
     },
     "metadata": {},
     "output_type": "display_data"
    }
   ],
   "source": [
    "df.sale_date.dt.year.value_counts().sort_index(ascending = True).plot(kind='bar')"
   ]
  },
  {
   "cell_type": "markdown",
   "id": "3a0ac6b7",
   "metadata": {},
   "source": [
    "## That really reminds me of the [Great Recession](https://en.wikipedia.org/wiki/Great_Recession).\n",
    "\n",
    "I'd like a little more detail, though, the years are just so *lumpy*. Can I see the number of house sales on a monthly basis through the whole dataset?\n",
    "\n",
    "> I kept using `colname.count()` when we did this in class, which was a horrible habit of mine in like 2016. I got smarter later, and realized you can just use `.size()` to count the number of rows in each group.\n",
    "\n",
    "And please make sure the x axis starts at zero. It's really a misrepresentation of the truth if it starts at 750 or whatever matplotlib wants to do by default."
   ]
  },
  {
   "cell_type": "code",
   "execution_count": 46,
   "id": "370b7414",
   "metadata": {},
   "outputs": [
    {
     "data": {
      "text/plain": [
       "<AxesSubplot: xlabel='sale_date'>"
      ]
     },
     "execution_count": 46,
     "metadata": {},
     "output_type": "execute_result"
    },
    {
     "data": {
      "image/png": "[encoded data removed]",
      "text/plain": [
       "<Figure size 640x480 with 1 Axes>"
      ]
     },
     "metadata": {},
     "output_type": "display_data"
    }
   ],
   "source": [
    "# Here I use resample to get the number of sales per month for each year.\n",
    "df.resample(\"M\", on='sale_date').size().plot(ylim=(0,3500))"
   ]
  },
  {
   "cell_type": "markdown",
   "id": "c14eb546",
   "metadata": {},
   "source": [
    "## That's still kind of rough. Can we smooth it out some more?\n",
    "\n",
    "I'd like to move from monthly house sales to something a little more spread out. Here are some frequency options from the pandas documentation:\n",
    "\n",
    "```\n",
    "B         business day frequency\n",
    "C         custom business day frequency (experimental)\n",
    "D         calendar day frequency\n",
    "W         weekly frequency\n",
    "M         month end frequency\n",
    "SM        semi-month end frequency (15th and end of month)\n",
    "BM        business month end frequency\n",
    "CBM       custom business month end frequency\n",
    "MS        month start frequency\n",
    "SMS       semi-month start frequency (1st and 15th)\n",
    "BMS       business month start frequency\n",
    "CBMS      custom business month start frequency\n",
    "Q         quarter end frequency\n",
    "BQ        business quarter endfrequency\n",
    "QS        quarter start frequency\n",
    "BQS       business quarter start frequency\n",
    "A         year end frequency\n",
    "BA, BY    business year end frequency\n",
    "AS, YS    year start frequency\n",
    "BAS, BYS  business year start frequency\n",
    "BH        business hour frequency\n",
    "H         hourly frequency\n",
    "T, min    minutely frequency\n",
    "S         secondly frequency\n",
    "L, ms     milliseconds\n",
    "U, us     microseconds\n",
    "N         nanoseconds\n",
    "```\n",
    "\n",
    "On top of just picking a frequency by itself, you can also add numbers! For example, `3A` is three years at a time, and `15D` is 15 days, etc. Maybe you could put that to use?"
   ]
  },
  {
   "cell_type": "code",
   "execution_count": 53,
   "id": "4d2de835",
   "metadata": {},
   "outputs": [
    {
     "data": {
      "text/plain": [
       "<AxesSubplot: xlabel='sale_date'>"
      ]
     },
     "execution_count": 53,
     "metadata": {},
     "output_type": "execute_result"
    },
    {
     "data": {
      "image/png": "[encoded data removed]",
      "text/plain": [
       "<Figure size 640x480 with 1 Axes>"
      ]
     },
     "metadata": {},
     "output_type": "display_data"
    }
   ],
   "source": [
    "# I decided to go with \"end of quarter frequency\"\n",
    "df.resample(\"Q\", on='sale_date').size().plot(ylim=(0,8000))"
   ]
  },
  {
   "cell_type": "markdown",
   "id": "5933d5b3",
   "metadata": {},
   "source": [
    "Can you think of a better option than bundling this information in groups like this? Maybe from the cherry trees homework?"
   ]
  },
  {
   "cell_type": "markdown",
   "id": "08e23446",
   "metadata": {},
   "source": [
    "## But what about prices?\n",
    "\n",
    "I'm also pretty confident that "
   ]
  },
  {
   "cell_type": "code",
   "execution_count": 70,
   "id": "867c31c5",
   "metadata": {},
   "outputs": [
    {
     "data": {
      "text/plain": [
       "<AxesSubplot: xlabel='sale_date'>"
      ]
     },
     "execution_count": 70,
     "metadata": {},
     "output_type": "execute_result"
    },
    {
     "data": {
      "image/png": "[encoded data removed]",
      "text/plain": [
       "<Figure size 640x480 with 1 Axes>"
      ]
     },
     "metadata": {},
     "output_type": "display_data"
    }
   ],
   "source": [
    "df.resample(\"M\", on='sale_date').sale_price.\n",
    ".plot()\n"
   ]
  },
  {
   "cell_type": "markdown",
   "id": "4bc75069",
   "metadata": {},
   "source": [
    "W... wait, what? What are those months where it seems like nothing was sold, or it was all sold for zero dollars? Let's find the top 20 months for lowest median sale price."
   ]
  },
  {
   "cell_type": "code",
   "execution_count": 61,
   "id": "b7fb50a2",
   "metadata": {},
   "outputs": [
    {
     "data": {
      "text/plain": [
       "sale_date\n",
       "2012-09-30         0.0\n",
       "2020-09-30         0.0\n",
       "2012-03-31         0.0\n",
       "2009-02-28         0.0\n",
       "2020-08-31        10.0\n",
       "2009-03-31        20.0\n",
       "2009-01-31     77120.0\n",
       "2009-05-31    104000.0\n",
       "2009-06-30    115000.0\n",
       "2009-04-30    122500.0\n",
       "2007-09-30    140000.0\n",
       "2009-11-30    162000.0\n",
       "2010-11-30    175000.0\n",
       "2008-08-31    177450.0\n",
       "2013-03-31    180000.0\n",
       "2009-10-31    180000.0\n",
       "2012-12-31    181050.0\n",
       "2008-11-30    182500.0\n",
       "2020-07-31    188750.0\n",
       "2008-12-31    190000.0\n",
       "Name: sale_price, dtype: float64"
      ]
     },
     "execution_count": 61,
     "metadata": {},
     "output_type": "execute_result"
    }
   ],
   "source": [
    "df.resample(\"M\", on='sale_date').sale_price.median().sort_values().head(20)"
   ]
  },
  {
   "cell_type": "markdown",
   "id": "0a9f402e",
   "metadata": {},
   "source": [
    "**??WHAT??**\n",
    "\n",
    "Did any houses even sell then???? Let's look at the sales on `2012-09-30`."
   ]
  },
  {
   "cell_type": "code",
   "execution_count": 63,
   "id": "a83f8a12",
   "metadata": {},
   "outputs": [
    {
     "data": {
      "text/html": [
       "<div>\n",
       "<style scoped>\n",
       "    .dataframe tbody tr th:only-of-type {\n",
       "        vertical-align: middle;\n",
       "    }\n",
       "\n",
       "    .dataframe tbody tr th {\n",
       "        vertical-align: top;\n",
       "    }\n",
       "\n",
       "    .dataframe thead th {\n",
       "        text-align: right;\n",
       "    }\n",
       "</style>\n",
       "<table border=\"1\" class=\"dataframe\">\n",
       "  <thead>\n",
       "    <tr style=\"text-align: right;\">\n",
       "      <th></th>\n",
       "      <th>borough</th>\n",
       "      <th>neighborhood</th>\n",
       "      <th>building_class_category</th>\n",
       "      <th>tax_class_at_present</th>\n",
       "      <th>block</th>\n",
       "      <th>lot</th>\n",
       "      <th>ease-ment</th>\n",
       "      <th>building_class_at_present</th>\n",
       "      <th>address</th>\n",
       "      <th>apartment_number</th>\n",
       "      <th>...</th>\n",
       "      <th>residential_units</th>\n",
       "      <th>commercial_units</th>\n",
       "      <th>total_units</th>\n",
       "      <th>land_square_feet</th>\n",
       "      <th>gross_square_feet</th>\n",
       "      <th>year_built</th>\n",
       "      <th>tax_class_at_time_of_sale</th>\n",
       "      <th>building_class_at_time_of_sale</th>\n",
       "      <th>sale_price</th>\n",
       "      <th>sale_date</th>\n",
       "    </tr>\n",
       "  </thead>\n",
       "  <tbody>\n",
       "    <tr>\n",
       "      <th>84631</th>\n",
       "      <td>3</td>\n",
       "      <td>BUSHWICK</td>\n",
       "      <td>02  TWO FAMILY HOMES</td>\n",
       "      <td>1</td>\n",
       "      <td>3396</td>\n",
       "      <td>62</td>\n",
       "      <td>NaN</td>\n",
       "      <td>B2</td>\n",
       "      <td>125 WEIRFIELD STREET</td>\n",
       "      <td>NaN</td>\n",
       "      <td>...</td>\n",
       "      <td>2.0</td>\n",
       "      <td>0.0</td>\n",
       "      <td>2.0</td>\n",
       "      <td>1767.0</td>\n",
       "      <td>3180.0</td>\n",
       "      <td>1910.0</td>\n",
       "      <td>1</td>\n",
       "      <td>B2</td>\n",
       "      <td>299000</td>\n",
       "      <td>2012-09-30</td>\n",
       "    </tr>\n",
       "    <tr>\n",
       "      <th>84632</th>\n",
       "      <td>3</td>\n",
       "      <td>BUSHWICK</td>\n",
       "      <td>02  TWO FAMILY HOMES</td>\n",
       "      <td>1</td>\n",
       "      <td>3396</td>\n",
       "      <td>62</td>\n",
       "      <td>NaN</td>\n",
       "      <td>B2</td>\n",
       "      <td>125 WEIRFIELD STREET</td>\n",
       "      <td>NaN</td>\n",
       "      <td>...</td>\n",
       "      <td>2.0</td>\n",
       "      <td>0.0</td>\n",
       "      <td>2.0</td>\n",
       "      <td>1767.0</td>\n",
       "      <td>3180.0</td>\n",
       "      <td>1910.0</td>\n",
       "      <td>1</td>\n",
       "      <td>B2</td>\n",
       "      <td>0</td>\n",
       "      <td>2012-09-30</td>\n",
       "    </tr>\n",
       "    <tr>\n",
       "      <th>100537</th>\n",
       "      <td>3</td>\n",
       "      <td>WILLIAMSBURG-EAST</td>\n",
       "      <td>41  TAX CLASS 4 - OTHER</td>\n",
       "      <td>4</td>\n",
       "      <td>3003</td>\n",
       "      <td>24</td>\n",
       "      <td>NaN</td>\n",
       "      <td>G7</td>\n",
       "      <td>53 GRATTAN STREET</td>\n",
       "      <td>NaN</td>\n",
       "      <td>...</td>\n",
       "      <td>0.0</td>\n",
       "      <td>0.0</td>\n",
       "      <td>0.0</td>\n",
       "      <td>1860.0</td>\n",
       "      <td>0.0</td>\n",
       "      <td>0.0</td>\n",
       "      <td>4</td>\n",
       "      <td>Z9</td>\n",
       "      <td>0</td>\n",
       "      <td>2012-09-30</td>\n",
       "    </tr>\n",
       "    <tr>\n",
       "      <th>100538</th>\n",
       "      <td>3</td>\n",
       "      <td>WILLIAMSBURG-EAST</td>\n",
       "      <td>41  TAX CLASS 4 - OTHER</td>\n",
       "      <td>4</td>\n",
       "      <td>3003</td>\n",
       "      <td>25</td>\n",
       "      <td>NaN</td>\n",
       "      <td>G7</td>\n",
       "      <td>51 GRATTAN STREET</td>\n",
       "      <td>NaN</td>\n",
       "      <td>...</td>\n",
       "      <td>0.0</td>\n",
       "      <td>0.0</td>\n",
       "      <td>0.0</td>\n",
       "      <td>2270.0</td>\n",
       "      <td>0.0</td>\n",
       "      <td>0.0</td>\n",
       "      <td>4</td>\n",
       "      <td>Z9</td>\n",
       "      <td>0</td>\n",
       "      <td>2012-09-30</td>\n",
       "    </tr>\n",
       "    <tr>\n",
       "      <th>100539</th>\n",
       "      <td>3</td>\n",
       "      <td>WILLIAMSBURG-EAST</td>\n",
       "      <td>41  TAX CLASS 4 - OTHER</td>\n",
       "      <td>4</td>\n",
       "      <td>3003</td>\n",
       "      <td>26</td>\n",
       "      <td>NaN</td>\n",
       "      <td>G7</td>\n",
       "      <td>49 GRATTAN STREET</td>\n",
       "      <td>NaN</td>\n",
       "      <td>...</td>\n",
       "      <td>0.0</td>\n",
       "      <td>0.0</td>\n",
       "      <td>0.0</td>\n",
       "      <td>2500.0</td>\n",
       "      <td>0.0</td>\n",
       "      <td>0.0</td>\n",
       "      <td>4</td>\n",
       "      <td>Z9</td>\n",
       "      <td>0</td>\n",
       "      <td>2012-09-30</td>\n",
       "    </tr>\n",
       "  </tbody>\n",
       "</table>\n",
       "<p>5 rows × 21 columns</p>\n",
       "</div>"
      ],
      "text/plain": [
       "        borough       neighborhood  building_class_category  \\\n",
       "84631         3           BUSHWICK     02  TWO FAMILY HOMES   \n",
       "84632         3           BUSHWICK     02  TWO FAMILY HOMES   \n",
       "100537        3  WILLIAMSBURG-EAST  41  TAX CLASS 4 - OTHER   \n",
       "100538        3  WILLIAMSBURG-EAST  41  TAX CLASS 4 - OTHER   \n",
       "100539        3  WILLIAMSBURG-EAST  41  TAX CLASS 4 - OTHER   \n",
       "\n",
       "       tax_class_at_present  block  lot  ease-ment building_class_at_present  \\\n",
       "84631                     1   3396   62        NaN                        B2   \n",
       "84632                     1   3396   62        NaN                        B2   \n",
       "100537                    4   3003   24        NaN                        G7   \n",
       "100538                    4   3003   25        NaN                        G7   \n",
       "100539                    4   3003   26        NaN                        G7   \n",
       "\n",
       "                     address apartment_number  ...  residential_units  \\\n",
       "84631   125 WEIRFIELD STREET              NaN  ...                2.0   \n",
       "84632   125 WEIRFIELD STREET              NaN  ...                2.0   \n",
       "100537     53 GRATTAN STREET              NaN  ...                0.0   \n",
       "100538     51 GRATTAN STREET              NaN  ...                0.0   \n",
       "100539     49 GRATTAN STREET              NaN  ...                0.0   \n",
       "\n",
       "        commercial_units  total_units  land_square_feet  gross_square_feet  \\\n",
       "84631                0.0          2.0            1767.0             3180.0   \n",
       "84632                0.0          2.0            1767.0             3180.0   \n",
       "100537               0.0          0.0            1860.0                0.0   \n",
       "100538               0.0          0.0            2270.0                0.0   \n",
       "100539               0.0          0.0            2500.0                0.0   \n",
       "\n",
       "        year_built  tax_class_at_time_of_sale  building_class_at_time_of_sale  \\\n",
       "84631       1910.0                          1                              B2   \n",
       "84632       1910.0                          1                              B2   \n",
       "100537         0.0                          4                              Z9   \n",
       "100538         0.0                          4                              Z9   \n",
       "100539         0.0                          4                              Z9   \n",
       "\n",
       "       sale_price  sale_date  \n",
       "84631      299000 2012-09-30  \n",
       "84632           0 2012-09-30  \n",
       "100537          0 2012-09-30  \n",
       "100538          0 2012-09-30  \n",
       "100539          0 2012-09-30  \n",
       "\n",
       "[5 rows x 21 columns]"
      ]
     },
     "execution_count": 63,
     "metadata": {},
     "output_type": "execute_result"
    }
   ],
   "source": [
    "df[df.sale_date == '2012-09-30']"
   ]
  },
  {
   "cell_type": "markdown",
   "id": "72d6a95f",
   "metadata": {},
   "source": [
    "## We've got a LOT of weird stuff going on here! There are all of these FREE houses?\n",
    "\n",
    "Let's calculate what percent of the time sale prices are zero.\n",
    "\n",
    "**Two approaches:**\n",
    "\n",
    "1. The low-tech approach is calculating the size of the entire dataset, then filtering for where sale price is zero and getting the size of that subset.\n",
    "2. The other approach (THAT I LOVE) takes two steps:\n",
    "    - Write the \"is your sale price 0?\" code, but don't feed it to `df[...]` yet. It should be giving you Trues and Falses.\n",
    "    - Put parens around your statement, then add `.value_counts()`. This does a `value_counts()` on your Trues and Falses, thus calculating how often it's zero and how often it isn't!!!"
   ]
  },
  {
   "cell_type": "code",
   "execution_count": 71,
   "id": "1341f28c",
   "metadata": {},
   "outputs": [
    {
     "data": {
      "text/plain": [
       "False    0.629309\n",
       "True     0.370691\n",
       "Name: sale_price, dtype: float64"
      ]
     },
     "execution_count": 71,
     "metadata": {},
     "output_type": "execute_result"
    }
   ],
   "source": [
    "(df.sale_price == 0).value_counts(normalize=True)\n",
    "# It looks like the sale prices are zero in 37% of the cases."
   ]
  },
  {
   "cell_type": "markdown",
   "id": "6f468edb",
   "metadata": {},
   "source": [
    "## Also, what's the \"building class\" thing?\n",
    "\n",
    "I always assumed we were talking about houses, now there's this `41 TAX CLASS 4 - OTHER` thing? And when you google the addresses, they turn out to be parking lots???\n",
    "\n",
    "**I guess we were really just making some dumb assumptions!** Let's narrow things down a bit. We'll start by looking at what the different building classes.\n",
    "\n",
    "Look at what the most common building classes are in the dataset. There are a few columns, take a look at couple between `building_class_category` and `building_class_at_present` or `building_class_at_time_of_sale`. Maybe just check out the top 20 building classes in a sale?"
   ]
  },
  {
   "cell_type": "code",
   "execution_count": 72,
   "id": "df997bfa",
   "metadata": {},
   "outputs": [
    {
     "data": {
      "text/plain": [
       "R4    40664\n",
       "C0    33701\n",
       "B1    33489\n",
       "D4    30647\n",
       "B3    18725\n",
       "B2    17456\n",
       "A5    15357\n",
       "B9    13341\n",
       "A1    13219\n",
       "R1    12831\n",
       "A9    11281\n",
       "C3     9187\n",
       "C6     8177\n",
       "S2     7227\n",
       "R3     7224\n",
       "C2     7203\n",
       "R2     6775\n",
       "R5     6453\n",
       "C1     6221\n",
       "V0     4998\n",
       "Name: building_class_at_time_of_sale, dtype: int64"
      ]
     },
     "execution_count": 72,
     "metadata": {},
     "output_type": "execute_result"
    }
   ],
   "source": [
    "df.building_class_at_time_of_sale.value_counts().head(20)"
   ]
  },
  {
   "cell_type": "markdown",
   "id": "34986c42",
   "metadata": {},
   "source": [
    "While R4, C0 and B1 seem like wonderful building classes, *I have no idea what they mean*. Luckily there's [a website we can go to](https://www1.nyc.gov/assets/finance/jump/hlpbldgcode.html) that will tell us what each of them mean.\n",
    "\n",
    "But also: I don't want to have to look them up all the time."
   ]
  },
  {
   "cell_type": "markdown",
   "id": "bb405c3e",
   "metadata": {},
   "source": [
    "## Making those descriptions a column in our dataset\n",
    "\n",
    "### Use `pd.read_html` to download the columns into a dataframe.\n",
    "\n",
    "The first few rows should look like this:\n",
    "    \n",
    "||Building Code|Description|\n",
    "|---|---|---|\n",
    "0|A|ONE FAMILY DWELLINGS|\n",
    "1|A0|CAPE COD|\n",
    "2|A1|TWO STORIES - DETACHED SM OR MID|\n",
    "3|A2|ONE STORY - PERMANENT LIVING QUARTER|\n",
    "\n",
    "* **Tip:** It doesn't involve any fancy CSS selectors or anything."
   ]
  },
  {
   "cell_type": "code",
   "execution_count": 97,
   "id": "397b4c2e",
   "metadata": {},
   "outputs": [
    {
     "ename": "NameError",
     "evalue": "name 'building_csv' is not defined",
     "output_type": "error",
     "traceback": [
      "\u001b[0;31m---------------------------------------------------------------------------\u001b[0m",
      "\u001b[0;31mNameError\u001b[0m                                 Traceback (most recent call last)",
      "Cell \u001b[0;32mIn [97], line 2\u001b[0m\n\u001b[1;32m      1\u001b[0m building_codes \u001b[39m=\u001b[39m pd\u001b[39m.\u001b[39mread_html(\u001b[39m'\u001b[39m\u001b[39mhttps://www1.nyc.gov/assets/finance/jump/hlpbldgcode.html\u001b[39m\u001b[39m'\u001b[39m)[\u001b[39m0\u001b[39m]\n\u001b[0;32m----> 2\u001b[0m building_codes\u001b[39m.\u001b[39mto_csv(building_csv, index\u001b[39m=\u001b[39m\u001b[39mFalse\u001b[39;00m)\n",
      "\u001b[0;31mNameError\u001b[0m: name 'building_csv' is not defined"
     ]
    }
   ],
   "source": [
    "building_codes = pd.read_html('https://www1.nyc.gov/assets/finance/jump/hlpbldgcode.html')[0]\n",
    "building_codes.to_csv(building_csv, index=False)\n",
    "\n",
    "\n",
    "\n",
    "#self.df = pandas.read_html(my_html_file)[0]\n",
    "#self.df.to_csv(my_csv_file, index=False)"
   ]
  },
  {
   "cell_type": "markdown",
   "id": "2939262e",
   "metadata": {},
   "source": [
    "### Combine the codes dataframe with our original dataframe"
   ]
  },
  {
   "cell_type": "code",
   "execution_count": 94,
   "id": "679f935f",
   "metadata": {},
   "outputs": [
    {
     "ename": "AttributeError",
     "evalue": "'list' object has no attribute 'to_csv'",
     "output_type": "error",
     "traceback": [
      "\u001b[0;31m---------------------------------------------------------------------------\u001b[0m",
      "\u001b[0;31mAttributeError\u001b[0m                            Traceback (most recent call last)",
      "Cell \u001b[0;32mIn [94], line 1\u001b[0m\n\u001b[0;32m----> 1\u001b[0m building_codes\u001b[39m.\u001b[39;49mto_csv(building_codes, index\u001b[39m=\u001b[39m\u001b[39mFalse\u001b[39;00m)\n",
      "\u001b[0;31mAttributeError\u001b[0m: 'list' object has no attribute 'to_csv'"
     ]
    }
   ],
   "source": [
    "\n"
   ]
  },
  {
   "cell_type": "code",
   "execution_count": null,
   "id": "73f87174",
   "metadata": {},
   "outputs": [],
   "source": [
    "merged = df.merge(building_codes, how = 'left', left_on = \"building_class_at_time_of_sale\", right_on = \"Building Code\")"
   ]
  },
  {
   "cell_type": "markdown",
   "id": "751ccd3b",
   "metadata": {},
   "source": [
    "Feel free to fix up the new column headers so they're lower-case with `_` instead of spaces, if you want."
   ]
  },
  {
   "cell_type": "code",
   "execution_count": 90,
   "id": "f0a977d6",
   "metadata": {},
   "outputs": [
    {
     "data": {
      "text/plain": [
       "borough                                    int64\n",
       "neighborhood                              object\n",
       "building_class_category                   object\n",
       "tax_class_at_present                      object\n",
       "block                                      int64\n",
       "lot                                        int64\n",
       "ease-ment                                float64\n",
       "building_class_at_present                 object\n",
       "address                                   object\n",
       "apartment_number                          object\n",
       "zip_code                                 float64\n",
       "residential_units                        float64\n",
       "commercial_units                         float64\n",
       "total_units                              float64\n",
       "land_square_feet                         float64\n",
       "gross_square_feet                        float64\n",
       "year_built                               float64\n",
       "tax_class_at_time_of_sale                  int64\n",
       "building_class_at_time_of_sale            object\n",
       "sale_price                                 int64\n",
       "sale_date                         datetime64[ns]\n",
       "dtype: object"
      ]
     },
     "execution_count": 90,
     "metadata": {},
     "output_type": "execute_result"
    }
   ],
   "source": [
    "df.dtypes"
   ]
  },
  {
   "cell_type": "markdown",
   "id": "78669252",
   "metadata": {},
   "source": [
    "## Let's save again, just for safety's sake\n",
    "\n",
    "Take your merged dataset and save it as, I don't know, `merged.csv` I guess. Remember to add `index=False` so the index doesn't get saved as a column!"
   ]
  },
  {
   "cell_type": "code",
   "execution_count": null,
   "id": "d40e8d62",
   "metadata": {},
   "outputs": [],
   "source": []
  },
  {
   "cell_type": "code",
   "execution_count": null,
   "id": "e24a96f6",
   "metadata": {},
   "outputs": [],
   "source": []
  }
 ],
 "metadata": {
  "kernelspec": {
   "display_name": "Python 3.11.0rc2 64-bit ('3.11.0rc2')",
   "language": "python",
   "name": "python3"
  },
  "language_info": {
   "codemirror_mode": {
    "name": "ipython",
    "version": 3
   },
   "file_extension": ".py",
   "mimetype": "text/x-python",
   "name": "python",
   "nbconvert_exporter": "python",
   "pygments_lexer": "ipython3",
   "version": "3.11.0rc2"
  },
  "vscode": {
   "interpreter": {
    "hash": "fa07e5dff76123542c28abca75c0e47ea742948dbeeb360ccfbd2a5c7c277f8b"
   }
  }
 },
 "nbformat": 4,
 "nbformat_minor": 5
}
