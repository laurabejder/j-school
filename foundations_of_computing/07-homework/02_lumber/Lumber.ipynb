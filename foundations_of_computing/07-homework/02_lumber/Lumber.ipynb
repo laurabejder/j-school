{
 "cells": [
  {
   "cell_type": "markdown",
   "id": "5371f04c",
   "metadata": {},
   "source": [
    "# Lumber Prices\n",
    "\n",
    "* **Data:** `lumber-prices.csv`\n",
    "* **Description:** Chicago lumber futures per 1000 board feet, in USD, as of some time in 2021. To keep things simple, we're going to say that this is the measurement over a month instead of just one date per month. Basically: each month, how much you'd pay if you bought 125 2x4 boards at the hardware store.\n",
    "* **Source:** https://tradingeconomics.com/commodity/lumber\n",
    "* **Columns of interest:**\n",
    "    * `Open` is the price at the start of the month\n",
    "    * `High` is the high price over the course of the month\n",
    "    * `Low` is the low number over the course of the month\n",
    "    * `Close` is the number at the end of the month"
   ]
  },
  {
   "cell_type": "markdown",
   "id": "ffcf050f",
   "metadata": {},
   "source": [
    "## Read in your data"
   ]
  },
  {
   "cell_type": "code",
   "execution_count": 2,
   "id": "505f1e94",
   "metadata": {},
   "outputs": [],
   "source": [
    "import pandas as pd\n",
    "df = pd.read_csv(\"lumber-prices.csv\")"
   ]
  },
  {
   "cell_type": "markdown",
   "id": "e0403107",
   "metadata": {},
   "source": [
    "## What is the earliest month in this dataset?\n",
    "\n",
    "We only have one reading per month, so you could also read this as \"what is the earliest date in the dataset\""
   ]
  },
  {
   "cell_type": "code",
   "execution_count": 3,
   "id": "9dfd66cc",
   "metadata": {},
   "outputs": [
    {
     "data": {
      "text/plain": [
       "'1996-12-09T00:00:00'"
      ]
     },
     "execution_count": 3,
     "metadata": {},
     "output_type": "execute_result"
    }
   ],
   "source": [
    "df.date.min()\n",
    "# It looks like the earliers month is December 1996"
   ]
  },
  {
   "cell_type": "markdown",
   "id": "2cd14f08",
   "metadata": {},
   "source": [
    "## What is the most recent month in this dataset?\n",
    "\n",
    "We only have one reading per month, so you could also read this as \"what is the earliest date in the dataset\""
   ]
  },
  {
   "cell_type": "code",
   "execution_count": 4,
   "id": "80d23da2",
   "metadata": {},
   "outputs": [
    {
     "data": {
      "text/plain": [
       "'2021-11-01T00:00:00'"
      ]
     },
     "execution_count": 4,
     "metadata": {},
     "output_type": "execute_result"
    }
   ],
   "source": [
    "df.date.max()"
   ]
  },
  {
   "cell_type": "code",
   "execution_count": 5,
   "id": "56c209ab",
   "metadata": {},
   "outputs": [],
   "source": [
    "# It looks like the most recent month is November 2021. "
   ]
  },
  {
   "cell_type": "markdown",
   "id": "0a55273d",
   "metadata": {},
   "source": [
    "## What 3 months had the highest high lumber price?"
   ]
  },
  {
   "cell_type": "code",
   "execution_count": 6,
   "id": "0e5cf127",
   "metadata": {},
   "outputs": [
    {
     "name": "stderr",
     "output_type": "stream",
     "text": [
      "/var/folders/hx/m3n3wwr91yg_snnv68ynqsp80000gn/T/ipykernel_8860/3188468630.py:2: FutureWarning: The default value of regex will change from True to False in a future version. In addition, single character regular expressions will *not* be treated as literal strings when regex=True.\n",
      "  df['high'] = df['high'].str.replace('$', '')\n"
     ]
    }
   ],
   "source": [
    "# To be able to sort the high column I remove the $ in front of every number and convert the variable into an integer\n",
    "df['high'] = df['high'].str.replace('$', '')\n",
    "df['high'] = df['high'].astype(float)"
   ]
  },
  {
   "cell_type": "code",
   "execution_count": 7,
   "id": "5376414a",
   "metadata": {},
   "outputs": [
    {
     "data": {
      "text/html": [
       "<div>\n",
       "<style scoped>\n",
       "    .dataframe tbody tr th:only-of-type {\n",
       "        vertical-align: middle;\n",
       "    }\n",
       "\n",
       "    .dataframe tbody tr th {\n",
       "        vertical-align: top;\n",
       "    }\n",
       "\n",
       "    .dataframe thead th {\n",
       "        text-align: right;\n",
       "    }\n",
       "</style>\n",
       "<table border=\"1\" class=\"dataframe\">\n",
       "  <thead>\n",
       "    <tr style=\"text-align: right;\">\n",
       "      <th></th>\n",
       "      <th>open</th>\n",
       "      <th>high</th>\n",
       "      <th>low</th>\n",
       "      <th>close</th>\n",
       "      <th>date</th>\n",
       "    </tr>\n",
       "  </thead>\n",
       "  <tbody>\n",
       "    <tr>\n",
       "      <th>293</th>\n",
       "      <td>$1520.60</td>\n",
       "      <td>1711.2</td>\n",
       "      <td>$1201.00</td>\n",
       "      <td>$1309.50</td>\n",
       "      <td>2021-05-03T00:00:00</td>\n",
       "    </tr>\n",
       "    <tr>\n",
       "      <th>292</th>\n",
       "      <td>$1012.60</td>\n",
       "      <td>1502.3</td>\n",
       "      <td>$1006.00</td>\n",
       "      <td>$1500.50</td>\n",
       "      <td>2021-04-01T00:00:00</td>\n",
       "    </tr>\n",
       "    <tr>\n",
       "      <th>294</th>\n",
       "      <td>$1315.00</td>\n",
       "      <td>1380.0</td>\n",
       "      <td>$705.00</td>\n",
       "      <td>$716.00</td>\n",
       "      <td>2021-06-01T00:00:00</td>\n",
       "    </tr>\n",
       "  </tbody>\n",
       "</table>\n",
       "</div>"
      ],
      "text/plain": [
       "         open    high       low     close                 date\n",
       "293  $1520.60  1711.2  $1201.00  $1309.50  2021-05-03T00:00:00\n",
       "292  $1012.60  1502.3  $1006.00  $1500.50  2021-04-01T00:00:00\n",
       "294  $1315.00  1380.0   $705.00   $716.00  2021-06-01T00:00:00"
      ]
     },
     "execution_count": 7,
     "metadata": {},
     "output_type": "execute_result"
    }
   ],
   "source": [
    "# And then I sort the column and print the three highest prices. It looks like May, April and June of 2021 had\n",
    "# the highest lumber prices.\n",
    "df.sort_values('high', ascending=False).head(3)"
   ]
  },
  {
   "cell_type": "markdown",
   "id": "ecf489fb",
   "metadata": {},
   "source": [
    "## What 3 months had the lowest low lumber price?"
   ]
  },
  {
   "cell_type": "code",
   "execution_count": 8,
   "id": "f3cfadc5",
   "metadata": {},
   "outputs": [
    {
     "name": "stderr",
     "output_type": "stream",
     "text": [
      "/var/folders/hx/m3n3wwr91yg_snnv68ynqsp80000gn/T/ipykernel_8860/925776444.py:1: FutureWarning: The default value of regex will change from True to False in a future version. In addition, single character regular expressions will *not* be treated as literal strings when regex=True.\n",
      "  df['low'] = df['low'].str.replace('$', '')\n"
     ]
    }
   ],
   "source": [
    "df['low'] = df['low'].str.replace('$', '')\n",
    "df['low'] = df['low'].astype(float)"
   ]
  },
  {
   "cell_type": "code",
   "execution_count": 9,
   "id": "4b9005ed",
   "metadata": {},
   "outputs": [
    {
     "data": {
      "text/html": [
       "<div>\n",
       "<style scoped>\n",
       "    .dataframe tbody tr th:only-of-type {\n",
       "        vertical-align: middle;\n",
       "    }\n",
       "\n",
       "    .dataframe tbody tr th {\n",
       "        vertical-align: top;\n",
       "    }\n",
       "\n",
       "    .dataframe thead th {\n",
       "        text-align: right;\n",
       "    }\n",
       "</style>\n",
       "<table border=\"1\" class=\"dataframe\">\n",
       "  <thead>\n",
       "    <tr style=\"text-align: right;\">\n",
       "      <th></th>\n",
       "      <th>open</th>\n",
       "      <th>high</th>\n",
       "      <th>low</th>\n",
       "      <th>close</th>\n",
       "      <th>date</th>\n",
       "    </tr>\n",
       "  </thead>\n",
       "  <tbody>\n",
       "    <tr>\n",
       "      <th>147</th>\n",
       "      <td>$144.60</td>\n",
       "      <td>179.8</td>\n",
       "      <td>138.0</td>\n",
       "      <td>$171.30</td>\n",
       "      <td>2009-03-02T00:00:00</td>\n",
       "    </tr>\n",
       "    <tr>\n",
       "      <th>146</th>\n",
       "      <td>$158.10</td>\n",
       "      <td>175.9</td>\n",
       "      <td>138.0</td>\n",
       "      <td>$147.00</td>\n",
       "      <td>2009-02-02T00:00:00</td>\n",
       "    </tr>\n",
       "    <tr>\n",
       "      <th>145</th>\n",
       "      <td>$168.70</td>\n",
       "      <td>171.8</td>\n",
       "      <td>137.9</td>\n",
       "      <td>$148.10</td>\n",
       "      <td>2009-01-02T00:00:00</td>\n",
       "    </tr>\n",
       "  </tbody>\n",
       "</table>\n",
       "</div>"
      ],
      "text/plain": [
       "        open   high    low    close                 date\n",
       "147  $144.60  179.8  138.0  $171.30  2009-03-02T00:00:00\n",
       "146  $158.10  175.9  138.0  $147.00  2009-02-02T00:00:00\n",
       "145  $168.70  171.8  137.9  $148.10  2009-01-02T00:00:00"
      ]
     },
     "execution_count": 9,
     "metadata": {},
     "output_type": "execute_result"
    }
   ],
   "source": [
    "# And then I sort the column and print the three highest prices. It looks like the \n",
    "df.sort_values('low', ascending=False).tail(3)\n",
    "# The lowest lumber prices where in January, February and March of 2009. The financial crisis really hit the \n",
    "# lumber industry hard huh?"
   ]
  },
  {
   "cell_type": "code",
   "execution_count": 10,
   "id": "ddcccea4",
   "metadata": {},
   "outputs": [
    {
     "data": {
      "text/html": [
       "<div>\n",
       "<style scoped>\n",
       "    .dataframe tbody tr th:only-of-type {\n",
       "        vertical-align: middle;\n",
       "    }\n",
       "\n",
       "    .dataframe tbody tr th {\n",
       "        vertical-align: top;\n",
       "    }\n",
       "\n",
       "    .dataframe thead th {\n",
       "        text-align: right;\n",
       "    }\n",
       "</style>\n",
       "<table border=\"1\" class=\"dataframe\">\n",
       "  <thead>\n",
       "    <tr style=\"text-align: right;\">\n",
       "      <th></th>\n",
       "      <th>open</th>\n",
       "      <th>high</th>\n",
       "      <th>low</th>\n",
       "      <th>close</th>\n",
       "      <th>date</th>\n",
       "    </tr>\n",
       "  </thead>\n",
       "  <tbody>\n",
       "    <tr>\n",
       "      <th>147</th>\n",
       "      <td>$144.60</td>\n",
       "      <td>179.8</td>\n",
       "      <td>138.0</td>\n",
       "      <td>$171.30</td>\n",
       "      <td>2009-03-02T00:00:00</td>\n",
       "    </tr>\n",
       "    <tr>\n",
       "      <th>146</th>\n",
       "      <td>$158.10</td>\n",
       "      <td>175.9</td>\n",
       "      <td>138.0</td>\n",
       "      <td>$147.00</td>\n",
       "      <td>2009-02-02T00:00:00</td>\n",
       "    </tr>\n",
       "    <tr>\n",
       "      <th>145</th>\n",
       "      <td>$168.70</td>\n",
       "      <td>171.8</td>\n",
       "      <td>137.9</td>\n",
       "      <td>$148.10</td>\n",
       "      <td>2009-01-02T00:00:00</td>\n",
       "    </tr>\n",
       "  </tbody>\n",
       "</table>\n",
       "</div>"
      ],
      "text/plain": [
       "        open   high    low    close                 date\n",
       "147  $144.60  179.8  138.0  $171.30  2009-03-02T00:00:00\n",
       "146  $158.10  175.9  138.0  $147.00  2009-02-02T00:00:00\n",
       "145  $168.70  171.8  137.9  $148.10  2009-01-02T00:00:00"
      ]
     },
     "execution_count": 10,
     "metadata": {},
     "output_type": "execute_result"
    }
   ],
   "source": [
    "# However, it looks like I get the same answer if I take the three lowest values in the high column. But I wouldn't\n",
    "# have known that, if I hadn't done it the other way too. \n",
    "df.sort_values('high', ascending=False).tail(3)"
   ]
  },
  {
   "cell_type": "markdown",
   "id": "843b2f36",
   "metadata": {},
   "source": [
    "## What is the median \"high\" lumber price in our dataset?"
   ]
  },
  {
   "cell_type": "code",
   "execution_count": 11,
   "id": "d7d69d6b",
   "metadata": {},
   "outputs": [
    {
     "data": {
      "text/plain": [
       "329.65"
      ]
     },
     "execution_count": 11,
     "metadata": {},
     "output_type": "execute_result"
    }
   ],
   "source": [
    "df.high.median()\n",
    "# The median \"high\" lumber price is 329.65 dollars"
   ]
  },
  {
   "cell_type": "markdown",
   "id": "8dcb415a",
   "metadata": {},
   "source": [
    "## What is the median \"low\" lumber price in our dataset?"
   ]
  },
  {
   "cell_type": "code",
   "execution_count": 12,
   "id": "f783e687",
   "metadata": {},
   "outputs": [
    {
     "data": {
      "text/plain": [
       "286.1"
      ]
     },
     "execution_count": 12,
     "metadata": {},
     "output_type": "execute_result"
    }
   ],
   "source": [
    "df.low.median()\n",
    "# And the median \"low\" lumber price is 286.1 dollars"
   ]
  },
  {
   "cell_type": "markdown",
   "id": "b2e6b0ea",
   "metadata": {},
   "source": [
    "## Plot the maximum \"high\" lumber price on an annual basis."
   ]
  },
  {
   "cell_type": "code",
   "execution_count": 16,
   "id": "78759a14",
   "metadata": {},
   "outputs": [],
   "source": [
    "# First I change the date column into datetime format\n",
    "df['date'] = pd.to_datetime(df.date)"
   ]
  },
  {
   "cell_type": "code",
   "execution_count": 18,
   "id": "92b36db7",
   "metadata": {},
   "outputs": [
    {
     "data": {
      "text/plain": [
       "<AxesSubplot: xlabel='date'>"
      ]
     },
     "execution_count": 18,
     "metadata": {},
     "output_type": "execute_result"
    },
    {
     "data": {
      "image/png": "[encoded data removed]",
      "text/plain": [
       "<Figure size 640x480 with 1 Axes>"
      ]
     },
     "metadata": {},
     "output_type": "display_data"
    }
   ],
   "source": [
    "df.resample('Y', on='date').high.max().plot()"
   ]
  },
  {
   "cell_type": "markdown",
   "id": "898b6df0",
   "metadata": {},
   "source": [
    "## Plot the lowest \"low\" lumber price on an annual basis."
   ]
  },
  {
   "cell_type": "code",
   "execution_count": 19,
   "id": "007ed835",
   "metadata": {},
   "outputs": [
    {
     "data": {
      "text/plain": [
       "<AxesSubplot: xlabel='date'>"
      ]
     },
     "execution_count": 19,
     "metadata": {},
     "output_type": "execute_result"
    },
    {
     "data": {
      "image/png": "[encoded data removed]",
      "text/plain": [
       "<Figure size 640x480 with 1 Axes>"
      ]
     },
     "metadata": {},
     "output_type": "display_data"
    }
   ],
   "source": [
    "df.resample('Y', on='date').low.min().plot()"
   ]
  },
  {
   "cell_type": "code",
   "execution_count": 57,
   "id": "5ac81dd7",
   "metadata": {},
   "outputs": [],
   "source": [
    "## Plot the median \"close\" lumber price on an quarterly basis."
   ]
  },
  {
   "cell_type": "code",
   "execution_count": 21,
   "id": "e23ff6ca",
   "metadata": {},
   "outputs": [
    {
     "name": "stderr",
     "output_type": "stream",
     "text": [
      "/var/folders/hx/m3n3wwr91yg_snnv68ynqsp80000gn/T/ipykernel_8860/3378432947.py:3: FutureWarning: The default value of regex will change from True to False in a future version. In addition, single character regular expressions will *not* be treated as literal strings when regex=True.\n",
      "  df['close'] = df['close'].str.replace('$', '')\n"
     ]
    }
   ],
   "source": [
    "# Again I have to remove the $ and convert the column into a float\n",
    "\n",
    "df['close'] = df['close'].str.replace('$', '')\n",
    "df['close'] = df['close'].astype(float)"
   ]
  },
  {
   "cell_type": "code",
   "execution_count": 22,
   "id": "35612523",
   "metadata": {},
   "outputs": [
    {
     "data": {
      "text/plain": [
       "<AxesSubplot: xlabel='date'>"
      ]
     },
     "execution_count": 22,
     "metadata": {},
     "output_type": "execute_result"
    },
    {
     "data": {
      "image/png": "[encoded data removed]",
      "text/plain": [
       "<Figure size 640x480 with 1 Axes>"
      ]
     },
     "metadata": {},
     "output_type": "display_data"
    }
   ],
   "source": [
    "df.resample('3Y', on='date').close.median().plot()"
   ]
  },
  {
   "cell_type": "markdown",
   "id": "a507d8a6",
   "metadata": {},
   "source": [
    "## What month in our dataset had the largest swing between high and low?\n",
    "\n",
    "You'll want to create a new column for this one"
   ]
  },
  {
   "cell_type": "code",
   "execution_count": 23,
   "id": "4178d51c",
   "metadata": {},
   "outputs": [],
   "source": [
    "df['swing'] = df['high'] - df['low']"
   ]
  },
  {
   "cell_type": "code",
   "execution_count": 27,
   "id": "42d3445c",
   "metadata": {},
   "outputs": [
    {
     "data": {
      "text/html": [
       "<div>\n",
       "<style scoped>\n",
       "    .dataframe tbody tr th:only-of-type {\n",
       "        vertical-align: middle;\n",
       "    }\n",
       "\n",
       "    .dataframe tbody tr th {\n",
       "        vertical-align: top;\n",
       "    }\n",
       "\n",
       "    .dataframe thead th {\n",
       "        text-align: right;\n",
       "    }\n",
       "</style>\n",
       "<table border=\"1\" class=\"dataframe\">\n",
       "  <thead>\n",
       "    <tr style=\"text-align: right;\">\n",
       "      <th></th>\n",
       "      <th>open</th>\n",
       "      <th>high</th>\n",
       "      <th>low</th>\n",
       "      <th>close</th>\n",
       "      <th>date</th>\n",
       "      <th>swing</th>\n",
       "    </tr>\n",
       "  </thead>\n",
       "  <tbody>\n",
       "    <tr>\n",
       "      <th>294</th>\n",
       "      <td>$1315.00</td>\n",
       "      <td>1380.0</td>\n",
       "      <td>705.0</td>\n",
       "      <td>716.0</td>\n",
       "      <td>2021-06-01</td>\n",
       "      <td>675.0</td>\n",
       "    </tr>\n",
       "  </tbody>\n",
       "</table>\n",
       "</div>"
      ],
      "text/plain": [
       "         open    high    low  close       date  swing\n",
       "294  $1315.00  1380.0  705.0  716.0 2021-06-01  675.0"
      ]
     },
     "execution_count": 27,
     "metadata": {},
     "output_type": "execute_result"
    }
   ],
   "source": [
    "df.sort_values('swing', ascending=False).head(1)\n",
    "\n",
    "# It looks like June 2021 had the largest swing between high and low prices. "
   ]
  },
  {
   "cell_type": "markdown",
   "id": "dd08822c",
   "metadata": {},
   "source": [
    "## In how many months did lumber prices rise?\n",
    "\n",
    "If the price was greater at the end of the month than the beginning of the month, we'll say the price rose."
   ]
  },
  {
   "cell_type": "code",
   "execution_count": 30,
   "id": "e6549397",
   "metadata": {},
   "outputs": [
    {
     "name": "stderr",
     "output_type": "stream",
     "text": [
      "/var/folders/hx/m3n3wwr91yg_snnv68ynqsp80000gn/T/ipykernel_8860/1251319450.py:1: FutureWarning: The default value of regex will change from True to False in a future version. In addition, single character regular expressions will *not* be treated as literal strings when regex=True.\n",
      "  df['open'] = df['open'].str.replace('$', '')\n"
     ]
    }
   ],
   "source": [
    "df['open'] = df['open'].str.replace('$', '')\n",
    "df['open'] = df['open'].astype(float)"
   ]
  },
  {
   "cell_type": "code",
   "execution_count": 31,
   "id": "696becea",
   "metadata": {},
   "outputs": [],
   "source": [
    "df['price_rise'] = df['close'] > df['open']"
   ]
  },
  {
   "cell_type": "code",
   "execution_count": 38,
   "id": "5f7f4ffe",
   "metadata": {},
   "outputs": [
    {
     "data": {
      "text/plain": [
       "False    155\n",
       "True     145\n",
       "Name: price_rise, dtype: int64"
      ]
     },
     "execution_count": 38,
     "metadata": {},
     "output_type": "execute_result"
    }
   ],
   "source": [
    "df.price_rise.value_counts()\n",
    "\n",
    "# Here 'True' means that the prices rose. In 145 out of 300 months, the lumber prices rose. "
   ]
  },
  {
   "cell_type": "markdown",
   "id": "28594336",
   "metadata": {},
   "source": [
    "## How many months did lumber prices drop?\n",
    "\n",
    "If the price was lower at the end of the month than the beginning of the month, we'll say the price dropped."
   ]
  },
  {
   "cell_type": "code",
   "execution_count": 39,
   "id": "d94f1cfc",
   "metadata": {},
   "outputs": [],
   "source": [
    "df['price_drop'] = df['close'] < df['open']"
   ]
  },
  {
   "cell_type": "code",
   "execution_count": 40,
   "id": "c4444c6e",
   "metadata": {},
   "outputs": [
    {
     "data": {
      "text/plain": [
       "True     155\n",
       "False    145\n",
       "Name: price_drop, dtype: int64"
      ]
     },
     "execution_count": 40,
     "metadata": {},
     "output_type": "execute_result"
    }
   ],
   "source": [
    "df.price_drop.value_counts()\n",
    "# Here 'True' means that the prices dropped. In 155 out of 300 months, the lumber prices rose. \n",
    "# However, I could just have used the results from the previous question instead of creating a new column and everything.\n",
    "# There the result would just have been the number of 'False'."
   ]
  },
  {
   "cell_type": "markdown",
   "id": "3c8b4471",
   "metadata": {},
   "source": [
    "## In 2020, how many months saw lumber prices rise vs lumber prices fall?"
   ]
  },
  {
   "cell_type": "code",
   "execution_count": 61,
   "id": "22afd8cf",
   "metadata": {},
   "outputs": [
    {
     "data": {
      "text/plain": [
       "True     8\n",
       "False    4\n",
       "Name: price_rise, dtype: int64"
      ]
     },
     "execution_count": 61,
     "metadata": {},
     "output_type": "execute_result"
    }
   ],
   "source": [
    "df[df.date.dt.year == 2020].price_rise.value_counts()\n",
    "# In 2020 the prices rose in 8 out of 12 months while the prices dropped\n",
    "# in last 4 months"
   ]
  },
  {
   "cell_type": "markdown",
   "id": "3b98b6d5",
   "metadata": {},
   "source": [
    "## In 2000, how many months saw lumber prices rise vs lumber prices fall?"
   ]
  },
  {
   "cell_type": "code",
   "execution_count": 62,
   "id": "534265d7",
   "metadata": {},
   "outputs": [
    {
     "data": {
      "text/plain": [
       "False    10\n",
       "True      2\n",
       "Name: price_rise, dtype: int64"
      ]
     },
     "execution_count": 62,
     "metadata": {},
     "output_type": "execute_result"
    }
   ],
   "source": [
    "df[df.date.dt.year == 2000].price_rise.value_counts()\n",
    "# In 2000 the prices rose in 2 out of 12 months while the prices dropped\n",
    "# in last 10 months"
   ]
  }
 ],
 "metadata": {
  "kernelspec": {
   "display_name": "Python 3 (ipykernel)",
   "language": "python",
   "name": "python3"
  },
  "language_info": {
   "codemirror_mode": {
    "name": "ipython",
    "version": 3
   },
   "file_extension": ".py",
   "mimetype": "text/x-python",
   "name": "python",
   "nbconvert_exporter": "python",
   "pygments_lexer": "ipython3",
   "version": "3.11.0rc2"
  }
 },
 "nbformat": 4,
 "nbformat_minor": 5
}
