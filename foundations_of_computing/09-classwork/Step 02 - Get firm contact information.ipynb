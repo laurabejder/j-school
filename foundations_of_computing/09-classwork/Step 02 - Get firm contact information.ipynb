{
 "cells": [
  {
   "cell_type": "code",
   "execution_count": 4,
   "id": "b3ae0fe4",
   "metadata": {
    "scrolled": true
   },
   "outputs": [
    {
     "data": {
      "text/html": [
       "<div>\n",
       "<style scoped>\n",
       "    .dataframe tbody tr th:only-of-type {\n",
       "        vertical-align: middle;\n",
       "    }\n",
       "\n",
       "    .dataframe tbody tr th {\n",
       "        vertical-align: top;\n",
       "    }\n",
       "\n",
       "    .dataframe thead th {\n",
       "        text-align: right;\n",
       "    }\n",
       "</style>\n",
       "<table border=\"1\" class=\"dataframe\">\n",
       "  <thead>\n",
       "    <tr style=\"text-align: right;\">\n",
       "      <th></th>\n",
       "      <th>name</th>\n",
       "      <th>filer_id</th>\n",
       "    </tr>\n",
       "  </thead>\n",
       "  <tbody>\n",
       "    <tr>\n",
       "      <th>0</th>\n",
       "      <td>ACALYX ADVISORS, INC.</td>\n",
       "      <td>1382165</td>\n",
       "    </tr>\n",
       "    <tr>\n",
       "      <th>1</th>\n",
       "      <td>ACCESS SECURITIES LLC</td>\n",
       "      <td>1336255</td>\n",
       "    </tr>\n",
       "    <tr>\n",
       "      <th>2</th>\n",
       "      <td>ACKLER &amp; ASSOCIATES</td>\n",
       "      <td>F24625</td>\n",
       "    </tr>\n",
       "    <tr>\n",
       "      <th>3</th>\n",
       "      <td>ACORN WEST ASSOCIATES, INC.</td>\n",
       "      <td>1435150</td>\n",
       "    </tr>\n",
       "    <tr>\n",
       "      <th>4</th>\n",
       "      <td>ACTUM CA OPCO, LLC</td>\n",
       "      <td>1442425</td>\n",
       "    </tr>\n",
       "    <tr>\n",
       "      <th>...</th>\n",
       "      <td>...</td>\n",
       "      <td>...</td>\n",
       "    </tr>\n",
       "    <tr>\n",
       "      <th>151</th>\n",
       "      <td>ENGSTROM; JENNIFER</td>\n",
       "      <td>1443038</td>\n",
       "    </tr>\n",
       "    <tr>\n",
       "      <th>152</th>\n",
       "      <td>ENVIRONMENTAL AND ENERGY CONSULTING</td>\n",
       "      <td>1371848</td>\n",
       "    </tr>\n",
       "    <tr>\n",
       "      <th>153</th>\n",
       "      <td>ERG SECURITIES (US) LLC</td>\n",
       "      <td>1405976</td>\n",
       "    </tr>\n",
       "    <tr>\n",
       "      <th>154</th>\n",
       "      <td>EVERYDAY IMPACT CONSULTING</td>\n",
       "      <td>1423840</td>\n",
       "    </tr>\n",
       "    <tr>\n",
       "      <th>155</th>\n",
       "      <td>EWING, SANFORD</td>\n",
       "      <td>1392670</td>\n",
       "    </tr>\n",
       "  </tbody>\n",
       "</table>\n",
       "<p>156 rows × 2 columns</p>\n",
       "</div>"
      ],
      "text/plain": [
       "                                    name filer_id\n",
       "0                  ACALYX ADVISORS, INC.  1382165\n",
       "1                  ACCESS SECURITIES LLC  1336255\n",
       "2                    ACKLER & ASSOCIATES   F24625\n",
       "3            ACORN WEST ASSOCIATES, INC.  1435150\n",
       "4                     ACTUM CA OPCO, LLC  1442425\n",
       "..                                   ...      ...\n",
       "151                   ENGSTROM; JENNIFER  1443038\n",
       "152  ENVIRONMENTAL AND ENERGY CONSULTING  1371848\n",
       "153              ERG SECURITIES (US) LLC  1405976\n",
       "154           EVERYDAY IMPACT CONSULTING  1423840\n",
       "155                       EWING, SANFORD  1392670\n",
       "\n",
       "[156 rows x 2 columns]"
      ]
     },
     "execution_count": 4,
     "metadata": {},
     "output_type": "execute_result"
    }
   ],
   "source": [
    "import pandas as pd\n",
    "\n",
    "df = pd.read_csv(\"firms.csv\")\n",
    "df"
   ]
  },
  {
   "cell_type": "code",
   "execution_count": 6,
   "id": "c02d5330",
   "metadata": {},
   "outputs": [],
   "source": [
    "filer_id = 1382165\n",
    "\n",
    "url = f\"https://cal-access.sos.ca.gov/Lobbying/Firms/Detail.aspx?id={filer_id}&session=2021\""
   ]
  },
  {
   "cell_type": "code",
   "execution_count": 11,
   "id": "75e9f862",
   "metadata": {},
   "outputs": [],
   "source": [
    "from bs4 import BeautifulSoup\n",
    "import requests"
   ]
  },
  {
   "cell_type": "code",
   "execution_count": 15,
   "id": "695e96d6",
   "metadata": {},
   "outputs": [],
   "source": [
    "response = requests.get(url)\n",
    "doc = BeautifulSoup(response.text)"
   ]
  },
  {
   "cell_type": "code",
   "execution_count": null,
   "id": "13036d61",
   "metadata": {},
   "outputs": [],
   "source": []
  },
  {
   "cell_type": "code",
   "execution_count": 17,
   "id": "576f79fc",
   "metadata": {},
   "outputs": [
    {
     "data": {
      "text/plain": [
       "{'address_info': '295 MADISON AVENUE, SUITE 1714\\r\\n\\t\\tNEW YORK, NY 10017\\r\\n\\t\\tPhone: (212) 235-0879\\r\\n\\t\\tEmail: kvanderwoude@acalyx.com'}"
      ]
     },
     "execution_count": 17,
     "metadata": {},
     "output_type": "execute_result"
    }
   ],
   "source": [
    "data = {}\n",
    "data['address_info'] = doc.select(\".txt7\")[0].text\n",
    "data"
   ]
  },
  {
   "cell_type": "code",
   "execution_count": null,
   "id": "41b7bf2a",
   "metadata": {},
   "outputs": [],
   "source": [
    "import pandas as pd\n",
    "df = pd.head"
   ]
  }
 ],
 "metadata": {
  "kernelspec": {
   "display_name": "Python 3 (ipykernel)",
   "language": "python",
   "name": "python3"
  },
  "language_info": {
   "codemirror_mode": {
    "name": "ipython",
    "version": 3
   },
   "file_extension": ".py",
   "mimetype": "text/x-python",
   "name": "python",
   "nbconvert_exporter": "python",
   "pygments_lexer": "ipython3",
   "version": "3.11.0rc2"
  }
 },
 "nbformat": 4,
 "nbformat_minor": 5
}
