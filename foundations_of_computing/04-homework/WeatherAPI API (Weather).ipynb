{
 "cells": [
  {
   "cell_type": "markdown",
   "metadata": {},
   "source": [
    "# WeatherAPI (Weather)\n",
    "\n",
    "Answer the following questions using [WeatherAPI](http://www.weatherapi.com/). I've added three cells for most questions but you're free to use more or less! Hold `Shift` and hit `Enter` to run a cell, and use the `+` on the top left to add a new cell to a notebook.\n",
    "\n",
    "Be sure to take advantage of both the documentation and the API Explorer!\n",
    "\n",
    "## 0) Import any libraries you might need\n",
    "\n",
    "- *Tip: We're going to be downloading things from the internet, so we probably need `requests`.*\n",
    "- *Tip: Remember you only need to import requests once!*"
   ]
  },
  {
   "cell_type": "code",
   "execution_count": 219,
   "metadata": {
    "collapsed": true
   },
   "outputs": [],
   "source": [
    "import requests"
   ]
  },
  {
   "cell_type": "code",
   "execution_count": null,
   "metadata": {
    "collapsed": true
   },
   "outputs": [],
   "source": []
  },
  {
   "cell_type": "markdown",
   "metadata": {
    "collapsed": true
   },
   "source": [
    "## 1) Make a request to the Weather API for where you were born (or lived, or want to visit!).\n",
    "\n",
    "- *Tip: The URL we used in class was for a place near San Francisco. What was the format of the endpoint that made this happen?*\n",
    "- *Tip: Save the URL as a separate variable, and be sure to not have `[` and `]` inside.*\n",
    "- *Tip: How is north vs. south and east vs. west latitude/longitude represented? Is it the normal North/South/East/West?*\n",
    "- *Tip: You know it's JSON, but Python doesn't! Make sure you aren't trying to deal with plain text.* \n",
    "- *Tip: Once you've imported the JSON into a variable, check the timezone's name to make sure it seems like it got the right part of the world!*"
   ]
  },
  {
   "cell_type": "code",
   "execution_count": 220,
   "metadata": {
    "collapsed": true
   },
   "outputs": [],
   "source": [
    "cph_url = \"http://api.weatherapi.com/v1/current.json?key=9b5ac801b7294b5e9c4152459220511&q=Copenhagen&aqi=no\"\n",
    "\n",
    "response = requests.get(cph_url)"
   ]
  },
  {
   "cell_type": "markdown",
   "metadata": {},
   "source": []
  },
  {
   "cell_type": "code",
   "execution_count": 221,
   "metadata": {
    "collapsed": true
   },
   "outputs": [],
   "source": [
    "cph_weather = response.json()"
   ]
  },
  {
   "cell_type": "code",
   "execution_count": 222,
   "metadata": {
    "collapsed": true
   },
   "outputs": [
    {
     "name": "stdout",
     "output_type": "stream",
     "text": [
      "Europe/Copenhagen\n"
     ]
    }
   ],
   "source": [
    "print(cph_weather['location']['tz_id'])"
   ]
  },
  {
   "cell_type": "markdown",
   "metadata": {},
   "source": [
    "## 2) What's the current wind speed? How much warmer does it feel than it actually is?\n",
    "\n",
    "- *Tip: You can do this by browsing through the dictionaries, but it might be easier to read the documentation*\n",
    "- *Tip: For the second half: it **is** one temperature, and it **feels** a different temperature. Calculate the difference.*"
   ]
  },
  {
   "cell_type": "code",
   "execution_count": 223,
   "metadata": {},
   "outputs": [
    {
     "name": "stdout",
     "output_type": "stream",
     "text": [
      "The current wind speed is 24.1 kilometer per hour.\n"
     ]
    }
   ],
   "source": [
    "name = cph_weather['location']['name']\n",
    "wind_speed = cph_weather['current']['wind_kph']\n",
    "print(f\"The current wind speed is {wind_speed} kilometer per hour.\")"
   ]
  },
  {
   "cell_type": "code",
   "execution_count": 224,
   "metadata": {},
   "outputs": [],
   "source": [
    "current_temp = cph_weather['current']['temp_c']\n",
    "feelslike_temp = cph_weather['current']['feelslike_c']\n",
    "difference = abs(current_temp-feelslike_temp)"
   ]
  },
  {
   "cell_type": "code",
   "execution_count": 225,
   "metadata": {},
   "outputs": [
    {
     "name": "stdout",
     "output_type": "stream",
     "text": [
      "It feels 2.1 degrees celcius colder than it is\n"
     ]
    }
   ],
   "source": [
    "if current_temp > feelslike_temp:\n",
    "    print(f\"It feels {round(difference,1)} degrees celcius colder than it is\")\n",
    "elif current_temp < feelslike_temp:\n",
    "    print(f\"It feels {round(difference,1)} degrees celcius warmer than it is\")\n",
    "else:\n",
    "    print(f\"It is {current_temp} and it feels that way!\")"
   ]
  },
  {
   "cell_type": "markdown",
   "metadata": {},
   "source": [
    "## 3) What is the API endpoint for moon-related information? For the place you decided on above, how much of the moon will be visible tomorrow?\n",
    "\n",
    "- *Tip: Check the documentation!*\n",
    "- *Tip: If you aren't sure what something means, ask in Slack*"
   ]
  },
  {
   "cell_type": "markdown",
   "metadata": {},
   "source": [
    "The API endpoint for moon related information is:\n",
    "\n",
    "http://api.weatherapi.com/v1/forecast.json?key=1851a9df017a46edbf7165654220511&q=Copenhagen&days=1&aqi=no&alerts=no\n",
    "\n",
    "I use the forecast because it gives information about the moon phase which is not included in the astrology section. "
   ]
  },
  {
   "cell_type": "code",
   "execution_count": 226,
   "metadata": {},
   "outputs": [],
   "source": [
    "\n",
    "cph_forecast = \"http://api.weatherapi.com/v1/forecast.json?key=1851a9df017a46edbf7165654220511&q=Copenhagen&days=3&aqi=no&alerts=no\"\n",
    "\n",
    "response = requests.get(cph_forecast)\n",
    "cph_forecast = response.json()"
   ]
  },
  {
   "cell_type": "code",
   "execution_count": 227,
   "metadata": {},
   "outputs": [
    {
     "name": "stdout",
     "output_type": "stream",
     "text": [
      "Tomorrow there will be a Waxing Gibbous in Copenhagen.\n"
     ]
    }
   ],
   "source": [
    "tomorrow_moon = cph_forecast['forecast']['forecastday'][1]['astro']['moon_phase']\n",
    "print(f\"Tomorrow there will be a {tomorrow_moon} in {name}.\")"
   ]
  },
  {
   "cell_type": "markdown",
   "metadata": {},
   "source": [
    "## 4) What's the difference between the high and low temperatures for today?\n",
    "\n",
    "- *Tip: When you requested moon data, you probably overwrote your variables! If so, you'll need to make a new request.*"
   ]
  },
  {
   "cell_type": "code",
   "execution_count": 228,
   "metadata": {
    "collapsed": true
   },
   "outputs": [],
   "source": [
    "min_temp = cph_forecast['forecast']['forecastday'][0]['day']['mintemp_c']\n",
    "max_temp = cph_forecast['forecast']['forecastday'][0]['day']['maxtemp_c']"
   ]
  },
  {
   "cell_type": "code",
   "execution_count": 229,
   "metadata": {
    "collapsed": true
   },
   "outputs": [
    {
     "name": "stdout",
     "output_type": "stream",
     "text": [
      "The difference between the highest and lowest temperature today is 3.1 degrees celcius.\n"
     ]
    }
   ],
   "source": [
    "temp_diff = max_temp - min_temp\n",
    "\n",
    "print(f\"The difference between the highest and lowest temperature today is {round(temp_diff,2)} degrees celcius.\")"
   ]
  },
  {
   "cell_type": "markdown",
   "metadata": {
    "collapsed": true
   },
   "source": [
    "## 4.5) How can you avoid the \"oh no I don't have the data any more because I made another request\" problem in the future?\n",
    "\n",
    "What variable(s) do you have to rename, and what would you rename them?"
   ]
  },
  {
   "cell_type": "code",
   "execution_count": null,
   "metadata": {},
   "outputs": [],
   "source": []
  },
  {
   "cell_type": "code",
   "execution_count": null,
   "metadata": {},
   "outputs": [],
   "source": []
  },
  {
   "cell_type": "markdown",
   "metadata": {},
   "source": [
    "## 5) Go through the daily forecasts, printing out the next three days' worth of predictions.\n",
    "\n",
    "I'd like to know the **high temperature** for each day, and whether it's **hot, warm, or cold** (based on what temperatures you think are hot, warm or cold).\n",
    "\n",
    "- *Tip: You'll need to use an `if` statement to say whether it is hot, warm or cold.*"
   ]
  },
  {
   "cell_type": "code",
   "execution_count": 230,
   "metadata": {},
   "outputs": [
    {
     "name": "stdout",
     "output_type": "stream",
     "text": [
      "The maximum temperature for 2022-11-09 is 14.3\n",
      "It is cold 🥶\n",
      "The maximum temperature for 2022-11-10 is 13.4\n",
      "It is cold 🥶\n",
      "The maximum temperature for 2022-11-11 is 14.2\n",
      "It is cold 🥶\n"
     ]
    }
   ],
   "source": [
    "for days in cph_forecast['forecast']['forecastday']:\n",
    "    if days[\"day\"]:\n",
    "        print(f\"The maximum temperature for {days['date']} is {days['day']['maxtemp_c']}\")\n",
    "        if days['day']['maxtemp_c'] > 25:\n",
    "            print(\"It is hot\")\n",
    "        elif days['day']['maxtemp_c'] > 15:\n",
    "            print(\"It is warm\")\n",
    "        else:\n",
    "            print(\"It is cold 🥶\")"
   ]
  },
  {
   "cell_type": "code",
   "execution_count": null,
   "metadata": {},
   "outputs": [],
   "source": []
  },
  {
   "cell_type": "code",
   "execution_count": null,
   "metadata": {},
   "outputs": [],
   "source": []
  },
  {
   "cell_type": "markdown",
   "metadata": {},
   "source": [
    "## 5b) The question above used to be an entire week, but not any more. Try to re-use the code above to print out seven days.\n",
    "\n",
    "What happens? Can you figure out why it doesn't work?\n",
    "\n",
    "* *Tip: it has to do with the reason you're using an API key - maybe take a look at the \"Air Quality Data\" introduction for a hint? If you can't figure it out right now, no worries.*"
   ]
  },
  {
   "cell_type": "code",
   "execution_count": 231,
   "metadata": {},
   "outputs": [],
   "source": [
    "cph_7forecast = \"http://api.weatherapi.com/v1/forecast.json?key=1851a9df017a46edbf7165654220511&q=Copenhagen&days=7&aqi=no&alerts=no\"\n",
    "\n",
    "response = requests.get(cph_7forecast)\n",
    "cph_7forecast = response.json()"
   ]
  },
  {
   "cell_type": "code",
   "execution_count": 232,
   "metadata": {},
   "outputs": [
    {
     "name": "stdout",
     "output_type": "stream",
     "text": [
      "The maximum temperature for 2022-11-09 is 14.3\n",
      "It is cold 🥶\n",
      "The maximum temperature for 2022-11-10 is 13.4\n",
      "It is cold 🥶\n",
      "The maximum temperature for 2022-11-11 is 14.2\n",
      "It is cold 🥶\n",
      "The maximum temperature for 2022-11-12 is 14.6\n",
      "It is cold 🥶\n",
      "The maximum temperature for 2022-11-13 is 12.0\n",
      "It is cold 🥶\n",
      "The maximum temperature for 2022-11-14 is 12.5\n",
      "It is cold 🥶\n",
      "The maximum temperature for 2022-11-15 is 13.9\n",
      "It is cold 🥶\n"
     ]
    }
   ],
   "source": [
    "for days in cph_7forecast['forecast']['forecastday']:\n",
    "    if days[\"day\"]:\n",
    "        print(f\"The maximum temperature for {days['date']} is {days['day']['maxtemp_c']}\")\n",
    "        if days['day']['maxtemp_c'] > 25:\n",
    "            print(\"It is hot\")\n",
    "        elif days['day']['maxtemp_c'] > 15:\n",
    "            print(\"It is warm\")\n",
    "        else:\n",
    "            print(\"It is cold 🥶\")"
   ]
  },
  {
   "cell_type": "code",
   "execution_count": null,
   "metadata": {},
   "outputs": [],
   "source": []
  },
  {
   "cell_type": "markdown",
   "metadata": {},
   "source": [
    "## 6) What will be the hottest day in the next three days? What is the high temperature on that day?"
   ]
  },
  {
   "cell_type": "code",
   "execution_count": 233,
   "metadata": {},
   "outputs": [],
   "source": [
    "max_temp = 0"
   ]
  },
  {
   "cell_type": "code",
   "execution_count": 234,
   "metadata": {},
   "outputs": [],
   "source": [
    "for max in cph_forecast[\"forecast\"][\"forecastday\"]:\n",
    "    if max['day']['maxtemp_c'] > max_temp:\n",
    "        max_temp = max['day']['maxtemp_c']"
   ]
  },
  {
   "cell_type": "code",
   "execution_count": 235,
   "metadata": {},
   "outputs": [
    {
     "name": "stdout",
     "output_type": "stream",
     "text": [
      "2022-11-11 will be the hottest day in the next three days.\n",
      "The maximum temperature of that day will be 14.3 degree celcius\n"
     ]
    }
   ],
   "source": [
    "print(f\"{max['date']} will be the hottest day in the next three days.\")\n",
    "print(f\"The maximum temperature of that day will be {max_temp} degree celcius\")"
   ]
  },
  {
   "cell_type": "markdown",
   "metadata": {},
   "source": [
    "## 7) What's the weather looking like for the next 24+ hours in Miami, Florida?\n",
    "\n",
    "I'd like to know the temperature for every hour, and if it's going to have cloud cover of more than 50% say \"{temperature} and cloudy\" instead of just the temperature. \n",
    "\n",
    "- *Tip: You'll only need one day of forecast*"
   ]
  },
  {
   "cell_type": "code",
   "execution_count": 236,
   "metadata": {
    "collapsed": true
   },
   "outputs": [],
   "source": [
    "miami_forecast = \"http://api.weatherapi.com/v1/forecast.json?key=1851a9df017a46edbf7165654220511&q=Miami&days=1&aqi=no&alerts=no\"\n",
    "\n",
    "response = requests.get(miami_forecast)\n",
    "miami_forecast = response.json()"
   ]
  },
  {
   "cell_type": "code",
   "execution_count": 237,
   "metadata": {
    "collapsed": true
   },
   "outputs": [
    {
     "name": "stdout",
     "output_type": "stream",
     "text": [
      "At 2022-11-08 00:00 it is 24.1 degrees celsius and cloudy\n",
      "At 2022-11-08 01:00 it is 24.1 degrees celsius and cloudy\n",
      "At 2022-11-08 02:00 it is 24.1 degrees celsius and cloudy\n",
      "At 2022-11-08 03:00 it is 24.2 degrees celsius and cloudy\n",
      "At 2022-11-08 04:00 it is 24.2 degrees celsius and cloudy\n",
      "At 2022-11-08 05:00 it is 23.8 degrees celsius and cloudy\n",
      "At 2022-11-08 06:00 it is 23.8 degrees celsius and cloudy\n",
      "At 2022-11-08 07:00 it is 23.7 degrees celsius and cloudy\n",
      "At 2022-11-08 08:00 it is 23.9 degrees celsius and cloudy\n",
      "At 2022-11-08 09:00 it is 24.6 degrees celsius and cloudy\n",
      "At 2022-11-08 10:00 it is 25.6 degrees celsius and cloudy\n",
      "At 2022-11-08 11:00 it is 30.3 degrees celsius\n",
      "At 2022-11-08 12:00 it is 28.6 degrees celsius and cloudy\n",
      "At 2022-11-08 13:00 it is 29.0 degrees celsius\n",
      "At 2022-11-08 14:00 it is 29.1 degrees celsius\n",
      "At 2022-11-08 15:00 it is 31.4 degrees celsius\n",
      "At 2022-11-08 16:00 it is 27.6 degrees celsius and cloudy\n",
      "At 2022-11-08 17:00 it is 26.2 degrees celsius\n",
      "At 2022-11-08 18:00 it is 25.9 degrees celsius and cloudy\n",
      "At 2022-11-08 19:00 it is 25.4 degrees celsius and cloudy\n",
      "At 2022-11-08 20:00 it is 24.7 degrees celsius and cloudy\n",
      "At 2022-11-08 21:00 it is 24.4 degrees celsius and cloudy\n",
      "At 2022-11-08 22:00 it is 24.1 degrees celsius\n",
      "At 2022-11-08 23:00 it is 23.8 degrees celsius and cloudy\n"
     ]
    }
   ],
   "source": [
    "for hours in miami_forecast['forecast']['forecastday']:\n",
    "    for hour in hours[\"hour\"]:\n",
    "        if hour['cloud'] > 50:\n",
    "            print(f\"At {hour['time']} it is {hour['temp_c']} degrees celsius and cloudy\")\n",
    "        else:\n",
    "            print(f\"At {hour['time']} it is {hour['temp_c']} degrees celsius\")"
   ]
  },
  {
   "cell_type": "markdown",
   "metadata": {},
   "source": [
    "## 8) For the next 24-ish hours in Miami, what percent of the time is the temperature above 85 degrees?\n",
    "\n",
    "- *Tip: You might want to read up on [looping patterns](http://jonathansoma.com/lede/foundations-2017/classes/data%20structures/looping-patterns/)*"
   ]
  },
  {
   "cell_type": "code",
   "execution_count": 238,
   "metadata": {
    "collapsed": true
   },
   "outputs": [],
   "source": [
    "# First I define an empty variable\n",
    "temp = 0"
   ]
  },
  {
   "cell_type": "code",
   "execution_count": 239,
   "metadata": {
    "collapsed": true
   },
   "outputs": [],
   "source": [
    "# Then I create a for loop that adds 1 to the variable percent_temp if the temperature one hour is higher than 85\n",
    "for percents in miami_forecast['forecast']['forecastday']:\n",
    "    for percent in percents[\"hour\"]:\n",
    "        if hour['temp_f'] > 85:\n",
    "            temp = temp + 1        "
   ]
  },
  {
   "cell_type": "code",
   "execution_count": 240,
   "metadata": {
    "collapsed": true
   },
   "outputs": [
    {
     "name": "stdout",
     "output_type": "stream",
     "text": [
      "Within the next 24 hours, the temperature in Miami will be above 85 degrees 0.0 percent of the time.\n"
     ]
    }
   ],
   "source": [
    "# Then I create a new variable percent_temp which contains the percent of time where the temperature is above 85 degrees.\n",
    "percent_temp = temp/24*100\n",
    "\n",
    "print(f\"Within the next 24 hours, the temperature in Miami will be above 85 degrees {percent_temp} percent of the time.\")"
   ]
  },
  {
   "cell_type": "markdown",
   "metadata": {},
   "source": [
    "## 9) How much will it cost if you need to use 1,500,000 API calls?\n",
    "\n",
    "You are only allowed 1,000,000 API calls each month. If you were really bad at this homework or made some awful loops, WeatherAPI might shut down your free access. \n",
    "\n",
    "* *Tip: this involves looking somewhere that isn't the normal documentation.*"
   ]
  },
  {
   "cell_type": "markdown",
   "metadata": {},
   "source": [
    "According to the [pricing page](https://www.weatherapi.com/pricing.aspx) of wheather api's webpage, you can buy a subscription for $7 a month which allows you to make 3,000,000 calls per month. "
   ]
  },
  {
   "cell_type": "markdown",
   "metadata": {},
   "source": [
    "## 10) You're too poor to spend more money! What else could you do instead of give them money?\n",
    "\n",
    "* *Tip: I'm not endorsing being sneaky, but newsrooms and students are both generally poverty-stricken.*"
   ]
  },
  {
   "cell_type": "markdown",
   "metadata": {},
   "source": [
    "hmmm.... I would create a new email adress and make a new profile and repeat that process over and over again every time I run out of API calls. "
   ]
  }
 ],
 "metadata": {
  "kernelspec": {
   "display_name": "Python 3.11.0rc2 64-bit ('3.11.0rc2')",
   "language": "python",
   "name": "python3"
  },
  "language_info": {
   "codemirror_mode": {
    "name": "ipython",
    "version": 3
   },
   "file_extension": ".py",
   "mimetype": "text/x-python",
   "name": "python",
   "nbconvert_exporter": "python",
   "pygments_lexer": "ipython3",
   "version": "3.11.0"
  },
  "vscode": {
   "interpreter": {
    "hash": "fa07e5dff76123542c28abca75c0e47ea742948dbeeb360ccfbd2a5c7c277f8b"
   }
  }
 },
 "nbformat": 4,
 "nbformat_minor": 1
}
